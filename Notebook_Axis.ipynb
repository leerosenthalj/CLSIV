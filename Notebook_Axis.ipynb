{
 "cells": [
  {
   "cell_type": "code",
   "execution_count": 1,
   "metadata": {},
   "outputs": [],
   "source": [
    "import os\n",
    "import csv  \n",
    "import pdb\n",
    "from multiprocessing import Pool\n",
    "\n",
    "import numpy as np\n",
    "import pandas as pd\n",
    "import scipy.optimize as op\n",
    "import scipy.special as spec\n",
    "from scipy import stats\n",
    "from scipy.interpolate import RegularGridInterpolator\n",
    "import scipy.ndimage\n",
    "from scipy.stats import kstest\n",
    "\n",
    "import matplotlib\n",
    "import matplotlib.pyplot as plt\n",
    "import matplotlib.patheffects as path_effects\n",
    "from matplotlib.ticker import FuncFormatter, MaxNLocator\n",
    "from matplotlib import patches\n",
    "from matplotlib.patches import Rectangle\n",
    "import seaborn as sns\n",
    "import corner\n",
    "\n",
    "import astropy\n",
    "from astropy import stats as astrostats\n",
    "from astropy.timeseries import LombScargle\n",
    "\n",
    "import emcee\n",
    "#import celerite\n",
    "import radvel\n",
    "\n",
    "import rvsearch\n",
    "\n",
    "import occur\n",
    "from occur import Completeness, Hierarchy\n",
    "\n",
    "%matplotlib inline"
   ]
  },
  {
   "cell_type": "markdown",
   "metadata": {},
   "source": [
    "# Assuming a polished list of known planets and candidates in the legacy sample, explore and visualize properties such as mass, host star metallicity, etc."
   ]
  },
  {
   "cell_type": "code",
   "execution_count": 2,
   "metadata": {},
   "outputs": [],
   "source": [
    "sysprops = pd.read_csv('../CLSI/legacy_tables/system_props.csv')"
   ]
  },
  {
   "cell_type": "code",
   "execution_count": 3,
   "metadata": {},
   "outputs": [],
   "source": [
    "specmatch = pd.read_csv('~/Academics/Astronomy/Planets/CLSI/legacy_tables/legacy_specmatch_medians.csv')\n",
    "smsyn = specmatch.query('teff_emp > 4700')\n",
    "smemp = specmatch.query('teff_emp <= 4700')\n",
    "fe_select = specmatch['fe_c'].to_list()"
   ]
  },
  {
   "cell_type": "code",
   "execution_count": 4,
   "metadata": {},
   "outputs": [],
   "source": [
    "#objects = pd.read_csv('../CLSI/legacy_tables/planet_list.csv')\n",
    "# Now including GL 876 small inner planet in the sample, in this repo's tables.\n",
    "objects = pd.read_csv('legacy_tables/planet_list.csv')\n",
    "trends = pd.read_csv('../CLSI/legacy_tables/trend_list.csv')"
   ]
  },
  {
   "cell_type": "markdown",
   "metadata": {},
   "source": [
    "## Sort the planets into real, new candidates, known."
   ]
  },
  {
   "cell_type": "code",
   "execution_count": 5,
   "metadata": {},
   "outputs": [],
   "source": [
    "objects_real   = objects.query('status != \"N\" and status != \"A\" and status != \"R\"').reset_index(drop=True)\n",
    "objects_good   = objects_real.query('mass != \"nan\"').reset_index(drop=True)\n",
    "planets_s      = objects_good.query('(status == \"S\" or status == \"SS\") and mass > 10').reset_index(drop=True)\n",
    "planets        = objects_good.query('status != \"S\" and status != \"SS\"').reset_index(drop=True)\n",
    "planets_old    = planets.query('status == \"K\"').reset_index(drop=True)\n",
    "planets_new    = planets.query('status == \"C\" or status == \"J\"').reset_index(drop=True)"
   ]
  },
  {
   "cell_type": "markdown",
   "metadata": {},
   "source": [
    "## Get diggity with some occurrence work."
   ]
  },
  {
   "cell_type": "code",
   "execution_count": 6,
   "metadata": {},
   "outputs": [],
   "source": [
    "def lngrid(min_a, max_a, min_M, max_M, resa, resm):\n",
    "    lna1 = np.log(min_a)\n",
    "    lna2 = np.log(max_a)\n",
    "    lnM1 = np.log(min_M)\n",
    "    lnM2 = np.log(max_M)\n",
    "    \n",
    "    dlna = (lna2 - lna1)/resa\n",
    "    dlnM = (lnM2 - lnM1)/resm\n",
    "\n",
    "    bins = []\n",
    "    for i in np.arange(int(resa)):\n",
    "        for j in np.arange(int(resm)):\n",
    "            bins.append([[lna1 + i*dlna, lna1 + (i+1)*dlna], \n",
    "                         [lnM1 + j*dlnM, lnM1 + (j+1)*dlnM]])\n",
    "            \n",
    "    return np.array(bins)"
   ]
  },
  {
   "cell_type": "code",
   "execution_count": 7,
   "metadata": {},
   "outputs": [],
   "source": [
    "recoveries_all = pd.read_csv('../recovery_files/recoveries_all_earth.csv')\n",
    "completey_all  = Completeness(recoveries_all)"
   ]
  },
  {
   "cell_type": "code",
   "execution_count": 8,
   "metadata": {},
   "outputs": [],
   "source": [
    "samples_all = pd.read_csv('../legacy_samples/samples_all_1000.csv').sample(500).reset_index(drop=True)\n",
    "good_cols = [col for col in samples_all.columns if '_a' in col or '_M' in col]\n",
    "samples_all = samples_all[good_cols]\n",
    "samples_med = samples_all.median()\n",
    "planetnames = np.unique([x[:-2] + x[-1] for x in samples_all.columns]) \n",
    "\n",
    "# Trim out planets that don't belong in each sample.\n",
    "#columns_outers = [col for col in samples_all.columns if col[:-2] in list(supers.hostname)]\n",
    "#columns_small = [col for col in samples_all.columns if col[:-2] in list(all_outers.hostname)]\n",
    "columns_good = []\n",
    "for planet in planetnames:\n",
    "    a_col = planet[:-2] + '_a' + planet[-1]\n",
    "    M_col = planet[:-2] + '_M' + planet[-1]\n",
    "    if (samples_med[a_col] > 0.02) and (samples_med[M_col] > 0.09):\n",
    "        columns_good.append(a_col)\n",
    "        columns_good.append(M_col)\n",
    "        \n",
    "samples_all = samples_all[columns_good]\n",
    "\n",
    "for col in columns_good:\n",
    "    if '_M' in col:\n",
    "        samples_all[col] *= 317.8"
   ]
  },
  {
   "cell_type": "code",
   "execution_count": 9,
   "metadata": {},
   "outputs": [],
   "source": [
    "allbins = lngrid(0.03, 30., 30., 6000, 11, 1) \n",
    "hierarchical_one = Hierarchy(samples_all, completey_all, bins=allbins)\n",
    "hierarchical_one.max_like()"
   ]
  },
  {
   "cell_type": "code",
   "execution_count": 68,
   "metadata": {
    "collapsed": true
   },
   "outputs": [
    {
     "name": "stderr",
     "output_type": "stream",
     "text": [
      "100%|██████████| 1000/1000 [45:39<00:00,  2.74s/it]\n"
     ]
    }
   ],
   "source": [
    "hierarchical_one.sample(parallel=True, gp=False)"
   ]
  },
  {
   "cell_type": "code",
   "execution_count": 64,
   "metadata": {},
   "outputs": [
    {
     "data": {
      "text/plain": [
       "<matplotlib.legend.Legend at 0x7fb0f07d8fd0>"
      ]
     },
     "execution_count": 64,
     "metadata": {},
     "output_type": "execute_result"
    },
    {
     "data": {
      "image/png": "[encoded data removed]",
      "text/plain": [
       "<Figure size 432x288 with 1 Axes>"
      ]
     },
     "metadata": {
      "needs_background": "light"
     },
     "output_type": "display_data"
    }
   ],
   "source": [
    "matplotlib.rcParams.update({'font.size': 12})\n",
    "chains_db = pd.read_csv('occur_chains_11x1_1014.csv')\n",
    "\n",
    "binwidth = allbins[0][0][1] - allbins[0][0][0]\n",
    "\n",
    "# Do simple counting.\n",
    "simple_counts = []\n",
    "for n in np.arange(hierarchical_one.nbins):\n",
    "    a1 = np.exp(allbins[n][0][0])\n",
    "    a2 = np.exp(allbins[n][0][1])\n",
    "    npl = len(planets.query('mass >= 0.1 and axis >= @a1 and axis < @a2'))\n",
    "    simple_counts.append(npl)    \n",
    "simple_counts = np.array(simple_counts)*(100/719)/binwidth\n",
    "\n",
    "a_chains = np.empty((0, len(chains_db)))\n",
    "for n in np.arange(hierarchical_one.nbins):\n",
    "    a_chains = np.append(a_chains, np.array([chains_db['gamma{}'.format(n)]]), axis=0)\n",
    "a_chains *= hierarchical_one.bin_areas[0][0]*(100/719)/binwidth\n",
    "\n",
    "# Record modes & medians.\n",
    "a_medians = np.median(a_chains, axis=1)\n",
    "a_sqvars  = np.std(a_chains, axis=1)\n",
    "a_modes = []\n",
    "a_159 = []\n",
    "a_841 = []\n",
    "a_682 = []\n",
    "\n",
    "for n in np.arange(hierarchical_one.nbins):\n",
    "    chains = np.array([chains_db['gamma{}'.format(n)]])*hierarchical_one.bin_areas[0][0]*(100/719)\n",
    "    hist, bin_edges = np.histogram(chains, bins=40, range=(np.percentile(chains, 2), np.percentile(chains, 95)))\n",
    "    a_modes.append(bin_edges[np.argmax(hist)])\n",
    "    a_159.append(np.percentile(chains, 15.9))\n",
    "    a_841.append(np.percentile(chains, 84.1))\n",
    "    a_682.append(np.percentile(chains, 68.2))\n",
    "a_modes = np.array(a_modes)/binwidth\n",
    "a_159 = np.array(a_159)/binwidth\n",
    "a_841 = np.array(a_841)/binwidth\n",
    "a_682 = np.array(a_682)/binwidth\n",
    "\n",
    "#pdb.set_trace()\n",
    "\n",
    "fig, ax = plt.subplots()\n",
    "ax.set_xscale('log')\n",
    "ax.set_xticks((0.1, 0.3, 1, 3, 10, 30))\n",
    "ax.get_xaxis().set_major_formatter(matplotlib.ticker.ScalarFormatter())\n",
    "ax.get_xaxis().set_minor_formatter(matplotlib.ticker.NullFormatter())\n",
    "\n",
    "ax.set_xlabel(r'$a$ (AU)')\n",
    "ax.set_ylabel(r'$N_P$ / 100 stars / $\\Delta$ln($a$) (30 - 6000 $\\mathrm{M_{\\oplus}}$)')\n",
    "ax.set_xlim([np.exp(hierarchical_one.lna_edges[0]), np.exp(hierarchical_one.lna_edges[-1])])\n",
    "ax.set_ylim([0, 15])\n",
    "lnaw = hierarchical_one.lna_edges[1] - hierarchical_one.lna_edges[0]\n",
    "\n",
    "# Plot just-counting, no-completeness histogram.\n",
    "ax.step(np.insert(np.exp(hierarchical_one.lna_edges[:-1] + lnaw), 0, np.exp(hierarchical_one.lna_edges[0])), \n",
    "        np.insert(simple_counts, 0, simple_counts[0]), lw=2, c='blue', linestyle=':', label='Count')\n",
    "\n",
    "# Plot mode & 68.2% CI.\n",
    "ax.scatter(np.exp(hierarchical_one.lna_edges[:-1] + 0.5*lnaw), a_modes,\n",
    "           color='black', s=30, label='_nolegend_')#label='Occurrence mode & CI')\n",
    "ax.vlines(np.exp(hierarchical_one.lna_edges[:-2] + 0.5*lnaw), a_159[:-1],\n",
    "          a_841[:-1], alpha=0.5, color='black', lw=3, label='68.2%')\n",
    "# Show CI from 0 to 68.2 for the last bin.\n",
    "ax.vlines(np.exp(hierarchical_one.lna_edges[-2] + 0.5*lnaw), 0,\n",
    "          a_682[-1], alpha=0.5, color='black', lw=3, label='_nolegend_')\n",
    "\n",
    "# Plot occurrence histogram.\n",
    "ax.step(np.insert(np.exp(hierarchical_one.lna_edges[:-1] + lnaw), 0, np.exp(hierarchical_one.lna_edges[0])), \n",
    "        np.insert(a_modes, 0, a_modes[0]), color='black', lw=2, label='Occurrence')\n",
    "\n",
    "for i in np.arange(1000):\n",
    "    ax.step(np.insert(np.exp(hierarchical_one.lna_edges[:-1] + lnaw), 0, np.exp(hierarchical_one.lna_edges[0])), \n",
    "            np.insert(a_chains[:, np.random.randint(0, 10000)], 0, a_medians[0]), \n",
    "            color='black', lw=1, alpha=0.01, label='_nolegend_')\n",
    " \n",
    "ax.legend(loc=2) \n",
    "\n",
    "#fig.savefig('hist_11x1_1014_fancy_mode.png', dpi=1000, bbox_inches='tight')\n",
    "#fig.savefig('hist_11x1_1014_fancy_mode.pdf', bbox_inches='tight')"
   ]
  },
  {
   "cell_type": "markdown",
   "metadata": {},
   "source": [
    "## Split sample into giant singles & multis, compare axis distributions."
   ]
  },
  {
   "cell_type": "code",
   "execution_count": 7,
   "metadata": {},
   "outputs": [],
   "source": [
    "recoveries_single = pd.read_csv('../recovery_files/recoveries_giant_single_earth.csv')\n",
    "completey_single  = Completeness(recoveries_single)\n",
    "completey_single.completeness_grid([0.01, 40], [2, 9000])\n",
    "\n",
    "recoveries_multi = pd.read_csv('../recovery_files/recoveries_giant_multi_earth.csv')\n",
    "completey_multi  = Completeness(recoveries_multi)\n",
    "completey_multi.completeness_grid([0.01, 40], [2, 9000])\n",
    "\n",
    "recoveries_all = pd.read_csv('../recovery_files/recoveries_all_earth.csv')\n",
    "completey_all  = Completeness(recoveries_all)\n",
    "completey_all.completeness_grid([0.01, 40], [2, 9000])"
   ]
  },
  {
   "cell_type": "markdown",
   "metadata": {},
   "source": [
    "## Make sampling dataframes for single & multi subsets."
   ]
  },
  {
   "cell_type": "code",
   "execution_count": 8,
   "metadata": {},
   "outputs": [],
   "source": [
    "giants = planets.query('mass >= 0.1')\n",
    "warmys = giants.query('axis >= 0.1 and axis < 0.66')\n",
    "names = np.unique(giants.hostname)\n",
    "wnames = np.unique(warmys.hostname)\n",
    "trendnames = list(trends.hostname) + list(np.unique(planets_s.hostname))\n",
    "trendnames.remove('156668')\n",
    "trendnames.remove('34445')\n",
    "singles = []\n",
    "multis  = []\n",
    "wsingles = []\n",
    "wmultis  = []\n",
    "\n",
    "for name in names:\n",
    "    if len(giants.query('hostname == @name')) == 1:\n",
    "        singles.append(name)\n",
    "    else:\n",
    "        multis.append(name)\n",
    "        \n",
    "for name in wnames:\n",
    "    if len(giants.query('hostname == @name and axis >= 0.1')) == 1:\n",
    "        wsingles.append(name)\n",
    "    else:\n",
    "        wmultis.append(name)\n",
    "        \n",
    "giants_single = giants.query('hostname in @singles')\n",
    "giants_multi = giants.query('hostname in @multis')\n",
    "warmys_single = giants.query('hostname in @wsingles')\n",
    "warmys_multi = giants.query('hostname in @wmultis')\n",
    "\n",
    "\n",
    "giants_single_trend = giants.query('hostname in @singles and not hostname in @trendnames')\n",
    "giants_single_trend_yes = giants.query('hostname in @singles and hostname in @trendnames')\n",
    "giants_multi_trend = giants.query('hostname in @multis or hostname in @trendnames')\n",
    "\n",
    "warmys_single_trend = giants.query('hostname in @wsingles and not hostname in @trendnames')\n",
    "warmys_multi_trend = giants.query('hostname in @wmultis or hostname in @trendnames')\n",
    "\n",
    "singles_all = list(np.unique(giants_single_trend.hostname))\n",
    "multis_all  = list(np.unique(giants_multi_trend.hostname))"
   ]
  },
  {
   "cell_type": "code",
   "execution_count": 9,
   "metadata": {},
   "outputs": [
    {
     "data": {
      "text/html": [
       "<div>\n",
       "<style scoped>\n",
       "    .dataframe tbody tr th:only-of-type {\n",
       "        vertical-align: middle;\n",
       "    }\n",
       "\n",
       "    .dataframe tbody tr th {\n",
       "        vertical-align: top;\n",
       "    }\n",
       "\n",
       "    .dataframe thead th {\n",
       "        text-align: right;\n",
       "    }\n",
       "</style>\n",
       "<table border=\"1\" class=\"dataframe\">\n",
       "  <thead>\n",
       "    <tr style=\"text-align: right;\">\n",
       "      <th></th>\n",
       "      <th>Unnamed: 0</th>\n",
       "      <th>hostname</th>\n",
       "      <th>status</th>\n",
       "      <th>pl_index</th>\n",
       "      <th>mass</th>\n",
       "      <th>mass_med</th>\n",
       "      <th>mass_minus</th>\n",
       "      <th>mass_plus</th>\n",
       "      <th>axis</th>\n",
       "      <th>axis_med</th>\n",
       "      <th>...</th>\n",
       "      <th>e_68</th>\n",
       "      <th>insol</th>\n",
       "      <th>insol_med</th>\n",
       "      <th>insols_minus</th>\n",
       "      <th>insols_plus</th>\n",
       "      <th>teq</th>\n",
       "      <th>teq_med</th>\n",
       "      <th>teq_minus</th>\n",
       "      <th>teq_plus</th>\n",
       "      <th>post_path</th>\n",
       "    </tr>\n",
       "  </thead>\n",
       "  <tbody>\n",
       "    <tr>\n",
       "      <th>16</th>\n",
       "      <td>24</td>\n",
       "      <td>120136</td>\n",
       "      <td>K</td>\n",
       "      <td>1.0</td>\n",
       "      <td>4.298490</td>\n",
       "      <td>4.300469</td>\n",
       "      <td>4.225411</td>\n",
       "      <td>4.375587</td>\n",
       "      <td>0.048687</td>\n",
       "      <td>0.048691</td>\n",
       "      <td>...</td>\n",
       "      <td>0.010295</td>\n",
       "      <td>1367.422404</td>\n",
       "      <td>1366.903399</td>\n",
       "      <td>1277.162926</td>\n",
       "      <td>1461.387665</td>\n",
       "      <td>0.106361</td>\n",
       "      <td>0.106371</td>\n",
       "      <td>1277.162926</td>\n",
       "      <td>1461.387665</td>\n",
       "      <td>/data/user/lrosenth/legacy/final_run/120136/12...</td>\n",
       "    </tr>\n",
       "    <tr>\n",
       "      <th>19</th>\n",
       "      <td>31</td>\n",
       "      <td>126614</td>\n",
       "      <td>K</td>\n",
       "      <td>2.0</td>\n",
       "      <td>0.362820</td>\n",
       "      <td>0.355723</td>\n",
       "      <td>0.325338</td>\n",
       "      <td>0.387393</td>\n",
       "      <td>2.290922</td>\n",
       "      <td>2.291438</td>\n",
       "      <td>...</td>\n",
       "      <td>0.608016</td>\n",
       "      <td>0.274735</td>\n",
       "      <td>0.274536</td>\n",
       "      <td>0.253273</td>\n",
       "      <td>0.297712</td>\n",
       "      <td>0.893369</td>\n",
       "      <td>0.893531</td>\n",
       "      <td>0.253273</td>\n",
       "      <td>0.297712</td>\n",
       "      <td>/data/user/lrosenth/legacy/final_run/126614/12...</td>\n",
       "    </tr>\n",
       "    <tr>\n",
       "      <th>37</th>\n",
       "      <td>60</td>\n",
       "      <td>145934</td>\n",
       "      <td>K</td>\n",
       "      <td>1.0</td>\n",
       "      <td>2.069045</td>\n",
       "      <td>2.039347</td>\n",
       "      <td>1.809421</td>\n",
       "      <td>2.279885</td>\n",
       "      <td>4.723628</td>\n",
       "      <td>4.729761</td>\n",
       "      <td>...</td>\n",
       "      <td>0.082606</td>\n",
       "      <td>1.045723</td>\n",
       "      <td>1.043213</td>\n",
       "      <td>0.928609</td>\n",
       "      <td>1.179259</td>\n",
       "      <td>0.639595</td>\n",
       "      <td>0.639980</td>\n",
       "      <td>0.928609</td>\n",
       "      <td>1.179259</td>\n",
       "      <td>/data/user/lrosenth/legacy/final_run/145934/14...</td>\n",
       "    </tr>\n",
       "    <tr>\n",
       "      <th>73</th>\n",
       "      <td>123</td>\n",
       "      <td>195019</td>\n",
       "      <td>K</td>\n",
       "      <td>1.0</td>\n",
       "      <td>3.659636</td>\n",
       "      <td>3.655242</td>\n",
       "      <td>3.564412</td>\n",
       "      <td>3.744674</td>\n",
       "      <td>0.137595</td>\n",
       "      <td>0.137601</td>\n",
       "      <td>...</td>\n",
       "      <td>0.021344</td>\n",
       "      <td>125.096620</td>\n",
       "      <td>125.022174</td>\n",
       "      <td>114.479318</td>\n",
       "      <td>136.378507</td>\n",
       "      <td>0.193396</td>\n",
       "      <td>0.193425</td>\n",
       "      <td>114.479318</td>\n",
       "      <td>136.378507</td>\n",
       "      <td>/data/user/lrosenth/legacy/final_run/195019/19...</td>\n",
       "    </tr>\n",
       "    <tr>\n",
       "      <th>123</th>\n",
       "      <td>233</td>\n",
       "      <td>72659</td>\n",
       "      <td>K</td>\n",
       "      <td>1.0</td>\n",
       "      <td>2.822173</td>\n",
       "      <td>2.849142</td>\n",
       "      <td>2.733440</td>\n",
       "      <td>2.968966</td>\n",
       "      <td>4.645677</td>\n",
       "      <td>4.652452</td>\n",
       "      <td>...</td>\n",
       "      <td>0.278498</td>\n",
       "      <td>0.113990</td>\n",
       "      <td>0.113597</td>\n",
       "      <td>0.103829</td>\n",
       "      <td>0.124301</td>\n",
       "      <td>1.113122</td>\n",
       "      <td>1.114085</td>\n",
       "      <td>0.103829</td>\n",
       "      <td>0.124301</td>\n",
       "      <td>/data/user/lrosenth/legacy/final_run/72659/726...</td>\n",
       "    </tr>\n",
       "  </tbody>\n",
       "</table>\n",
       "<p>5 rows × 43 columns</p>\n",
       "</div>"
      ],
      "text/plain": [
       "     Unnamed: 0 hostname status  pl_index      mass  mass_med  mass_minus  \\\n",
       "16           24   120136      K       1.0  4.298490  4.300469    4.225411   \n",
       "19           31   126614      K       2.0  0.362820  0.355723    0.325338   \n",
       "37           60   145934      K       1.0  2.069045  2.039347    1.809421   \n",
       "73          123   195019      K       1.0  3.659636  3.655242    3.564412   \n",
       "123         233    72659      K       1.0  2.822173  2.849142    2.733440   \n",
       "\n",
       "     mass_plus      axis  axis_med  ...      e_68        insol    insol_med  \\\n",
       "16    4.375587  0.048687  0.048691  ...  0.010295  1367.422404  1366.903399   \n",
       "19    0.387393  2.290922  2.291438  ...  0.608016     0.274735     0.274536   \n",
       "37    2.279885  4.723628  4.729761  ...  0.082606     1.045723     1.043213   \n",
       "73    3.744674  0.137595  0.137601  ...  0.021344   125.096620   125.022174   \n",
       "123   2.968966  4.645677  4.652452  ...  0.278498     0.113990     0.113597   \n",
       "\n",
       "     insols_minus  insols_plus       teq   teq_med    teq_minus     teq_plus  \\\n",
       "16    1277.162926  1461.387665  0.106361  0.106371  1277.162926  1461.387665   \n",
       "19       0.253273     0.297712  0.893369  0.893531     0.253273     0.297712   \n",
       "37       0.928609     1.179259  0.639595  0.639980     0.928609     1.179259   \n",
       "73     114.479318   136.378507  0.193396  0.193425   114.479318   136.378507   \n",
       "123      0.103829     0.124301  1.113122  1.114085     0.103829     0.124301   \n",
       "\n",
       "                                             post_path  \n",
       "16   /data/user/lrosenth/legacy/final_run/120136/12...  \n",
       "19   /data/user/lrosenth/legacy/final_run/126614/12...  \n",
       "37   /data/user/lrosenth/legacy/final_run/145934/14...  \n",
       "73   /data/user/lrosenth/legacy/final_run/195019/19...  \n",
       "123  /data/user/lrosenth/legacy/final_run/72659/726...  \n",
       "\n",
       "[5 rows x 43 columns]"
      ]
     },
     "execution_count": 9,
     "metadata": {},
     "output_type": "execute_result"
    }
   ],
   "source": [
    "giants_single_trend_yes"
   ]
  },
  {
   "cell_type": "markdown",
   "metadata": {},
   "source": [
    "### Look into warm giant companions."
   ]
  },
  {
   "cell_type": "code",
   "execution_count": 12,
   "metadata": {},
   "outputs": [
    {
     "data": {
      "image/png": "[encoded data removed]",
      "text/plain": [
       "<Figure size 720x360 with 2 Axes>"
      ]
     },
     "metadata": {
      "needs_background": "light"
     },
     "output_type": "display_data"
    }
   ],
   "source": [
    "matplotlib.rcParams.update({'font.size': 18})\n",
    "fig, ax = plt.subplots(figsize=(10, 5))\n",
    "\n",
    "ax.set_xscale('log')\n",
    "ax.set_yscale('log')\n",
    "ax.set_xticks((0.1, 1, 10))\n",
    "ax.set_yticks((1, 10, 100, 1000, 10000))\n",
    "ax.get_xaxis().set_major_formatter(matplotlib.ticker.ScalarFormatter())\n",
    "ax.get_xaxis().set_minor_formatter(matplotlib.ticker.NullFormatter())\n",
    "ax.get_yaxis().set_major_formatter(matplotlib.ticker.ScalarFormatter())\n",
    "ax.get_yaxis().set_minor_formatter(matplotlib.ticker.NullFormatter())\n",
    "\n",
    "ax2 = ax.twinx()\n",
    "ax2.set_yscale('log')\n",
    "ax2.set_yticks((0.1, 1, 10, 100))\n",
    "ax2.get_xaxis().set_major_formatter(matplotlib.ticker.ScalarFormatter())\n",
    "ax2.get_xaxis().set_minor_formatter(matplotlib.ticker.NullFormatter())\n",
    "ax2.get_yaxis().set_major_formatter(matplotlib.ticker.ScalarFormatter())\n",
    "ax2.get_yaxis().set_minor_formatter(matplotlib.ticker.NullFormatter())\n",
    "\n",
    "matplotlib.rcParams.update({'font.size': 18})\n",
    "\n",
    "ax.scatter(warmys_single.axis_med, 317.8*warmys_single.mass_med, c='g', s=100, alpha=0.75, \n",
    "           label='{} lonely WJs'.format(len(warmys_single)))\n",
    "ax.scatter(warmys_multi.axis_med, 317.8*warmys_multi.mass_med, s=100, c='purple', alpha=0.75, \n",
    "           label='{} neighborly WJs'.format(len(warmys_multi)))\n",
    "ax.set_xlim([0.1, 10])\n",
    "ax.set_ylim([10, 10000])\n",
    "\n",
    "ymin, ymax = ax.get_ylim()\n",
    "ax2.set_ylim((ymin/317.8,ymax/317.8))\n",
    "ax2.plot([],[])\n",
    "\n",
    "matplotlib.rcParams.update({'font.size': 16})\n",
    "ax.set_xlabel(r'$a$ (AU)')\n",
    "ax.set_ylabel(r'$M$sin$i$ ($M_{\\oplus}$)')\n",
    "ax2.set_ylabel(r'$M$sin$i$ ($M_J$)')\n",
    "ax.legend(loc=4, fontsize=14)\n",
    "\n",
    "fig.savefig('plots/m_a_scatter_warmies.pdf', bbox_inches='tight')"
   ]
  },
  {
   "cell_type": "code",
   "execution_count": 10,
   "metadata": {},
   "outputs": [
    {
     "data": {
      "image/png": "[encoded data removed]",
      "text/plain": [
       "<Figure size 720x360 with 1 Axes>"
      ]
     },
     "metadata": {
      "needs_background": "light"
     },
     "output_type": "display_data"
    }
   ],
   "source": [
    "matplotlib.rcParams.update({'font.size': 18})\n",
    "fig, ax = plt.subplots(figsize=(10, 5))\n",
    "\n",
    "ax.set_xscale('log')\n",
    "ax.set_xticks((0.1, 1, 10))\n",
    "ax.get_xaxis().set_major_formatter(matplotlib.ticker.ScalarFormatter())\n",
    "ax.get_xaxis().set_minor_formatter(matplotlib.ticker.NullFormatter())\n",
    "\n",
    "matplotlib.rcParams.update({'font.size': 18})\n",
    "\n",
    "ax.scatter(warmys_single.axis_med, warmys_single.e_med, c='g', s=100, alpha=0.75, \n",
    "           label='{} lonely WJs'.format(len(warmys_single)))\n",
    "ax.scatter(warmys_multi.axis_med, warmys_multi.e_med, s=100, c='purple', alpha=0.75, \n",
    "           label='{} neighborly WJs'.format(len(warmys_multi)))\n",
    "ax.set_xlim([0.1, 10])\n",
    "ax.set_ylim([0, 1])\n",
    "\n",
    "ymin, ymax = ax.get_ylim()\n",
    "#ax2.set_ylim((ymin/317.8,ymax/317.8))\n",
    "#ax2.plot([],[])\n",
    "\n",
    "matplotlib.rcParams.update({'font.size': 16})\n",
    "ax.set_xlabel(r'$a$ (AU)')\n",
    "ax.set_ylabel(r'$e$')\n",
    "ax.legend(loc=1, fontsize=14)\n",
    "\n",
    "fig.savefig('plots/e_a_scatter_warmies.pdf', bbox_inches='tight')"
   ]
  },
  {
   "cell_type": "code",
   "execution_count": null,
   "metadata": {},
   "outputs": [],
   "source": []
  },
  {
   "cell_type": "code",
   "execution_count": 17,
   "metadata": {},
   "outputs": [
    {
     "name": "stdout",
     "output_type": "stream",
     "text": [
      "11 single warmies,  10 multi warmies\n"
     ]
    }
   ],
   "source": [
    "print(len(np.unique(warmys_single.hostname)), 'single warmies, ', len(np.unique(warmys_multi.hostname)), 'multi warmies')"
   ]
  },
  {
   "cell_type": "code",
   "execution_count": 10,
   "metadata": {},
   "outputs": [
    {
     "name": "stdout",
     "output_type": "stream",
     "text": [
      "65 60\n",
      "69 74\n"
     ]
    }
   ],
   "source": [
    "print(len(giants_single), len(giants_single_trend))\n",
    "print(len(giants_multi), len(giants_multi_trend))"
   ]
  },
  {
   "cell_type": "code",
   "execution_count": 12,
   "metadata": {},
   "outputs": [
    {
     "data": {
      "text/plain": [
       "['187123', '120136']"
      ]
     },
     "execution_count": 12,
     "metadata": {},
     "output_type": "execute_result"
    }
   ],
   "source": [
    "list(set(giants.query('axis <= 0.1').hostname) & set(trendnames))"
   ]
  },
  {
   "cell_type": "code",
   "execution_count": 34,
   "metadata": {},
   "outputs": [
    {
     "data": {
      "text/html": [
       "<div>\n",
       "<style scoped>\n",
       "    .dataframe tbody tr th:only-of-type {\n",
       "        vertical-align: middle;\n",
       "    }\n",
       "\n",
       "    .dataframe tbody tr th {\n",
       "        vertical-align: top;\n",
       "    }\n",
       "\n",
       "    .dataframe thead th {\n",
       "        text-align: right;\n",
       "    }\n",
       "</style>\n",
       "<table border=\"1\" class=\"dataframe\">\n",
       "  <thead>\n",
       "    <tr style=\"text-align: right;\">\n",
       "      <th></th>\n",
       "      <th>Unnamed: 0</th>\n",
       "      <th>hostname</th>\n",
       "      <th>status</th>\n",
       "      <th>pl_index</th>\n",
       "      <th>mass</th>\n",
       "      <th>mass_med</th>\n",
       "      <th>mass_minus</th>\n",
       "      <th>mass_plus</th>\n",
       "      <th>axis</th>\n",
       "      <th>axis_med</th>\n",
       "      <th>...</th>\n",
       "      <th>e_68</th>\n",
       "      <th>insol</th>\n",
       "      <th>insol_med</th>\n",
       "      <th>insols_minus</th>\n",
       "      <th>insols_plus</th>\n",
       "      <th>teq</th>\n",
       "      <th>teq_med</th>\n",
       "      <th>teq_minus</th>\n",
       "      <th>teq_plus</th>\n",
       "      <th>post_path</th>\n",
       "    </tr>\n",
       "  </thead>\n",
       "  <tbody>\n",
       "    <tr>\n",
       "      <th>16</th>\n",
       "      <td>24</td>\n",
       "      <td>120136</td>\n",
       "      <td>K</td>\n",
       "      <td>1.0</td>\n",
       "      <td>4.298490</td>\n",
       "      <td>4.300469</td>\n",
       "      <td>4.225411</td>\n",
       "      <td>4.375587</td>\n",
       "      <td>0.048687</td>\n",
       "      <td>0.048691</td>\n",
       "      <td>...</td>\n",
       "      <td>0.010295</td>\n",
       "      <td>1367.422404</td>\n",
       "      <td>1366.903399</td>\n",
       "      <td>1277.162926</td>\n",
       "      <td>1461.387665</td>\n",
       "      <td>0.106361</td>\n",
       "      <td>0.106371</td>\n",
       "      <td>1277.162926</td>\n",
       "      <td>1461.387665</td>\n",
       "      <td>/data/user/lrosenth/legacy/final_run/120136/12...</td>\n",
       "    </tr>\n",
       "    <tr>\n",
       "      <th>65</th>\n",
       "      <td>107</td>\n",
       "      <td>187123</td>\n",
       "      <td>K</td>\n",
       "      <td>1.0</td>\n",
       "      <td>0.500667</td>\n",
       "      <td>0.500908</td>\n",
       "      <td>0.485032</td>\n",
       "      <td>0.516744</td>\n",
       "      <td>0.041856</td>\n",
       "      <td>0.041856</td>\n",
       "      <td>...</td>\n",
       "      <td>0.005883</td>\n",
       "      <td>755.117521</td>\n",
       "      <td>754.982881</td>\n",
       "      <td>691.684522</td>\n",
       "      <td>823.385235</td>\n",
       "      <td>0.123383</td>\n",
       "      <td>0.123389</td>\n",
       "      <td>691.684522</td>\n",
       "      <td>823.385235</td>\n",
       "      <td>/data/user/lrosenth/legacy/final_run/187123/18...</td>\n",
       "    </tr>\n",
       "    <tr>\n",
       "      <th>150</th>\n",
       "      <td>279</td>\n",
       "      <td>9826</td>\n",
       "      <td>K</td>\n",
       "      <td>1.0</td>\n",
       "      <td>0.674950</td>\n",
       "      <td>0.675053</td>\n",
       "      <td>0.659440</td>\n",
       "      <td>0.690768</td>\n",
       "      <td>0.059136</td>\n",
       "      <td>0.059137</td>\n",
       "      <td>...</td>\n",
       "      <td>0.010037</td>\n",
       "      <td>970.423046</td>\n",
       "      <td>970.110927</td>\n",
       "      <td>885.564317</td>\n",
       "      <td>1060.665474</td>\n",
       "      <td>0.115883</td>\n",
       "      <td>0.115892</td>\n",
       "      <td>885.564317</td>\n",
       "      <td>1060.665474</td>\n",
       "      <td>/data/user/lrosenth/legacy/final_run/9826/9826...</td>\n",
       "    </tr>\n",
       "  </tbody>\n",
       "</table>\n",
       "<p>3 rows × 43 columns</p>\n",
       "</div>"
      ],
      "text/plain": [
       "     Unnamed: 0 hostname status  pl_index      mass  mass_med  mass_minus  \\\n",
       "16           24   120136      K       1.0  4.298490  4.300469    4.225411   \n",
       "65          107   187123      K       1.0  0.500667  0.500908    0.485032   \n",
       "150         279     9826      K       1.0  0.674950  0.675053    0.659440   \n",
       "\n",
       "     mass_plus      axis  axis_med  ...      e_68        insol    insol_med  \\\n",
       "16    4.375587  0.048687  0.048691  ...  0.010295  1367.422404  1366.903399   \n",
       "65    0.516744  0.041856  0.041856  ...  0.005883   755.117521   754.982881   \n",
       "150   0.690768  0.059136  0.059137  ...  0.010037   970.423046   970.110927   \n",
       "\n",
       "     insols_minus  insols_plus       teq   teq_med    teq_minus     teq_plus  \\\n",
       "16    1277.162926  1461.387665  0.106361  0.106371  1277.162926  1461.387665   \n",
       "65     691.684522   823.385235  0.123383  0.123389   691.684522   823.385235   \n",
       "150    885.564317  1060.665474  0.115883  0.115892   885.564317  1060.665474   \n",
       "\n",
       "                                             post_path  \n",
       "16   /data/user/lrosenth/legacy/final_run/120136/12...  \n",
       "65   /data/user/lrosenth/legacy/final_run/187123/18...  \n",
       "150  /data/user/lrosenth/legacy/final_run/9826/9826...  \n",
       "\n",
       "[3 rows x 43 columns]"
      ]
     },
     "execution_count": 34,
     "metadata": {},
     "output_type": "execute_result"
    }
   ],
   "source": [
    "giants_multi_trend.query('axis <= 0.06')"
   ]
  },
  {
   "cell_type": "code",
   "execution_count": 17,
   "metadata": {},
   "outputs": [
    {
     "data": {
      "text/plain": [
       "16        120136\n",
       "22        130322\n",
       "55        168746\n",
       "62        179949\n",
       "65        187123\n",
       "68        189733\n",
       "74        209458\n",
       "78        217014\n",
       "79        217107\n",
       "110        46375\n",
       "111        49674\n",
       "118        68988\n",
       "150         9826\n",
       "167    bd-103166\n",
       "172        83443\n",
       "Name: hostname, dtype: object"
      ]
     },
     "execution_count": 17,
     "metadata": {},
     "output_type": "execute_result"
    }
   ],
   "source": [
    "giants.query('axis <= 0.1').hostname"
   ]
  },
  {
   "cell_type": "code",
   "execution_count": 14,
   "metadata": {},
   "outputs": [
    {
     "data": {
      "text/plain": [
       "['195019', '145934', '34445', '156668']"
      ]
     },
     "execution_count": 14,
     "metadata": {},
     "output_type": "execute_result"
    }
   ],
   "source": [
    "list(list(set(giants_single.hostname)-set(giants_single_trend.hostname)) + list(set(giants_single_trend.hostname)-set(giants_single.hostname)))"
   ]
  },
  {
   "cell_type": "code",
   "execution_count": 15,
   "metadata": {},
   "outputs": [
    {
     "data": {
      "text/plain": [
       "['195019', '145934', '34445', '156668']"
      ]
     },
     "execution_count": 15,
     "metadata": {},
     "output_type": "execute_result"
    }
   ],
   "source": [
    "list(list(set(giants_multi.hostname)-set(giants_multi_trend.hostname)) + list(set(giants_multi_trend.hostname)-set(giants_multi.hostname)))"
   ]
  },
  {
   "cell_type": "code",
   "execution_count": 12,
   "metadata": {},
   "outputs": [],
   "source": [
    "samples_all = pd.read_csv('../legacy_samples/samples_all_joker.csv').sample(500).reset_index(drop=True)\n",
    "samples_med = samples_all.median()\n",
    "\n",
    "columns = [col for col in samples_all.columns if ('_M' in col or '_a' in col)]\n",
    "samples_all = samples_all[columns]\n",
    "planetnames = np.unique([x[:-2] + x[-1] for x in samples_all.columns]) \n",
    "\n",
    "columns_single = []\n",
    "columns_multi  = []\n",
    "for planet in planetnames:\n",
    "    a_col = planet[:-2] + '_a' + planet[-1]\n",
    "    M_col = planet[:-2] + '_M' + planet[-1]\n",
    "    if (samples_med[M_col] > 0.08) and planet[:-2] in singles:#singles_all:\n",
    "        columns_single.append(a_col)\n",
    "        columns_single.append(M_col)\n",
    "    elif (samples_med[M_col] > 0.08) and planet[:-2] in multis: #multis_all:\n",
    "        columns_multi.append(a_col)\n",
    "        columns_multi.append(M_col)\n",
    "\n",
    "\n",
    "samples_single = samples_all[columns_single]\n",
    "for col in columns_single:\n",
    "    if '_M' in col:\n",
    "        samples_single[col] *= 317.8\n",
    "        \n",
    "samples_multi = samples_all[columns_multi]\n",
    "for col in columns_multi:\n",
    "    if '_M' in col:\n",
    "        samples_multi[col] *= 317.8"
   ]
  },
  {
   "cell_type": "code",
   "execution_count": 17,
   "metadata": {},
   "outputs": [],
   "source": [
    "allbins = lngrid(0.03, 30., 30., 6000, 11, 1) \n",
    "hierarchical_single = Hierarchy(samples_single, completey_all, bins=allbins, \n",
    "                                chainname='occur_chains/occur_chains_giants_single_trend_11x1.csv')\n",
    "hierarchical_single.max_like()"
   ]
  },
  {
   "cell_type": "code",
   "execution_count": 18,
   "metadata": {},
   "outputs": [
    {
     "name": "stderr",
     "output_type": "stream",
     "text": [
      "100%|██████████| 1000/1000 [24:51<00:00,  1.49s/it]\n"
     ]
    }
   ],
   "source": [
    "hierarchical_single.sample(parallel=True, gp=False)"
   ]
  },
  {
   "cell_type": "code",
   "execution_count": 19,
   "metadata": {},
   "outputs": [],
   "source": [
    "hierarchical_multi = Hierarchy(samples_multi, completey_all, bins=allbins, \n",
    "                                chainname='occur_chains/occur_chains_giants_multi_trend_11x1.csv')\n",
    "hierarchical_multi.max_like()"
   ]
  },
  {
   "cell_type": "code",
   "execution_count": 20,
   "metadata": {},
   "outputs": [
    {
     "name": "stderr",
     "output_type": "stream",
     "text": [
      "100%|██████████| 1000/1000 [28:12<00:00,  1.69s/it]\n"
     ]
    }
   ],
   "source": [
    "hierarchical_multi.sample(parallel=True, gp=False)"
   ]
  },
  {
   "cell_type": "code",
   "execution_count": 92,
   "metadata": {},
   "outputs": [
    {
     "data": {
      "text/plain": [
       "array([[0.3367329 , 0.3367329 ],\n",
       "       [1.03598275, 0.59812492],\n",
       "       [1.42954374, 0.71477187],\n",
       "       [1.49205089, 0.74602545],\n",
       "       [1.58171446, 0.79085723],\n",
       "       [6.82751003, 1.70687751],\n",
       "       [3.25838182, 1.23155257],\n",
       "       [7.54876455, 2.01749219],\n",
       "       [7.96299569, 2.40093354],\n",
       "       [5.17893226, 2.58946613],\n",
       "       [0.01      , 1.        ]])"
      ]
     },
     "execution_count": 92,
     "metadata": {},
     "output_type": "execute_result"
    }
   ],
   "source": [
    "hierarchical_multi.mlvalues[:, 0]"
   ]
  },
  {
   "cell_type": "code",
   "execution_count": 98,
   "metadata": {},
   "outputs": [
    {
     "data": {
      "text/plain": [
       "array([5.17893226, 5.17893226, 0.01      ])"
      ]
     },
     "execution_count": 98,
     "metadata": {},
     "output_type": "execute_result"
    }
   ],
   "source": [
    "hierarchical_multi.occurrence(np.log([10, 10, 25]), np.log([300, 300, 300]), hierarchical_multi.mlvalues[:, 0])"
   ]
  },
  {
   "cell_type": "code",
   "execution_count": 100,
   "metadata": {},
   "outputs": [
    {
     "data": {
      "text/plain": [
       "array([9.07898322e-01, 9.07898322e-01, 1.29903192e-04])"
      ]
     },
     "execution_count": 100,
     "metadata": {},
     "output_type": "execute_result"
    }
   ],
   "source": [
    "hierarchical_multi.completeness.interpolate([10, 10, 25], [300, 300, 300])*hierarchical_multi.occurrence(np.log([10, 10, 25]), np.log([300, 300, 300]), hierarchical_multi.mlvalues[:, 0])"
   ]
  },
  {
   "cell_type": "code",
   "execution_count": 123,
   "metadata": {},
   "outputs": [
    {
     "data": {
      "image/png": "[encoded data removed]",
      "text/plain": [
       "<Figure size 432x288 with 1 Axes>"
      ]
     },
     "metadata": {
      "needs_background": "light"
     },
     "output_type": "display_data"
    }
   ],
   "source": [
    "matplotlib.rcParams.update({'font.size': 14})\n",
    "chains_db_single = pd.read_csv('occur_chains/occur_chains_giants_single_11x1.csv')\n",
    "chains_db_multi  = pd.read_csv('occur_chains/occur_chains_giants_multi_11x1.csv')\n",
    "\n",
    "binwidth = allbins[0][0][1] - allbins[0][0][0]\n",
    "\n",
    "a_chains = np.empty((0, len(chains_db_single)))\n",
    "for n in np.arange(hierarchical_single.nbins):\n",
    "    a_chains = np.append(a_chains, np.array([chains_db_single['gamma{}'.format(n)]]), axis=0)\n",
    "a_chains *= hierarchical_single.bin_areas[0][0]*(100/719)\n",
    "\n",
    "# Record modes & medians.\n",
    "a_medians = np.median(a_chains, axis=1)\n",
    "a_sqvars  = np.std(a_chains, axis=1)\n",
    "a_modes = []\n",
    "a_159 = []\n",
    "a_841 = []\n",
    "a_682 = []\n",
    "\n",
    "for n in np.arange(hierarchical_single.nbins):\n",
    "    chains = np.array([chains_db_single['gamma{}'.format(n)]])*hierarchical_single.bin_areas[0][0]*(100/719)\n",
    "    hist, bin_edges = np.histogram(chains, bins=40, range=(np.percentile(chains, 2), np.percentile(chains, 95)))\n",
    "    a_modes.append(bin_edges[np.argmax(hist)])\n",
    "    a_159.append(np.percentile(chains, 15.9))\n",
    "    a_841.append(np.percentile(chains, 84.1))\n",
    "    a_682.append(np.percentile(chains, 68.2))\n",
    "a_modes = np.array(a_modes)#/binwidth\n",
    "a_159 = np.array(a_159)#/binwidth\n",
    "a_841 = np.array(a_841)#/binwidth\n",
    "a_682 = np.array(a_682)#/binwidth\n",
    "\n",
    "fig, ax = plt.subplots()\n",
    "ax.set_xscale('log')\n",
    "ax.set_xticks((0.1, 0.3, 1, 3, 10, 30))\n",
    "ax.get_xaxis().set_major_formatter(matplotlib.ticker.ScalarFormatter())\n",
    "ax.get_xaxis().set_minor_formatter(matplotlib.ticker.NullFormatter())\n",
    "\n",
    "ax.set_xlabel(r'$a$ (au)')\n",
    "ax.set_ylabel(r'$N_P$ / 100 stars (30 - 6000 $\\mathrm{M_{\\oplus}}$)')\n",
    "ax.set_xlim([np.exp(hierarchical_single.lna_edges[0]), np.exp(hierarchical_single.lna_edges[-1])])\n",
    "ax.set_ylim([0, 10])\n",
    "lnaw = hierarchical_single.lna_edges[1] - hierarchical_single.lna_edges[0]\n",
    "\n",
    "# Plot mode & 68.2% CI.\n",
    "ax.scatter(np.exp(hierarchical_single.lna_edges[:-1] + 0.5*lnaw), a_modes,\n",
    "           color='green', s=30, label='_nolegend_')#label='Occurrence mode & CI')\n",
    "ax.vlines(np.exp(hierarchical_single.lna_edges[:-1] + 0.5*lnaw), a_159,\n",
    "          a_841, alpha=0.5, color='green', lw=3, label='_nolegend_')\n",
    "\n",
    "# Plot occurrence histogram.\n",
    "ax.step(np.insert(np.exp(hierarchical_single.lna_edges[:-1] + lnaw), 0, np.exp(hierarchical_single.lna_edges[0])), \n",
    "        np.insert(a_modes, 0, a_modes[0]), color='green', lw=2, label=r'Single giants')\n",
    " \n",
    "\n",
    "a_chains_multi = np.empty((0, len(chains_db_multi)))\n",
    "for n in np.arange(hierarchical_multi.nbins):\n",
    "    a_chains_multi = np.append(a_chains_multi, np.array([chains_db_multi['gamma{}'.format(n)]]), axis=0)\n",
    "a_chains_multi *= hierarchical_multi.bin_areas[0][0]*(100/719)\n",
    "\n",
    "# Record modes & medians.\n",
    "a_medians = np.median(a_chains_multi, axis=1)\n",
    "a_sqvars  = np.std(a_chains_multi, axis=1)\n",
    "a_modes = []\n",
    "a_159 = []\n",
    "a_841 = []\n",
    "a_682 = []\n",
    "\n",
    "for n in np.arange(hierarchical_multi.nbins):\n",
    "    chains = np.array([chains_db_multi['gamma{}'.format(n)]])*hierarchical_multi.bin_areas[0][0]*(100/719)\n",
    "    hist, bin_edges = np.histogram(chains, bins=40, range=(np.percentile(chains, 2), np.percentile(chains, 95)))\n",
    "    a_modes.append(bin_edges[np.argmax(hist)])\n",
    "    a_159.append(np.percentile(chains, 15.9))\n",
    "    a_841.append(np.percentile(chains, 84.1))\n",
    "    a_682.append(np.percentile(chains, 68.2))\n",
    "a_modes = np.array(a_modes)#/binwidth\n",
    "a_159 = np.array(a_159)#/binwidth\n",
    "a_841 = np.array(a_841)#/binwidth\n",
    "a_682 = np.array(a_682)#/binwidth\n",
    "\n",
    "#ax.set_xlim([np.exp(hierarchical_multi.lna_edges[0]), np.exp(hierarchical_multi.lna_edges[-1])])\n",
    "ax.set_xlim([np.exp(hierarchical_multi.lna_edges[0]), 15.7])\n",
    "ax.set_ylim([0, 6])\n",
    "lnaw = hierarchical_multi.lna_edges[1] - hierarchical_multi.lna_edges[0]\n",
    "\n",
    "# Plot mode & 68.2% CI.\n",
    "ax.scatter(np.exp(hierarchical_multi.lna_edges[:-1] + 0.5*lnaw), a_modes,\n",
    "           color='purple', s=30, label='_nolegend_')\n",
    "ax.vlines(np.exp(hierarchical_multi.lna_edges[:-2] + 0.5*lnaw), a_159[:-1],\n",
    "          a_841[:-1], alpha=0.5, color='purple', lw=3, label='_nolegend_')\n",
    "ax.vlines(np.exp(hierarchical_multi.lna_edges[-2] + 0.5*lnaw), 0,\n",
    "          a_682[-1], alpha=0.5, color='purple', lw=3, label='_nolegend_')\n",
    "\n",
    "# Plot occurrence histogram.\n",
    "ax.step(np.insert(np.exp(hierarchical_multi.lna_edges[:-1] + lnaw), 0, np.exp(hierarchical_multi.lna_edges[0])), \n",
    "        np.insert(a_modes, 0, a_modes[0]), color='purple', lw=2, label=r'Multi giants')    \n",
    "    \n",
    "    \n",
    "ax.legend(loc=2, fontsize=12) \n",
    "#fig.savefig('plots/single_and_multi_giants_axis.png', dpi=1000, bbox_inches='tight')\n",
    "#fig.savefig('plots/single_and_multi_giants_axis.pdf', bbox_inches='tight')"
   ]
  },
  {
   "cell_type": "code",
   "execution_count": 27,
   "metadata": {},
   "outputs": [
    {
     "data": {
      "image/png": "[encoded data removed]",
      "text/plain": [
       "<Figure size 432x288 with 1 Axes>"
      ]
     },
     "metadata": {
      "needs_background": "light"
     },
     "output_type": "display_data"
    }
   ],
   "source": [
    "matplotlib.rcParams.update({'font.size': 14})\n",
    "chains_db_single = pd.read_csv('occur_chains/occur_chains_giants_single_trend_11x1.csv')\n",
    "chains_db_multi  = pd.read_csv('occur_chains/occur_chains_giants_multi_trend_11x1.csv')\n",
    "\n",
    "binwidth = allbins[0][0][1] - allbins[0][0][0]\n",
    "\n",
    "a_chains = np.empty((0, len(chains_db_single)))\n",
    "for n in np.arange(hierarchical_single.nbins):\n",
    "    a_chains = np.append(a_chains, np.array([chains_db_single['gamma{}'.format(n)]]), axis=0)\n",
    "a_chains *= hierarchical_single.bin_areas[0][0]*(100/719)\n",
    "\n",
    "# Record modes & medians.\n",
    "a_medians = np.median(a_chains, axis=1)\n",
    "a_sqvars  = np.std(a_chains, axis=1)\n",
    "a_modes = []\n",
    "a_159 = []\n",
    "a_841 = []\n",
    "a_682 = []\n",
    "\n",
    "for n in np.arange(hierarchical_single.nbins):\n",
    "    chains = np.array([chains_db_single['gamma{}'.format(n)]])*hierarchical_single.bin_areas[0][0]*(100/719)\n",
    "    hist, bin_edges = np.histogram(chains, bins=40, range=(np.percentile(chains, 2), np.percentile(chains, 95)))\n",
    "    a_modes.append(bin_edges[np.argmax(hist)])\n",
    "    a_159.append(np.percentile(chains, 15.9))\n",
    "    a_841.append(np.percentile(chains, 84.1))\n",
    "    a_682.append(np.percentile(chains, 68.2))\n",
    "a_modes = np.array(a_modes)#/binwidth\n",
    "a_159 = np.array(a_159)#/binwidth\n",
    "a_841 = np.array(a_841)#/binwidth\n",
    "a_682 = np.array(a_682)#/binwidth\n",
    "\n",
    "fig, ax = plt.subplots()\n",
    "ax.set_xscale('log')\n",
    "ax.set_xticks((0.1, 0.3, 1, 3, 10, 30))\n",
    "ax.get_xaxis().set_major_formatter(matplotlib.ticker.ScalarFormatter())\n",
    "ax.get_xaxis().set_minor_formatter(matplotlib.ticker.NullFormatter())\n",
    "\n",
    "ax.set_xlabel(r'$a$ (au)')\n",
    "ax.set_ylabel(r'$N_P$ / 100 stars (30 - 6000 $\\mathrm{M_{\\oplus}}$)')\n",
    "ax.set_xlim([np.exp(hierarchical_single.lna_edges[0]), np.exp(hierarchical_single.lna_edges[-1])])\n",
    "ax.set_ylim([0, 10])\n",
    "lnaw = hierarchical_single.lna_edges[1] - hierarchical_single.lna_edges[0]\n",
    "\n",
    "# Plot mode & 68.2% CI.\n",
    "ax.scatter(np.exp(hierarchical_single.lna_edges[:-1] + 0.5*lnaw), a_modes,\n",
    "           color='green', s=30, label='_nolegend_')#label='Occurrence mode & CI')\n",
    "ax.vlines(np.exp(hierarchical_single.lna_edges[:-1] + 0.5*lnaw), a_159,\n",
    "          a_841, alpha=0.5, color='green', lw=3, label='_nolegend_')\n",
    "\n",
    "# Plot occurrence histogram.\n",
    "ax.step(np.insert(np.exp(hierarchical_single.lna_edges[:-1] + lnaw), 0, np.exp(hierarchical_single.lna_edges[0])), \n",
    "        np.insert(a_modes, 0, a_modes[0]), color='green', lw=2, ls=':', label=r'Lonely giants')\n",
    " \n",
    "\n",
    "a_chains_multi = np.empty((0, len(chains_db_multi)))\n",
    "for n in np.arange(hierarchical_multi.nbins):\n",
    "    a_chains_multi = np.append(a_chains_multi, np.array([chains_db_multi['gamma{}'.format(n)]]), axis=0)\n",
    "a_chains_multi *= hierarchical_multi.bin_areas[0][0]*(100/719)\n",
    "\n",
    "# Record modes & medians.\n",
    "a_medians = np.median(a_chains_multi, axis=1)\n",
    "a_sqvars  = np.std(a_chains_multi, axis=1)\n",
    "a_modes = []\n",
    "a_159 = []\n",
    "a_841 = []\n",
    "a_682 = []\n",
    "\n",
    "for n in np.arange(hierarchical_multi.nbins):\n",
    "    chains = np.array([chains_db_multi['gamma{}'.format(n)]])*hierarchical_multi.bin_areas[0][0]*(100/719)\n",
    "    hist, bin_edges = np.histogram(chains, bins=40, range=(np.percentile(chains, 2), np.percentile(chains, 95)))\n",
    "    a_modes.append(bin_edges[np.argmax(hist)])\n",
    "    a_159.append(np.percentile(chains, 15.9))\n",
    "    a_841.append(np.percentile(chains, 84.1))\n",
    "    a_682.append(np.percentile(chains, 68.2))\n",
    "a_modes = np.array(a_modes)\n",
    "a_159 = np.array(a_159)\n",
    "a_841 = np.array(a_841)\n",
    "a_682 = np.array(a_682)\n",
    "\n",
    "#ax.set_xlim([np.exp(hierarchical_multi.lna_edges[0]), np.exp(hierarchical_multi.lna_edges[-1])])\n",
    "ax.set_xlim([np.exp(hierarchical_multi.lna_edges[0]), 15.7])\n",
    "ax.set_ylim([0, 6])\n",
    "lnaw = hierarchical_multi.lna_edges[1] - hierarchical_multi.lna_edges[0]\n",
    "\n",
    "# Plot mode & 68.2% CI.\n",
    "ax.scatter(np.exp(hierarchical_multi.lna_edges[:-1] + 0.5*lnaw), a_modes,\n",
    "           color='purple', s=30, label='_nolegend_')\n",
    "ax.vlines(np.exp(hierarchical_multi.lna_edges[:-2] + 0.5*lnaw), a_159[:-1],\n",
    "          a_841[:-1], alpha=0.5, color='purple', lw=3, label='_nolegend_')\n",
    "ax.vlines(np.exp(hierarchical_multi.lna_edges[-2] + 0.5*lnaw), 0,\n",
    "          a_682[-1], alpha=0.5, color='purple', lw=3, label='_nolegend_')\n",
    "\n",
    "# Plot occurrence histogram.\n",
    "ax.step(np.insert(np.exp(hierarchical_multi.lna_edges[:-1] + lnaw), 0, np.exp(hierarchical_multi.lna_edges[0])), \n",
    "        np.insert(a_modes, 0, a_modes[0]), color='purple', lw=2, ls=':', label=r'Giants with companions')    \n",
    "    \n",
    "    \n",
    "ax.legend(loc=2, fontsize=12) \n",
    "fig.savefig('plots/single_and_multi_giants_trends_axis.png', dpi=1000, bbox_inches='tight')\n",
    "fig.savefig('plots/single_and_multi_giants_trends_axis.pdf', bbox_inches='tight')"
   ]
  },
  {
   "cell_type": "code",
   "execution_count": 119,
   "metadata": {},
   "outputs": [
    {
     "data": {
      "text/plain": [
       "<matplotlib.lines.Line2D at 0x7fd01849ec90>"
      ]
     },
     "execution_count": 119,
     "metadata": {},
     "output_type": "execute_result"
    },
    {
     "data": {
      "image/png": "[encoded data removed]",
      "text/plain": [
       "<Figure size 432x288 with 1 Axes>"
      ]
     },
     "metadata": {
      "needs_background": "light"
     },
     "output_type": "display_data"
    }
   ],
   "source": [
    "fig, ax = plt.subplots()\n",
    "ax.set_xlim([0, 12])\n",
    "ax.hist(a_chains[-2], bins=100, histtype='step', color='orange')\n",
    "ax.hist(a_chains[-1], bins=100, histtype='step', color='green')\n",
    "ax.axvline(np.median(a_chains[-2]), color='orange')\n",
    "ax.axvline(np.median(a_chains[-1]), color='green')"
   ]
  },
  {
   "cell_type": "code",
   "execution_count": 151,
   "metadata": {},
   "outputs": [
    {
     "data": {
      "text/plain": [
       "<matplotlib.legend.Legend at 0x7fd078a09190>"
      ]
     },
     "execution_count": 151,
     "metadata": {},
     "output_type": "execute_result"
    },
    {
     "data": {
      "image/png": "[encoded data removed]",
      "text/plain": [
       "<Figure size 432x288 with 1 Axes>"
      ]
     },
     "metadata": {
      "needs_background": "light"
     },
     "output_type": "display_data"
    }
   ],
   "source": [
    "matplotlib.rcParams.update({'font.size': 14})\n",
    "\n",
    "fig, ax = plt.subplots()\n",
    "\n",
    "ax.hist(a_chains[0], histtype='step', density=True, bins=100, color='green', label='Single giant systems')\n",
    "ax.hist(a_chains_multi[0], histtype='step', density=True, bins=100, color='purple', label='Multi giant systems')\n",
    "#ax.hist(a_chains[0] + a_chains_multi[0], histtype='step', density=True, bins=100, color='red', label='All')\n",
    "#ax.axvline(np.percentile(a_chains[0] + a_chains_multi[0], 50), ls=':', color='red', label='Total median')\n",
    "#ax.axvline(np.percentile(a_chains[0], 15.9), ls=':', color='green', label='15.9%')\n",
    "#ax.axvline(np.percentile(a_chains_multi[0], 84.1), ls=':', color='purple', label='84.1%')\n",
    "#ax.axvline(np.percentile(a_chains[0], 5), ls=':', color='green', label='__nolegend__')\n",
    "#ax.axvline(np.percentile(a_chains_multi[0], 95), ls=':', color='purple', label='__nolegend__')\n",
    "\n",
    "ax.set_xlim([0, 3.5])\n",
    "ax.set_xlabel('Very hot Jupiters (< 0.06 au) per 100 stars')\n",
    "ax.set_ylabel('Probability density')\n",
    "\n",
    "ax.legend(fontsize=12)"
   ]
  },
  {
   "cell_type": "code",
   "execution_count": 52,
   "metadata": {},
   "outputs": [],
   "source": [
    "warmbins = lngrid(0.1, 0.4, 30., 6000, 1, 1) \n",
    "hierarchical_single_warm = Hierarchy(samples_single, completey_all, bins=warmbins, lenrun=10000, \n",
    "                                    chainname='occur_chains/occur_chains_giants_single_warm.csv')\n",
    "hierarchical_single_warm.max_like()\n",
    "hierarchical_multi_warm = Hierarchy(samples_multi, completey_all, bins=warmbins, lenrun=10000,\n",
    "                                   chainname='occur_chains/occur_chains_giants_single_warm.csv')\n",
    "hierarchical_multi_warm.max_like()"
   ]
  },
  {
   "cell_type": "code",
   "execution_count": 53,
   "metadata": {},
   "outputs": [
    {
     "name": "stderr",
     "output_type": "stream",
     "text": [
      "100%|██████████| 10000/10000 [17:47<00:00,  9.36it/s]\n",
      "100%|██████████| 10000/10000 [21:55<00:00,  7.60it/s]\n"
     ]
    }
   ],
   "source": [
    "hierarchical_single_warm.sample(parallel=True, gp=False)\n",
    "hierarchical_multi_warm.sample(parallel=True, gp=False)"
   ]
  },
  {
   "cell_type": "code",
   "execution_count": 56,
   "metadata": {},
   "outputs": [],
   "source": [
    "warm_single = hierarchical_single_warm.chains*hierarchical_single_warm.bin_areas[0][0]*(100/719)\n",
    "warm_multi = hierarchical_multi_warm.chains*hierarchical_multi_warm.bin_areas[0][0]*(100/719)"
   ]
  },
  {
   "cell_type": "code",
   "execution_count": 22,
   "metadata": {},
   "outputs": [
    {
     "data": {
      "image/png": "[encoded data removed]",
      "text/plain": [
       "<Figure size 432x288 with 1 Axes>"
      ]
     },
     "metadata": {
      "needs_background": "light"
     },
     "output_type": "display_data"
    }
   ],
   "source": [
    "matplotlib.rcParams.update({'font.size': 14})\n",
    "\n",
    "fig, ax = plt.subplots()\n",
    "\n",
    "ax.hist(warm_single, histtype='step', density=True, bins=75, color='green', \n",
    "        label='{} single giants'.format(len(giants_single.query('axis>=0.1 and axis<0.4'))))\n",
    "ax.hist(warm_multi, histtype='step', density=True, bins=75, color='purple', \n",
    "        label='{} multi giants'.format(len(giants_multi.query('axis>=0.1 and axis<0.4'))))\n",
    "\n",
    "ax.set_xlim([0, 4.5])\n",
    "ax.set_xlabel(r'Warm Jupiters (0.1 au < $a$ < 0.4 au) per 100 stars')\n",
    "ax.set_ylabel('Probability density')\n",
    "\n",
    "ax.legend(fontsize=12)\n",
    "\n",
    "fig.savefig('plots/single_multi_warm.pdf', bbox_inches='tight')"
   ]
  },
  {
   "cell_type": "code",
   "execution_count": 14,
   "metadata": {},
   "outputs": [],
   "source": [
    "hotbins = lngrid(0.06, 0.1, 30., 6000, 1, 1) \n",
    "hierarchical_single_hot = Hierarchy(samples_single, completey_all, bins=hotbins, lenrun=10000,\n",
    "                                    chainname='occur_chains/occur_chains_giants_single_hot.csv')\n",
    "hierarchical_single_hot.max_like()\n",
    "hierarchical_multi_hot = Hierarchy(samples_multi, completey_all, bins=hotbins, lenrun=10000,\n",
    "                                   chainname='occur_chains/occur_chains_giants_single_hot.csv')\n",
    "hierarchical_multi_hot.max_like()"
   ]
  },
  {
   "cell_type": "code",
   "execution_count": 15,
   "metadata": {},
   "outputs": [
    {
     "name": "stderr",
     "output_type": "stream",
     "text": [
      "  3%|▎         | 278/10000 [00:23<14:14, 11.37it/s]Process ForkPoolWorker-1:\n",
      "Process ForkPoolWorker-5:\n",
      "Process ForkPoolWorker-3:\n",
      "Process ForkPoolWorker-4:\n",
      "Process ForkPoolWorker-2:\n",
      "Traceback (most recent call last):\n",
      "  File \"/Users/lee/anaconda/lib/python3.7/site-packages/emcee/ensemble.py\", line 545, in __call__\n",
      "    return self.f(x, *self.args, **self.kwargs)\n",
      "  File \"/Users/lee/Academics/Astronomy/Planets/CLSIV/occur.py\", line 249, in lnpost\n",
      "    return self.lnlike(theta)\n",
      "  File \"/Users/lee/Academics/Astronomy/Planets/CLSIV/occur.py\", line 228, in lnlike\n",
      "    np.log(sample_a), np.log(sample_M), theta)\n",
      "  File \"/Users/lee/Academics/Astronomy/Planets/CLSIV/occur.py\", line 205, in occurrence\n",
      "    im[im > self.nmbins - 1] = self.nmbins - 1\n",
      "KeyboardInterrupt\n",
      "  3%|▎         | 279/10000 [00:23<13:30, 12.00it/s]Process ForkPoolWorker-6:\n",
      "Process ForkPoolWorker-8:\n",
      "Process ForkPoolWorker-7:\n",
      "Traceback (most recent call last):\n",
      "Traceback (most recent call last):\n",
      "Traceback (most recent call last):\n",
      "Traceback (most recent call last):\n",
      "Traceback (most recent call last):\n",
      "Traceback (most recent call last):\n",
      "Traceback (most recent call last):\n",
      "Traceback (most recent call last):\n",
      "  File \"/Users/lee/anaconda/lib/python3.7/multiprocessing/process.py\", line 297, in _bootstrap\n",
      "    self.run()\n",
      "  File \"/Users/lee/anaconda/lib/python3.7/multiprocessing/process.py\", line 297, in _bootstrap\n",
      "    self.run()\n",
      "  File \"/Users/lee/anaconda/lib/python3.7/multiprocessing/process.py\", line 297, in _bootstrap\n",
      "    self.run()\n",
      "  File \"/Users/lee/anaconda/lib/python3.7/multiprocessing/process.py\", line 297, in _bootstrap\n",
      "    self.run()\n",
      "  File \"/Users/lee/anaconda/lib/python3.7/multiprocessing/process.py\", line 297, in _bootstrap\n",
      "    self.run()\n",
      "  File \"/Users/lee/anaconda/lib/python3.7/multiprocessing/process.py\", line 297, in _bootstrap\n",
      "    self.run()\n",
      "  File \"/Users/lee/anaconda/lib/python3.7/multiprocessing/process.py\", line 297, in _bootstrap\n",
      "    self.run()\n",
      "  File \"/Users/lee/anaconda/lib/python3.7/multiprocessing/process.py\", line 297, in _bootstrap\n",
      "    self.run()\n",
      "  File \"/Users/lee/anaconda/lib/python3.7/multiprocessing/process.py\", line 99, in run\n",
      "    self._target(*self._args, **self._kwargs)\n",
      "  File \"/Users/lee/anaconda/lib/python3.7/multiprocessing/process.py\", line 99, in run\n",
      "    self._target(*self._args, **self._kwargs)\n",
      "  File \"/Users/lee/anaconda/lib/python3.7/multiprocessing/process.py\", line 99, in run\n",
      "    self._target(*self._args, **self._kwargs)\n",
      "  File \"/Users/lee/anaconda/lib/python3.7/multiprocessing/process.py\", line 99, in run\n",
      "    self._target(*self._args, **self._kwargs)\n",
      "  File \"/Users/lee/anaconda/lib/python3.7/multiprocessing/process.py\", line 99, in run\n",
      "    self._target(*self._args, **self._kwargs)\n",
      "  File \"/Users/lee/anaconda/lib/python3.7/multiprocessing/process.py\", line 99, in run\n",
      "    self._target(*self._args, **self._kwargs)\n",
      "  File \"/Users/lee/anaconda/lib/python3.7/multiprocessing/process.py\", line 99, in run\n",
      "    self._target(*self._args, **self._kwargs)\n",
      "  File \"/Users/lee/anaconda/lib/python3.7/multiprocessing/process.py\", line 99, in run\n",
      "    self._target(*self._args, **self._kwargs)\n",
      "  File \"/Users/lee/anaconda/lib/python3.7/multiprocessing/pool.py\", line 110, in worker\n",
      "    task = get()\n",
      "  File \"/Users/lee/anaconda/lib/python3.7/multiprocessing/pool.py\", line 110, in worker\n",
      "    task = get()\n",
      "  File \"/Users/lee/anaconda/lib/python3.7/multiprocessing/pool.py\", line 110, in worker\n",
      "    task = get()\n",
      "  File \"/Users/lee/anaconda/lib/python3.7/multiprocessing/pool.py\", line 110, in worker\n",
      "    task = get()\n",
      "  File \"/Users/lee/anaconda/lib/python3.7/multiprocessing/pool.py\", line 110, in worker\n",
      "    task = get()\n",
      "  File \"/Users/lee/anaconda/lib/python3.7/multiprocessing/pool.py\", line 110, in worker\n",
      "    task = get()\n",
      "  File \"/Users/lee/anaconda/lib/python3.7/multiprocessing/pool.py\", line 110, in worker\n",
      "    task = get()\n",
      "  File \"/Users/lee/anaconda/lib/python3.7/multiprocessing/pool.py\", line 110, in worker\n",
      "    task = get()\n",
      "  File \"/Users/lee/anaconda/lib/python3.7/multiprocessing/queues.py\", line 351, in get\n",
      "    with self._rlock:\n",
      "  File \"/Users/lee/anaconda/lib/python3.7/multiprocessing/queues.py\", line 351, in get\n",
      "    with self._rlock:\n",
      "  File \"/Users/lee/anaconda/lib/python3.7/multiprocessing/queues.py\", line 351, in get\n",
      "    with self._rlock:\n",
      "  File \"/Users/lee/anaconda/lib/python3.7/multiprocessing/queues.py\", line 351, in get\n",
      "    with self._rlock:\n",
      "  File \"/Users/lee/anaconda/lib/python3.7/multiprocessing/queues.py\", line 351, in get\n",
      "    with self._rlock:\n",
      "  File \"/Users/lee/anaconda/lib/python3.7/multiprocessing/queues.py\", line 351, in get\n",
      "    with self._rlock:\n",
      "  File \"/Users/lee/anaconda/lib/python3.7/multiprocessing/queues.py\", line 352, in get\n",
      "    res = self._reader.recv_bytes()\n",
      "  File \"/Users/lee/anaconda/lib/python3.7/multiprocessing/synchronize.py\", line 95, in __enter__\n",
      "    return self._semlock.__enter__()\n",
      "  File \"/Users/lee/anaconda/lib/python3.7/multiprocessing/queues.py\", line 351, in get\n",
      "    with self._rlock:\n",
      "  File \"/Users/lee/anaconda/lib/python3.7/multiprocessing/synchronize.py\", line 95, in __enter__\n",
      "    return self._semlock.__enter__()\n",
      "  File \"/Users/lee/anaconda/lib/python3.7/multiprocessing/synchronize.py\", line 95, in __enter__\n",
      "    return self._semlock.__enter__()\n",
      "  File \"/Users/lee/anaconda/lib/python3.7/multiprocessing/synchronize.py\", line 95, in __enter__\n",
      "    return self._semlock.__enter__()\n",
      "  File \"/Users/lee/anaconda/lib/python3.7/multiprocessing/synchronize.py\", line 95, in __enter__\n",
      "    return self._semlock.__enter__()\n",
      "  File \"/Users/lee/anaconda/lib/python3.7/multiprocessing/synchronize.py\", line 95, in __enter__\n",
      "    return self._semlock.__enter__()\n",
      "  File \"/Users/lee/anaconda/lib/python3.7/multiprocessing/connection.py\", line 216, in recv_bytes\n",
      "    buf = self._recv_bytes(maxlength)\n",
      "KeyboardInterrupt\n",
      "  File \"/Users/lee/anaconda/lib/python3.7/multiprocessing/synchronize.py\", line 95, in __enter__\n",
      "    return self._semlock.__enter__()\n",
      "KeyboardInterrupt\n",
      "KeyboardInterrupt\n",
      "KeyboardInterrupt\n",
      "KeyboardInterrupt\n",
      "\n",
      "KeyboardInterrupt\n",
      "  File \"/Users/lee/anaconda/lib/python3.7/multiprocessing/connection.py\", line 407, in _recv_bytes\n",
      "    buf = self._recv(4)\n",
      "KeyboardInterrupt\n",
      "  File \"/Users/lee/anaconda/lib/python3.7/multiprocessing/connection.py\", line 379, in _recv\n",
      "    chunk = read(handle, remaining)\n",
      "KeyboardInterrupt\n"
     ]
    },
    {
     "name": "stdout",
     "output_type": "stream",
     "text": [
      "emcee: Exception while calling your likelihood function:\n",
      "  params: [0.76243297]\n",
      "  args: []\n",
      "  kwargs: {}\n",
      "  exception:\n"
     ]
    },
    {
     "ename": "KeyboardInterrupt",
     "evalue": "",
     "output_type": "error",
     "traceback": [
      "\u001b[0;31m---------------------------------------------------------------------------\u001b[0m",
      "\u001b[0;31mKeyboardInterrupt\u001b[0m                         Traceback (most recent call last)",
      "\u001b[0;32m<ipython-input-15-a0866a592e2d>\u001b[0m in \u001b[0;36m<module>\u001b[0;34m\u001b[0m\n\u001b[0;32m----> 1\u001b[0;31m \u001b[0mhierarchical_single_hot\u001b[0m\u001b[0;34m.\u001b[0m\u001b[0msample\u001b[0m\u001b[0;34m(\u001b[0m\u001b[0mparallel\u001b[0m\u001b[0;34m=\u001b[0m\u001b[0;32mTrue\u001b[0m\u001b[0;34m,\u001b[0m \u001b[0mgp\u001b[0m\u001b[0;34m=\u001b[0m\u001b[0;32mFalse\u001b[0m\u001b[0;34m)\u001b[0m\u001b[0;34m\u001b[0m\u001b[0;34m\u001b[0m\u001b[0m\n\u001b[0m\u001b[1;32m      2\u001b[0m \u001b[0mhierarchical_multi_hot\u001b[0m\u001b[0;34m.\u001b[0m\u001b[0msample\u001b[0m\u001b[0;34m(\u001b[0m\u001b[0mparallel\u001b[0m\u001b[0;34m=\u001b[0m\u001b[0;32mTrue\u001b[0m\u001b[0;34m,\u001b[0m \u001b[0mgp\u001b[0m\u001b[0;34m=\u001b[0m\u001b[0;32mFalse\u001b[0m\u001b[0;34m)\u001b[0m\u001b[0;34m\u001b[0m\u001b[0;34m\u001b[0m\u001b[0m\n",
      "\u001b[0;32m~/Academics/Astronomy/Planets/CLSIV/occur.py\u001b[0m in \u001b[0;36msample\u001b[0;34m(self, gp, parallel, save)\u001b[0m\n\u001b[1;32m    261\u001b[0m                 \u001b[0;32melse\u001b[0m\u001b[0;34m:\u001b[0m\u001b[0;34m\u001b[0m\u001b[0;34m\u001b[0m\u001b[0m\n\u001b[1;32m    262\u001b[0m                     \u001b[0mself\u001b[0m\u001b[0;34m.\u001b[0m\u001b[0msampler\u001b[0m \u001b[0;34m=\u001b[0m \u001b[0memcee\u001b[0m\u001b[0;34m.\u001b[0m\u001b[0mEnsembleSampler\u001b[0m\u001b[0;34m(\u001b[0m\u001b[0mnwalkers\u001b[0m\u001b[0;34m,\u001b[0m \u001b[0mndim\u001b[0m\u001b[0;34m,\u001b[0m \u001b[0mself\u001b[0m\u001b[0;34m.\u001b[0m\u001b[0mlnpost\u001b[0m\u001b[0;34m,\u001b[0m \u001b[0mpool\u001b[0m\u001b[0;34m=\u001b[0m\u001b[0mpool\u001b[0m\u001b[0;34m)\u001b[0m\u001b[0;34m\u001b[0m\u001b[0;34m\u001b[0m\u001b[0m\n\u001b[0;32m--> 263\u001b[0;31m                 \u001b[0mself\u001b[0m\u001b[0;34m.\u001b[0m\u001b[0msampler\u001b[0m\u001b[0;34m.\u001b[0m\u001b[0mrun_mcmc\u001b[0m\u001b[0;34m(\u001b[0m\u001b[0mpos\u001b[0m\u001b[0;34m,\u001b[0m \u001b[0mself\u001b[0m\u001b[0;34m.\u001b[0m\u001b[0mlenrun\u001b[0m\u001b[0;34m,\u001b[0m \u001b[0mprogress\u001b[0m\u001b[0;34m=\u001b[0m\u001b[0;32mTrue\u001b[0m\u001b[0;34m)\u001b[0m\u001b[0;34m\u001b[0m\u001b[0;34m\u001b[0m\u001b[0m\n\u001b[0m\u001b[1;32m    264\u001b[0m                 \u001b[0mself\u001b[0m\u001b[0;34m.\u001b[0m\u001b[0mchains\u001b[0m \u001b[0;34m=\u001b[0m \u001b[0mself\u001b[0m\u001b[0;34m.\u001b[0m\u001b[0msampler\u001b[0m\u001b[0;34m.\u001b[0m\u001b[0mchain\u001b[0m\u001b[0;34m[\u001b[0m\u001b[0;34m:\u001b[0m\u001b[0;34m,\u001b[0m \u001b[0;36m100\u001b[0m\u001b[0;34m:\u001b[0m\u001b[0;34m,\u001b[0m \u001b[0;34m:\u001b[0m\u001b[0;34m]\u001b[0m\u001b[0;34m.\u001b[0m\u001b[0mreshape\u001b[0m\u001b[0;34m(\u001b[0m\u001b[0;34m(\u001b[0m\u001b[0;34m-\u001b[0m\u001b[0;36m1\u001b[0m\u001b[0;34m,\u001b[0m \u001b[0mndim\u001b[0m\u001b[0;34m)\u001b[0m\u001b[0;34m)\u001b[0m\u001b[0;34m\u001b[0m\u001b[0;34m\u001b[0m\u001b[0m\n\u001b[1;32m    265\u001b[0m         \u001b[0;32melse\u001b[0m\u001b[0;34m:\u001b[0m\u001b[0;34m\u001b[0m\u001b[0;34m\u001b[0m\u001b[0m\n",
      "\u001b[0;32m~/anaconda/lib/python3.7/site-packages/emcee/ensemble.py\u001b[0m in \u001b[0;36mrun_mcmc\u001b[0;34m(self, initial_state, nsteps, **kwargs)\u001b[0m\n\u001b[1;32m    382\u001b[0m \u001b[0;34m\u001b[0m\u001b[0m\n\u001b[1;32m    383\u001b[0m         \u001b[0mresults\u001b[0m \u001b[0;34m=\u001b[0m \u001b[0;32mNone\u001b[0m\u001b[0;34m\u001b[0m\u001b[0;34m\u001b[0m\u001b[0m\n\u001b[0;32m--> 384\u001b[0;31m         \u001b[0;32mfor\u001b[0m \u001b[0mresults\u001b[0m \u001b[0;32min\u001b[0m \u001b[0mself\u001b[0m\u001b[0;34m.\u001b[0m\u001b[0msample\u001b[0m\u001b[0;34m(\u001b[0m\u001b[0minitial_state\u001b[0m\u001b[0;34m,\u001b[0m \u001b[0miterations\u001b[0m\u001b[0;34m=\u001b[0m\u001b[0mnsteps\u001b[0m\u001b[0;34m,\u001b[0m \u001b[0;34m**\u001b[0m\u001b[0mkwargs\u001b[0m\u001b[0;34m)\u001b[0m\u001b[0;34m:\u001b[0m\u001b[0;34m\u001b[0m\u001b[0;34m\u001b[0m\u001b[0m\n\u001b[0m\u001b[1;32m    385\u001b[0m             \u001b[0;32mpass\u001b[0m\u001b[0;34m\u001b[0m\u001b[0;34m\u001b[0m\u001b[0m\n\u001b[1;32m    386\u001b[0m \u001b[0;34m\u001b[0m\u001b[0m\n",
      "\u001b[0;32m~/anaconda/lib/python3.7/site-packages/emcee/ensemble.py\u001b[0m in \u001b[0;36msample\u001b[0;34m(self, initial_state, log_prob0, rstate0, blobs0, iterations, tune, skip_initial_state_check, thin_by, thin, store, progress)\u001b[0m\n\u001b[1;32m    341\u001b[0m \u001b[0;34m\u001b[0m\u001b[0m\n\u001b[1;32m    342\u001b[0m                     \u001b[0;31m# Propose\u001b[0m\u001b[0;34m\u001b[0m\u001b[0;34m\u001b[0m\u001b[0;34m\u001b[0m\u001b[0m\n\u001b[0;32m--> 343\u001b[0;31m                     \u001b[0mstate\u001b[0m\u001b[0;34m,\u001b[0m \u001b[0maccepted\u001b[0m \u001b[0;34m=\u001b[0m \u001b[0mmove\u001b[0m\u001b[0;34m.\u001b[0m\u001b[0mpropose\u001b[0m\u001b[0;34m(\u001b[0m\u001b[0mmodel\u001b[0m\u001b[0;34m,\u001b[0m \u001b[0mstate\u001b[0m\u001b[0;34m)\u001b[0m\u001b[0;34m\u001b[0m\u001b[0;34m\u001b[0m\u001b[0m\n\u001b[0m\u001b[1;32m    344\u001b[0m                     \u001b[0mstate\u001b[0m\u001b[0;34m.\u001b[0m\u001b[0mrandom_state\u001b[0m \u001b[0;34m=\u001b[0m \u001b[0mself\u001b[0m\u001b[0;34m.\u001b[0m\u001b[0mrandom_state\u001b[0m\u001b[0;34m\u001b[0m\u001b[0;34m\u001b[0m\u001b[0m\n\u001b[1;32m    345\u001b[0m \u001b[0;34m\u001b[0m\u001b[0m\n",
      "\u001b[0;32m~/anaconda/lib/python3.7/site-packages/emcee/moves/red_blue.py\u001b[0m in \u001b[0;36mpropose\u001b[0;34m(self, model, state)\u001b[0m\n\u001b[1;32m     91\u001b[0m \u001b[0;34m\u001b[0m\u001b[0m\n\u001b[1;32m     92\u001b[0m             \u001b[0;31m# Compute the lnprobs of the proposed position.\u001b[0m\u001b[0;34m\u001b[0m\u001b[0;34m\u001b[0m\u001b[0;34m\u001b[0m\u001b[0m\n\u001b[0;32m---> 93\u001b[0;31m             \u001b[0mnew_log_probs\u001b[0m\u001b[0;34m,\u001b[0m \u001b[0mnew_blobs\u001b[0m \u001b[0;34m=\u001b[0m \u001b[0mmodel\u001b[0m\u001b[0;34m.\u001b[0m\u001b[0mcompute_log_prob_fn\u001b[0m\u001b[0;34m(\u001b[0m\u001b[0mq\u001b[0m\u001b[0;34m)\u001b[0m\u001b[0;34m\u001b[0m\u001b[0;34m\u001b[0m\u001b[0m\n\u001b[0m\u001b[1;32m     94\u001b[0m \u001b[0;34m\u001b[0m\u001b[0m\n\u001b[1;32m     95\u001b[0m             \u001b[0;31m# Loop over the walkers and update them accordingly.\u001b[0m\u001b[0;34m\u001b[0m\u001b[0;34m\u001b[0m\u001b[0;34m\u001b[0m\u001b[0m\n",
      "\u001b[0;32m~/anaconda/lib/python3.7/site-packages/emcee/ensemble.py\u001b[0m in \u001b[0;36mcompute_log_prob\u001b[0;34m(self, coords)\u001b[0m\n\u001b[1;32m    425\u001b[0m                 \u001b[0mmap_func\u001b[0m \u001b[0;34m=\u001b[0m \u001b[0mmap\u001b[0m\u001b[0;34m\u001b[0m\u001b[0;34m\u001b[0m\u001b[0m\n\u001b[1;32m    426\u001b[0m             results = list(\n\u001b[0;32m--> 427\u001b[0;31m                 \u001b[0mmap_func\u001b[0m\u001b[0;34m(\u001b[0m\u001b[0mself\u001b[0m\u001b[0;34m.\u001b[0m\u001b[0mlog_prob_fn\u001b[0m\u001b[0;34m,\u001b[0m \u001b[0;34m(\u001b[0m\u001b[0mp\u001b[0m\u001b[0;34m[\u001b[0m\u001b[0mi\u001b[0m\u001b[0;34m]\u001b[0m \u001b[0;32mfor\u001b[0m \u001b[0mi\u001b[0m \u001b[0;32min\u001b[0m \u001b[0mrange\u001b[0m\u001b[0;34m(\u001b[0m\u001b[0mlen\u001b[0m\u001b[0;34m(\u001b[0m\u001b[0mp\u001b[0m\u001b[0;34m)\u001b[0m\u001b[0;34m)\u001b[0m\u001b[0;34m)\u001b[0m\u001b[0;34m)\u001b[0m\u001b[0;34m\u001b[0m\u001b[0;34m\u001b[0m\u001b[0m\n\u001b[0m\u001b[1;32m    428\u001b[0m             )\n\u001b[1;32m    429\u001b[0m \u001b[0;34m\u001b[0m\u001b[0m\n",
      "\u001b[0;32m~/anaconda/lib/python3.7/site-packages/emcee/ensemble.py\u001b[0m in \u001b[0;36m__call__\u001b[0;34m(self, x)\u001b[0m\n\u001b[1;32m    543\u001b[0m     \u001b[0;32mdef\u001b[0m \u001b[0m__call__\u001b[0m\u001b[0;34m(\u001b[0m\u001b[0mself\u001b[0m\u001b[0;34m,\u001b[0m \u001b[0mx\u001b[0m\u001b[0;34m)\u001b[0m\u001b[0;34m:\u001b[0m\u001b[0;34m\u001b[0m\u001b[0;34m\u001b[0m\u001b[0m\n\u001b[1;32m    544\u001b[0m         \u001b[0;32mtry\u001b[0m\u001b[0;34m:\u001b[0m\u001b[0;34m\u001b[0m\u001b[0;34m\u001b[0m\u001b[0m\n\u001b[0;32m--> 545\u001b[0;31m             \u001b[0;32mreturn\u001b[0m \u001b[0mself\u001b[0m\u001b[0;34m.\u001b[0m\u001b[0mf\u001b[0m\u001b[0;34m(\u001b[0m\u001b[0mx\u001b[0m\u001b[0;34m,\u001b[0m \u001b[0;34m*\u001b[0m\u001b[0mself\u001b[0m\u001b[0;34m.\u001b[0m\u001b[0margs\u001b[0m\u001b[0;34m,\u001b[0m \u001b[0;34m**\u001b[0m\u001b[0mself\u001b[0m\u001b[0;34m.\u001b[0m\u001b[0mkwargs\u001b[0m\u001b[0;34m)\u001b[0m\u001b[0;34m\u001b[0m\u001b[0;34m\u001b[0m\u001b[0m\n\u001b[0m\u001b[1;32m    546\u001b[0m         \u001b[0;32mexcept\u001b[0m\u001b[0;34m:\u001b[0m  \u001b[0;31m# pragma: no cover\u001b[0m\u001b[0;34m\u001b[0m\u001b[0;34m\u001b[0m\u001b[0m\n\u001b[1;32m    547\u001b[0m             \u001b[0;32mimport\u001b[0m \u001b[0mtraceback\u001b[0m\u001b[0;34m\u001b[0m\u001b[0;34m\u001b[0m\u001b[0m\n",
      "\u001b[0;32m~/Academics/Astronomy/Planets/CLSIV/occur.py\u001b[0m in \u001b[0;36mlnpost\u001b[0;34m(self, theta)\u001b[0m\n\u001b[1;32m    247\u001b[0m \u001b[0;34m\u001b[0m\u001b[0m\n\u001b[1;32m    248\u001b[0m     \u001b[0;32mdef\u001b[0m \u001b[0mlnpost\u001b[0m\u001b[0;34m(\u001b[0m\u001b[0mself\u001b[0m\u001b[0;34m,\u001b[0m \u001b[0mtheta\u001b[0m\u001b[0;34m)\u001b[0m\u001b[0;34m:\u001b[0m\u001b[0;34m\u001b[0m\u001b[0;34m\u001b[0m\u001b[0m\n\u001b[0;32m--> 249\u001b[0;31m         \u001b[0;32mreturn\u001b[0m \u001b[0mself\u001b[0m\u001b[0;34m.\u001b[0m\u001b[0mlnlike\u001b[0m\u001b[0;34m(\u001b[0m\u001b[0mtheta\u001b[0m\u001b[0;34m)\u001b[0m\u001b[0;34m\u001b[0m\u001b[0;34m\u001b[0m\u001b[0m\n\u001b[0m\u001b[1;32m    250\u001b[0m \u001b[0;34m\u001b[0m\u001b[0m\n\u001b[1;32m    251\u001b[0m     \u001b[0;32mdef\u001b[0m \u001b[0msample\u001b[0m\u001b[0;34m(\u001b[0m\u001b[0mself\u001b[0m\u001b[0;34m,\u001b[0m \u001b[0mgp\u001b[0m\u001b[0;34m=\u001b[0m\u001b[0;32mFalse\u001b[0m\u001b[0;34m,\u001b[0m \u001b[0mparallel\u001b[0m\u001b[0;34m=\u001b[0m\u001b[0;32mFalse\u001b[0m\u001b[0;34m,\u001b[0m \u001b[0msave\u001b[0m\u001b[0;34m=\u001b[0m\u001b[0;32mTrue\u001b[0m\u001b[0;34m)\u001b[0m\u001b[0;34m:\u001b[0m\u001b[0;34m\u001b[0m\u001b[0;34m\u001b[0m\u001b[0m\n",
      "\u001b[0;32m~/Academics/Astronomy/Planets/CLSIV/occur.py\u001b[0m in \u001b[0;36mlnlike\u001b[0;34m(self, theta)\u001b[0m\n\u001b[1;32m    226\u001b[0m             \u001b[0msample_M\u001b[0m \u001b[0;34m=\u001b[0m \u001b[0mnp\u001b[0m\u001b[0;34m.\u001b[0m\u001b[0marray\u001b[0m\u001b[0;34m(\u001b[0m\u001b[0mself\u001b[0m\u001b[0;34m.\u001b[0m\u001b[0mpop\u001b[0m\u001b[0;34m[\u001b[0m\u001b[0mplanet\u001b[0m\u001b[0;34m[\u001b[0m\u001b[0;34m:\u001b[0m\u001b[0;34m-\u001b[0m\u001b[0;36m2\u001b[0m\u001b[0;34m]\u001b[0m \u001b[0;34m+\u001b[0m \u001b[0;34m'_M'\u001b[0m \u001b[0;34m+\u001b[0m \u001b[0mplanet\u001b[0m\u001b[0;34m[\u001b[0m\u001b[0;34m-\u001b[0m\u001b[0;36m1\u001b[0m\u001b[0;34m]\u001b[0m\u001b[0;34m]\u001b[0m\u001b[0;34m)\u001b[0m\u001b[0;34m\u001b[0m\u001b[0;34m\u001b[0m\u001b[0m\n\u001b[1;32m    227\u001b[0m             probs = self.completeness.interpolate(sample_a, sample_M)*self.occurrence(\n\u001b[0;32m--> 228\u001b[0;31m                                            np.log(sample_a), np.log(sample_M), theta)\n\u001b[0m\u001b[1;32m    229\u001b[0m             \u001b[0;31m#print(planet, probs)\u001b[0m\u001b[0;34m\u001b[0m\u001b[0;34m\u001b[0m\u001b[0;34m\u001b[0m\u001b[0m\n\u001b[1;32m    230\u001b[0m             \u001b[0msums\u001b[0m\u001b[0;34m.\u001b[0m\u001b[0mappend\u001b[0m\u001b[0;34m(\u001b[0m\u001b[0mnp\u001b[0m\u001b[0;34m.\u001b[0m\u001b[0msum\u001b[0m\u001b[0;34m(\u001b[0m\u001b[0mprobs\u001b[0m\u001b[0;34m)\u001b[0m\u001b[0;34m)\u001b[0m\u001b[0;34m\u001b[0m\u001b[0;34m\u001b[0m\u001b[0m\n",
      "\u001b[0;32m~/Academics/Astronomy/Planets/CLSIV/occur.py\u001b[0m in \u001b[0;36moccurrence\u001b[0;34m(self, lna, lnm, theta)\u001b[0m\n\u001b[1;32m    203\u001b[0m         \u001b[0mim\u001b[0m\u001b[0;34m[\u001b[0m\u001b[0mim\u001b[0m \u001b[0;34m<\u001b[0m \u001b[0;36m0\u001b[0m\u001b[0;34m]\u001b[0m \u001b[0;34m=\u001b[0m \u001b[0;36m0\u001b[0m\u001b[0;34m\u001b[0m\u001b[0;34m\u001b[0m\u001b[0m\n\u001b[1;32m    204\u001b[0m         \u001b[0mia\u001b[0m\u001b[0;34m[\u001b[0m\u001b[0mia\u001b[0m \u001b[0;34m>\u001b[0m \u001b[0mself\u001b[0m\u001b[0;34m.\u001b[0m\u001b[0mnabins\u001b[0m \u001b[0;34m-\u001b[0m \u001b[0;36m1\u001b[0m\u001b[0;34m]\u001b[0m \u001b[0;34m=\u001b[0m \u001b[0mself\u001b[0m\u001b[0;34m.\u001b[0m\u001b[0mnabins\u001b[0m \u001b[0;34m-\u001b[0m \u001b[0;36m1\u001b[0m\u001b[0;34m\u001b[0m\u001b[0;34m\u001b[0m\u001b[0m\n\u001b[0;32m--> 205\u001b[0;31m         \u001b[0mim\u001b[0m\u001b[0;34m[\u001b[0m\u001b[0mim\u001b[0m \u001b[0;34m>\u001b[0m \u001b[0mself\u001b[0m\u001b[0;34m.\u001b[0m\u001b[0mnmbins\u001b[0m \u001b[0;34m-\u001b[0m \u001b[0;36m1\u001b[0m\u001b[0;34m]\u001b[0m \u001b[0;34m=\u001b[0m \u001b[0mself\u001b[0m\u001b[0;34m.\u001b[0m\u001b[0mnmbins\u001b[0m \u001b[0;34m-\u001b[0m \u001b[0;36m1\u001b[0m\u001b[0;34m\u001b[0m\u001b[0;34m\u001b[0m\u001b[0m\n\u001b[0m\u001b[1;32m    206\u001b[0m \u001b[0;34m\u001b[0m\u001b[0m\n\u001b[1;32m    207\u001b[0m         \u001b[0moccur\u001b[0m \u001b[0;34m=\u001b[0m \u001b[0mtheta\u001b[0m\u001b[0;34m[\u001b[0m\u001b[0mia\u001b[0m \u001b[0;34m+\u001b[0m \u001b[0mim\u001b[0m\u001b[0;34m*\u001b[0m\u001b[0mself\u001b[0m\u001b[0;34m.\u001b[0m\u001b[0mnabins\u001b[0m\u001b[0;34m]\u001b[0m\u001b[0;34m\u001b[0m\u001b[0;34m\u001b[0m\u001b[0m\n",
      "\u001b[0;31mKeyboardInterrupt\u001b[0m: "
     ]
    }
   ],
   "source": [
    "hierarchical_single_hot.sample(parallel=True, gp=False)\n",
    "hierarchical_multi_hot.sample(parallel=True, gp=False)"
   ]
  },
  {
   "cell_type": "code",
   "execution_count": 15,
   "metadata": {},
   "outputs": [],
   "source": [
    "hot_single = hierarchical_single_hot.chains*hierarchical_single_hot.bin_areas[0][0]*(100/719)\n",
    "hot_multi = hierarchical_multi_hot.chains*hierarchical_multi_hot.bin_areas[0][0]*(100/719)"
   ]
  },
  {
   "cell_type": "code",
   "execution_count": 18,
   "metadata": {},
   "outputs": [
    {
     "data": {
      "image/png": "[encoded data removed]",
      "text/plain": [
       "<Figure size 432x288 with 1 Axes>"
      ]
     },
     "metadata": {
      "needs_background": "light"
     },
     "output_type": "display_data"
    }
   ],
   "source": [
    "matplotlib.rcParams.update({'font.size': 14})\n",
    "\n",
    "fig, ax = plt.subplots()\n",
    "\n",
    "ax.hist(hot_single, histtype='step', density=True, bins=75, color='green', \n",
    "        label='{} single giants'.format(len(giants_single.query('axis>=0.06 and axis<0.1'))))\n",
    "ax.hist(hot_multi, histtype='step', density=True, bins=75, color='purple', \n",
    "        label='{} multi giants'.format(len(giants_multi.query('axis>=0.06 and axis<0.1'))))\n",
    "#ax.hist(a_chains[0] + a_chains_multi[0], histtype='step', density=True, bins=100, color='red', label='All')\n",
    "#ax.axvline(np.percentile(a_chains[0] + a_chains_multi[0], 50), ls=':', color='red', label='Total median')\n",
    "#ax.axvline(np.percentile(a_chains[0], 15.9), ls=':', color='green', label='15.9%')\n",
    "#ax.axvline(np.percentile(a_chains_multi[0], 84.1), ls=':', color='purple', label='84.1%')\n",
    "#ax.axvline(np.percentile(a_chains[0], 5), ls=':', color='green', label='__nolegend__')\n",
    "#ax.axvline(np.percentile(a_chains_multi[0], 95), ls=':', color='purple', label='__nolegend__')\n",
    "\n",
    "ax.set_xlim([0, 2.5])\n",
    "ax.set_xlabel(r'Hot Jupiters (0.06 au < $a$ < 0.1 au) per 100 stars')\n",
    "ax.set_ylabel('Probability density')\n",
    "\n",
    "ax.legend(fontsize=12)\n",
    "\n",
    "fig.savefig('plots/single_multi_hot.pdf', bbox_inches='tight')"
   ]
  },
  {
   "cell_type": "code",
   "execution_count": 13,
   "metadata": {},
   "outputs": [],
   "source": [
    "shotbins = lngrid(0.03, 0.06, 30., 6000, 1, 1) \n",
    "hierarchical_single_superhot = Hierarchy(samples_single, completey_all, bins=shotbins, lenrun=10000,\n",
    "                                    chainname='occur_chains/occur_chains_giants_single_shot.csv')\n",
    "                                    #chainname='occur_chains/occur_chains_giants_single_trend_shot.csv')\n",
    "hierarchical_single_superhot.max_like()\n",
    "hierarchical_multi_superhot = Hierarchy(samples_multi, completey_all, bins=shotbins, lenrun=10000,\n",
    "                                   chainname='occur_chains/occur_chains_giants_multi_shot.csv')\n",
    "                                   #chainname='occur_chains/occur_chains_giants_multi_trend_shot.csv')\n",
    "hierarchical_multi_superhot.max_like()"
   ]
  },
  {
   "cell_type": "code",
   "execution_count": 14,
   "metadata": {},
   "outputs": [
    {
     "name": "stderr",
     "output_type": "stream",
     "text": [
      "100%|██████████| 10000/10000 [14:30<00:00, 11.49it/s]\n",
      "100%|██████████| 10000/10000 [13:47<00:00, 12.08it/s]\n"
     ]
    }
   ],
   "source": [
    "hierarchical_single_superhot.sample(parallel=True, gp=False)\n",
    "hierarchical_multi_superhot.sample(parallel=True, gp=False)"
   ]
  },
  {
   "cell_type": "code",
   "execution_count": 15,
   "metadata": {},
   "outputs": [],
   "source": [
    "shot_single = hierarchical_single_superhot.chains*hierarchical_single_superhot.bin_areas[0][0]*(100/719)\n",
    "shot_multi = hierarchical_multi_superhot.chains*hierarchical_multi_superhot.bin_areas[0][0]*(100/719)"
   ]
  },
  {
   "cell_type": "code",
   "execution_count": 17,
   "metadata": {},
   "outputs": [
    {
     "data": {
      "image/png": "[encoded data removed]",
      "text/plain": [
       "<Figure size 432x288 with 1 Axes>"
      ]
     },
     "metadata": {
      "needs_background": "light"
     },
     "output_type": "display_data"
    }
   ],
   "source": [
    "matplotlib.rcParams.update({'font.size': 14})\n",
    "\n",
    "fig, ax = plt.subplots()\n",
    "\n",
    "ax.hist(shot_single, histtype='step', density=True, bins=50, color='green',\n",
    "        label='{} single giants'.format(len(giants_single.query('axis>=0.03 and axis<0.06'))))\n",
    "ax.hist(shot_multi, histtype='step', density=True, bins=50, color='purple',\n",
    "        label='{} multi giants'.format(len(giants_multi.query('axis>=0.03 and axis<0.06'))))\n",
    "\n",
    "ax.set_xlim([0, 3.5])\n",
    "ax.set_xlabel(r'Very hot Jupiters ($a$ < 0.06 au) per 100 stars')\n",
    "ax.set_ylabel('Probability density')\n",
    "ax.legend(fontsize=12)\n",
    "\n",
    "fig.savefig('plots/single_multi_superhot.pdf', bbox_inches='tight')"
   ]
  },
  {
   "cell_type": "code",
   "execution_count": 21,
   "metadata": {},
   "outputs": [
    {
     "data": {
      "image/png": "[encoded data removed]",
      "text/plain": [
       "<Figure size 432x288 with 1 Axes>"
      ]
     },
     "metadata": {
      "needs_background": "light"
     },
     "output_type": "display_data"
    }
   ],
   "source": [
    "matplotlib.rcParams.update({'font.size': 14})\n",
    "\n",
    "fig, ax = plt.subplots()\n",
    "\n",
    "#shot_single_load = pd.read_csv('occur_chains/occur_chains_giants_single_shot.csv').gamma0\n",
    "#shot_multi_load  = pd.read_csv('occur_chains/occur_chains_giants_multi_shot.csv').gamma0\n",
    "\n",
    "diff = shot_single - shot_multi\n",
    "percentile = np.round(scipy.stats.percentileofscore(diff, 0), 2)\n",
    "\n",
    "ax.hist(diff, histtype='step', density=True, bins=50, \n",
    "        color='black', label='Planets only')\n",
    "\n",
    "ax.axvline(0, ls=':', color='black', \n",
    "           label='{}%'.format(percentile))\n",
    "\n",
    "ax.set_xlim([-1, 3.2])\n",
    "ax.set_xlabel('Occurrence difference for very hot Jupiters')\n",
    "ax.set_ylabel('Probability density')\n",
    "\n",
    "ax.legend(fontsize=12)\n",
    "\n",
    "fig.savefig('plots/difference_superhot.pdf', bbox_inches='tight')"
   ]
  },
  {
   "cell_type": "code",
   "execution_count": 32,
   "metadata": {},
   "outputs": [
    {
     "data": {
      "image/png": "[encoded data removed]",
      "text/plain": [
       "<Figure size 432x288 with 1 Axes>"
      ]
     },
     "metadata": {
      "needs_background": "light"
     },
     "output_type": "display_data"
    }
   ],
   "source": [
    "matplotlib.rcParams.update({'font.size': 14})\n",
    "\n",
    "fig, ax = plt.subplots()\n",
    "\n",
    "ax.hist(shot_single, histtype='step', density=True, bins=50, ls='--', color='green',\n",
    "        label='{} lonely giants'.format(len(giants_single_trend.query('axis>=0.03 and axis<0.06'))))\n",
    "ax.hist(shot_multi, histtype='step', density=True, bins=50, ls='--', color='purple',\n",
    "        label='{} giants with companions'.format(len(giants_multi_trend.query('axis>=0.03 and axis<0.06'))))\n",
    "\n",
    "ax.set_xlim([0, 3.5])\n",
    "ax.set_xlabel(r'Very hot Jupiters ($a$ < 0.06 au) per 100 stars')\n",
    "ax.set_ylabel('Probability density')\n",
    "\n",
    "ax.legend(fontsize=12)\n",
    "\n",
    "fig.savefig('plots/single_multi_trend_superhot.pdf', bbox_inches='tight')"
   ]
  },
  {
   "cell_type": "code",
   "execution_count": 37,
   "metadata": {},
   "outputs": [
    {
     "data": {
      "image/png": "[encoded data removed]",
      "text/plain": [
       "<Figure size 432x288 with 1 Axes>"
      ]
     },
     "metadata": {
      "needs_background": "light"
     },
     "output_type": "display_data"
    }
   ],
   "source": [
    "matplotlib.rcParams.update({'font.size': 14})\n",
    "\n",
    "fig, ax = plt.subplots()\n",
    "\n",
    "diff = shot_single - shot_multi\n",
    "percentile = np.round(scipy.stats.percentileofscore(diff, 0), 2)\n",
    "\n",
    "ax.hist(diff, histtype='step', density=True, bins=50, \n",
    "        color='black', ls='--', label='All companions')\n",
    "\n",
    "ax.axvline(0, ls=':', color='black', \n",
    "           label='{}%'.format(percentile))\n",
    "\n",
    "ax.set_xlim([-1, 3.2])\n",
    "ax.set_xlabel('Occurrence difference for very hot Jupiters')\n",
    "ax.set_ylabel('Probability density')\n",
    "\n",
    "ax.legend(fontsize=12)\n",
    "\n",
    "fig.savefig('plots/difference_trend_superhot.pdf', bbox_inches='tight')"
   ]
  },
  {
   "cell_type": "markdown",
   "metadata": {},
   "source": [
    "## Compute Laughlin number."
   ]
  },
  {
   "cell_type": "code",
   "execution_count": 10,
   "metadata": {},
   "outputs": [],
   "source": [
    "gregbins = lngrid(3, 6, 0.3*317.8, 3*317.8, 1, 1) \n",
    "hierarchical_greg = Hierarchy(samples_all, completey_all, bins=gregbins, lenrun=10000, \n",
    "                                    chainname='occur_chains/occur_chains_greg.csv')\n",
    "hierarchical_greg.max_like()"
   ]
  },
  {
   "cell_type": "code",
   "execution_count": 11,
   "metadata": {},
   "outputs": [
    {
     "name": "stderr",
     "output_type": "stream",
     "text": [
      "100%|██████████| 10000/10000 [29:48<00:00,  5.59it/s]\n"
     ]
    }
   ],
   "source": [
    "hierarchical_greg.sample(parallel=True, gp=False)"
   ]
  },
  {
   "cell_type": "code",
   "execution_count": 12,
   "metadata": {},
   "outputs": [],
   "source": [
    "greg = hierarchical_greg.chains*hierarchical_greg.bin_areas[0][0]*(100/719)\n"
   ]
  },
  {
   "cell_type": "code",
   "execution_count": 13,
   "metadata": {},
   "outputs": [
    {
     "name": "stdout",
     "output_type": "stream",
     "text": [
      "6.285917889917593 +/- 1.3708811704140706\n"
     ]
    }
   ],
   "source": [
    "print(np.median(greg), '+/-', 0.5*(np.percentile(greg, 84.1) - \\\n",
    "                                   np.percentile(greg, 15.9)))"
   ]
  },
  {
   "cell_type": "code",
   "execution_count": 16,
   "metadata": {},
   "outputs": [],
   "source": [
    "juppys = planets.query('mass >= 0.3 and mass < 3 and axis >= 3 and axis < 6')"
   ]
  },
  {
   "cell_type": "code",
   "execution_count": 17,
   "metadata": {},
   "outputs": [
    {
     "data": {
      "text/html": [
       "<div>\n",
       "<style scoped>\n",
       "    .dataframe tbody tr th:only-of-type {\n",
       "        vertical-align: middle;\n",
       "    }\n",
       "\n",
       "    .dataframe tbody tr th {\n",
       "        vertical-align: top;\n",
       "    }\n",
       "\n",
       "    .dataframe thead th {\n",
       "        text-align: right;\n",
       "    }\n",
       "</style>\n",
       "<table border=\"1\" class=\"dataframe\">\n",
       "  <thead>\n",
       "    <tr style=\"text-align: right;\">\n",
       "      <th></th>\n",
       "      <th>Unnamed: 0</th>\n",
       "      <th>hostname</th>\n",
       "      <th>status</th>\n",
       "      <th>pl_index</th>\n",
       "      <th>mass</th>\n",
       "      <th>mass_med</th>\n",
       "      <th>mass_minus</th>\n",
       "      <th>mass_plus</th>\n",
       "      <th>axis</th>\n",
       "      <th>axis_med</th>\n",
       "      <th>...</th>\n",
       "      <th>e_68</th>\n",
       "      <th>insol</th>\n",
       "      <th>insol_med</th>\n",
       "      <th>insols_minus</th>\n",
       "      <th>insols_plus</th>\n",
       "      <th>teq</th>\n",
       "      <th>teq_med</th>\n",
       "      <th>teq_minus</th>\n",
       "      <th>teq_plus</th>\n",
       "      <th>post_path</th>\n",
       "    </tr>\n",
       "  </thead>\n",
       "  <tbody>\n",
       "    <tr>\n",
       "      <th>8</th>\n",
       "      <td>15</td>\n",
       "      <td>114783</td>\n",
       "      <td>K</td>\n",
       "      <td>2.0</td>\n",
       "      <td>0.653665</td>\n",
       "      <td>0.659320</td>\n",
       "      <td>0.613194</td>\n",
       "      <td>0.705603</td>\n",
       "      <td>4.950489</td>\n",
       "      <td>4.969085</td>\n",
       "      <td>...</td>\n",
       "      <td>0.141665</td>\n",
       "      <td>0.017871</td>\n",
       "      <td>0.017709</td>\n",
       "      <td>0.016291</td>\n",
       "      <td>0.019186</td>\n",
       "      <td>1.768966</td>\n",
       "      <td>1.773011</td>\n",
       "      <td>0.016291</td>\n",
       "      <td>0.019186</td>\n",
       "      <td>/data/user/lrosenth/legacy/final_run/114783/11...</td>\n",
       "    </tr>\n",
       "    <tr>\n",
       "      <th>12</th>\n",
       "      <td>20</td>\n",
       "      <td>117207</td>\n",
       "      <td>K</td>\n",
       "      <td>1.0</td>\n",
       "      <td>1.872094</td>\n",
       "      <td>1.869543</td>\n",
       "      <td>1.795250</td>\n",
       "      <td>1.946500</td>\n",
       "      <td>3.743901</td>\n",
       "      <td>3.744161</td>\n",
       "      <td>...</td>\n",
       "      <td>0.154149</td>\n",
       "      <td>0.082141</td>\n",
       "      <td>0.082129</td>\n",
       "      <td>0.075007</td>\n",
       "      <td>0.089695</td>\n",
       "      <td>1.208147</td>\n",
       "      <td>1.208189</td>\n",
       "      <td>0.075007</td>\n",
       "      <td>0.089695</td>\n",
       "      <td>/data/user/lrosenth/legacy/final_run/117207/11...</td>\n",
       "    </tr>\n",
       "    <tr>\n",
       "      <th>13</th>\n",
       "      <td>21</td>\n",
       "      <td>11964a</td>\n",
       "      <td>K</td>\n",
       "      <td>1.0</td>\n",
       "      <td>0.635083</td>\n",
       "      <td>0.630694</td>\n",
       "      <td>0.603547</td>\n",
       "      <td>0.658001</td>\n",
       "      <td>3.185356</td>\n",
       "      <td>3.185235</td>\n",
       "      <td>...</td>\n",
       "      <td>0.122298</td>\n",
       "      <td>0.302698</td>\n",
       "      <td>0.302502</td>\n",
       "      <td>0.275326</td>\n",
       "      <td>0.332116</td>\n",
       "      <td>0.871982</td>\n",
       "      <td>0.872122</td>\n",
       "      <td>0.275326</td>\n",
       "      <td>0.332116</td>\n",
       "      <td>/data/user/lrosenth/legacy/final_run/11964a/11...</td>\n",
       "    </tr>\n",
       "    <tr>\n",
       "      <th>26</th>\n",
       "      <td>40</td>\n",
       "      <td>136925</td>\n",
       "      <td>C</td>\n",
       "      <td>1.0</td>\n",
       "      <td>0.872652</td>\n",
       "      <td>0.840422</td>\n",
       "      <td>0.766177</td>\n",
       "      <td>0.918395</td>\n",
       "      <td>5.209309</td>\n",
       "      <td>5.130608</td>\n",
       "      <td>...</td>\n",
       "      <td>0.146360</td>\n",
       "      <td>0.052280</td>\n",
       "      <td>0.053853</td>\n",
       "      <td>0.049808</td>\n",
       "      <td>0.058131</td>\n",
       "      <td>1.352622</td>\n",
       "      <td>1.342632</td>\n",
       "      <td>0.049808</td>\n",
       "      <td>0.058131</td>\n",
       "      <td>/data/user/lrosenth/legacy/final_run/136925/13...</td>\n",
       "    </tr>\n",
       "    <tr>\n",
       "      <th>27</th>\n",
       "      <td>42</td>\n",
       "      <td>13931</td>\n",
       "      <td>K</td>\n",
       "      <td>1.0</td>\n",
       "      <td>1.918693</td>\n",
       "      <td>1.910991</td>\n",
       "      <td>1.835257</td>\n",
       "      <td>1.987931</td>\n",
       "      <td>5.320475</td>\n",
       "      <td>5.322523</td>\n",
       "      <td>...</td>\n",
       "      <td>0.028891</td>\n",
       "      <td>0.061009</td>\n",
       "      <td>0.060953</td>\n",
       "      <td>0.055720</td>\n",
       "      <td>0.066532</td>\n",
       "      <td>1.301401</td>\n",
       "      <td>1.301698</td>\n",
       "      <td>0.055720</td>\n",
       "      <td>0.066532</td>\n",
       "      <td>/data/user/lrosenth/legacy/final_run/13931/139...</td>\n",
       "    </tr>\n",
       "    <tr>\n",
       "      <th>32</th>\n",
       "      <td>49</td>\n",
       "      <td>141399</td>\n",
       "      <td>K</td>\n",
       "      <td>4.0</td>\n",
       "      <td>0.651577</td>\n",
       "      <td>0.643977</td>\n",
       "      <td>0.603644</td>\n",
       "      <td>0.685634</td>\n",
       "      <td>4.514038</td>\n",
       "      <td>4.495975</td>\n",
       "      <td>...</td>\n",
       "      <td>0.069640</td>\n",
       "      <td>0.083021</td>\n",
       "      <td>0.083678</td>\n",
       "      <td>0.076429</td>\n",
       "      <td>0.091589</td>\n",
       "      <td>1.204933</td>\n",
       "      <td>1.202559</td>\n",
       "      <td>0.076429</td>\n",
       "      <td>0.091589</td>\n",
       "      <td>/data/user/lrosenth/legacy/final_run/141399/14...</td>\n",
       "    </tr>\n",
       "    <tr>\n",
       "      <th>37</th>\n",
       "      <td>60</td>\n",
       "      <td>145934</td>\n",
       "      <td>K</td>\n",
       "      <td>1.0</td>\n",
       "      <td>2.069045</td>\n",
       "      <td>2.039347</td>\n",
       "      <td>1.809421</td>\n",
       "      <td>2.279885</td>\n",
       "      <td>4.723628</td>\n",
       "      <td>4.729761</td>\n",
       "      <td>...</td>\n",
       "      <td>0.082606</td>\n",
       "      <td>1.045723</td>\n",
       "      <td>1.043213</td>\n",
       "      <td>0.928609</td>\n",
       "      <td>1.179259</td>\n",
       "      <td>0.639595</td>\n",
       "      <td>0.639980</td>\n",
       "      <td>0.928609</td>\n",
       "      <td>1.179259</td>\n",
       "      <td>/data/user/lrosenth/legacy/final_run/145934/14...</td>\n",
       "    </tr>\n",
       "    <tr>\n",
       "      <th>41</th>\n",
       "      <td>69</td>\n",
       "      <td>154345</td>\n",
       "      <td>K</td>\n",
       "      <td>2.0</td>\n",
       "      <td>0.923215</td>\n",
       "      <td>0.905009</td>\n",
       "      <td>0.815812</td>\n",
       "      <td>0.976007</td>\n",
       "      <td>4.256815</td>\n",
       "      <td>4.271967</td>\n",
       "      <td>...</td>\n",
       "      <td>0.054298</td>\n",
       "      <td>0.034064</td>\n",
       "      <td>0.033736</td>\n",
       "      <td>0.030930</td>\n",
       "      <td>0.036664</td>\n",
       "      <td>1.505516</td>\n",
       "      <td>1.509161</td>\n",
       "      <td>0.030930</td>\n",
       "      <td>0.036664</td>\n",
       "      <td>/data/user/lrosenth/legacy/final_run/154345/15...</td>\n",
       "    </tr>\n",
       "    <tr>\n",
       "      <th>66</th>\n",
       "      <td>108</td>\n",
       "      <td>187123</td>\n",
       "      <td>K</td>\n",
       "      <td>2.0</td>\n",
       "      <td>1.714340</td>\n",
       "      <td>1.712769</td>\n",
       "      <td>1.655453</td>\n",
       "      <td>1.770979</td>\n",
       "      <td>4.430876</td>\n",
       "      <td>4.432013</td>\n",
       "      <td>...</td>\n",
       "      <td>0.235218</td>\n",
       "      <td>0.067383</td>\n",
       "      <td>0.067345</td>\n",
       "      <td>0.061688</td>\n",
       "      <td>0.073470</td>\n",
       "      <td>1.269469</td>\n",
       "      <td>1.269647</td>\n",
       "      <td>0.061688</td>\n",
       "      <td>0.073470</td>\n",
       "      <td>/data/user/lrosenth/legacy/final_run/187123/18...</td>\n",
       "    </tr>\n",
       "    <tr>\n",
       "      <th>69</th>\n",
       "      <td>112</td>\n",
       "      <td>190360</td>\n",
       "      <td>K</td>\n",
       "      <td>1.0</td>\n",
       "      <td>1.491530</td>\n",
       "      <td>1.492034</td>\n",
       "      <td>1.449298</td>\n",
       "      <td>1.534622</td>\n",
       "      <td>3.954768</td>\n",
       "      <td>3.955002</td>\n",
       "      <td>...</td>\n",
       "      <td>0.331251</td>\n",
       "      <td>0.073294</td>\n",
       "      <td>0.073273</td>\n",
       "      <td>0.067685</td>\n",
       "      <td>0.079374</td>\n",
       "      <td>1.243060</td>\n",
       "      <td>1.243151</td>\n",
       "      <td>0.067685</td>\n",
       "      <td>0.079374</td>\n",
       "      <td>/data/user/lrosenth/legacy/final_run/190360/19...</td>\n",
       "    </tr>\n",
       "    <tr>\n",
       "      <th>87</th>\n",
       "      <td>157</td>\n",
       "      <td>22049</td>\n",
       "      <td>K</td>\n",
       "      <td>1.0</td>\n",
       "      <td>0.648512</td>\n",
       "      <td>0.651399</td>\n",
       "      <td>0.612619</td>\n",
       "      <td>0.689895</td>\n",
       "      <td>3.498895</td>\n",
       "      <td>3.499704</td>\n",
       "      <td>...</td>\n",
       "      <td>0.064684</td>\n",
       "      <td>0.026827</td>\n",
       "      <td>0.026823</td>\n",
       "      <td>0.025260</td>\n",
       "      <td>0.028454</td>\n",
       "      <td>1.598141</td>\n",
       "      <td>1.598201</td>\n",
       "      <td>0.025260</td>\n",
       "      <td>0.028454</td>\n",
       "      <td>/data/user/lrosenth/legacy/final_run/22049/220...</td>\n",
       "    </tr>\n",
       "    <tr>\n",
       "      <th>95</th>\n",
       "      <td>179</td>\n",
       "      <td>32963</td>\n",
       "      <td>K</td>\n",
       "      <td>1.0</td>\n",
       "      <td>0.721216</td>\n",
       "      <td>0.726375</td>\n",
       "      <td>0.690988</td>\n",
       "      <td>0.762775</td>\n",
       "      <td>3.415076</td>\n",
       "      <td>3.416170</td>\n",
       "      <td>...</td>\n",
       "      <td>0.088019</td>\n",
       "      <td>0.100671</td>\n",
       "      <td>0.100596</td>\n",
       "      <td>0.092138</td>\n",
       "      <td>0.109777</td>\n",
       "      <td>1.148243</td>\n",
       "      <td>1.148455</td>\n",
       "      <td>0.092138</td>\n",
       "      <td>0.109777</td>\n",
       "      <td>/data/user/lrosenth/legacy/final_run/32963/329...</td>\n",
       "    </tr>\n",
       "    <tr>\n",
       "      <th>112</th>\n",
       "      <td>213</td>\n",
       "      <td>50499</td>\n",
       "      <td>K</td>\n",
       "      <td>1.0</td>\n",
       "      <td>1.304681</td>\n",
       "      <td>1.346304</td>\n",
       "      <td>1.259686</td>\n",
       "      <td>1.429774</td>\n",
       "      <td>3.846660</td>\n",
       "      <td>3.846434</td>\n",
       "      <td>...</td>\n",
       "      <td>0.369251</td>\n",
       "      <td>0.159016</td>\n",
       "      <td>0.158901</td>\n",
       "      <td>0.145722</td>\n",
       "      <td>0.173058</td>\n",
       "      <td>1.024235</td>\n",
       "      <td>1.024420</td>\n",
       "      <td>0.145722</td>\n",
       "      <td>0.173058</td>\n",
       "      <td>/data/user/lrosenth/legacy/final_run/50499/504...</td>\n",
       "    </tr>\n",
       "    <tr>\n",
       "      <th>123</th>\n",
       "      <td>233</td>\n",
       "      <td>72659</td>\n",
       "      <td>K</td>\n",
       "      <td>1.0</td>\n",
       "      <td>2.822173</td>\n",
       "      <td>2.849142</td>\n",
       "      <td>2.733440</td>\n",
       "      <td>2.968966</td>\n",
       "      <td>4.645677</td>\n",
       "      <td>4.652452</td>\n",
       "      <td>...</td>\n",
       "      <td>0.278498</td>\n",
       "      <td>0.113990</td>\n",
       "      <td>0.113597</td>\n",
       "      <td>0.103829</td>\n",
       "      <td>0.124301</td>\n",
       "      <td>1.113122</td>\n",
       "      <td>1.114085</td>\n",
       "      <td>0.103829</td>\n",
       "      <td>0.124301</td>\n",
       "      <td>/data/user/lrosenth/legacy/final_run/72659/726...</td>\n",
       "    </tr>\n",
       "    <tr>\n",
       "      <th>128</th>\n",
       "      <td>239</td>\n",
       "      <td>75732</td>\n",
       "      <td>K</td>\n",
       "      <td>3.0</td>\n",
       "      <td>2.997239</td>\n",
       "      <td>2.856471</td>\n",
       "      <td>2.608989</td>\n",
       "      <td>3.110023</td>\n",
       "      <td>5.575090</td>\n",
       "      <td>5.538050</td>\n",
       "      <td>...</td>\n",
       "      <td>0.146716</td>\n",
       "      <td>0.021472</td>\n",
       "      <td>0.021760</td>\n",
       "      <td>0.020035</td>\n",
       "      <td>0.023651</td>\n",
       "      <td>1.689633</td>\n",
       "      <td>1.684004</td>\n",
       "      <td>0.020035</td>\n",
       "      <td>0.023651</td>\n",
       "      <td>/data/user/lrosenth/legacy/final_run/75732/757...</td>\n",
       "    </tr>\n",
       "    <tr>\n",
       "      <th>138</th>\n",
       "      <td>259</td>\n",
       "      <td>87883</td>\n",
       "      <td>K</td>\n",
       "      <td>1.0</td>\n",
       "      <td>2.296141</td>\n",
       "      <td>2.291653</td>\n",
       "      <td>2.222793</td>\n",
       "      <td>2.361228</td>\n",
       "      <td>4.077663</td>\n",
       "      <td>4.072395</td>\n",
       "      <td>...</td>\n",
       "      <td>0.715978</td>\n",
       "      <td>0.021324</td>\n",
       "      <td>0.021386</td>\n",
       "      <td>0.019920</td>\n",
       "      <td>0.022940</td>\n",
       "      <td>1.692546</td>\n",
       "      <td>1.691327</td>\n",
       "      <td>0.019920</td>\n",
       "      <td>0.022940</td>\n",
       "      <td>/data/user/lrosenth/legacy/final_run/87883/878...</td>\n",
       "    </tr>\n",
       "    <tr>\n",
       "      <th>143</th>\n",
       "      <td>266</td>\n",
       "      <td>95128</td>\n",
       "      <td>K</td>\n",
       "      <td>2.0</td>\n",
       "      <td>0.493199</td>\n",
       "      <td>0.497038</td>\n",
       "      <td>0.466650</td>\n",
       "      <td>0.529018</td>\n",
       "      <td>3.398104</td>\n",
       "      <td>3.403585</td>\n",
       "      <td>...</td>\n",
       "      <td>0.223470</td>\n",
       "      <td>0.115880</td>\n",
       "      <td>0.115412</td>\n",
       "      <td>0.105940</td>\n",
       "      <td>0.125844</td>\n",
       "      <td>1.108556</td>\n",
       "      <td>1.109677</td>\n",
       "      <td>0.105940</td>\n",
       "      <td>0.125844</td>\n",
       "      <td>/data/user/lrosenth/legacy/final_run/95128/951...</td>\n",
       "    </tr>\n",
       "    <tr>\n",
       "      <th>156</th>\n",
       "      <td>290</td>\n",
       "      <td>gl317</td>\n",
       "      <td>K</td>\n",
       "      <td>2.0</td>\n",
       "      <td>1.674612</td>\n",
       "      <td>1.673109</td>\n",
       "      <td>1.597552</td>\n",
       "      <td>1.751308</td>\n",
       "      <td>5.574218</td>\n",
       "      <td>5.779310</td>\n",
       "      <td>...</td>\n",
       "      <td>0.294085</td>\n",
       "      <td>0.000801</td>\n",
       "      <td>0.000740</td>\n",
       "      <td>0.000578</td>\n",
       "      <td>0.000862</td>\n",
       "      <td>3.844190</td>\n",
       "      <td>3.921553</td>\n",
       "      <td>0.000578</td>\n",
       "      <td>0.000862</td>\n",
       "      <td>/data/user/lrosenth/legacy/final_run/gl317/gl3...</td>\n",
       "    </tr>\n",
       "    <tr>\n",
       "      <th>159</th>\n",
       "      <td>296</td>\n",
       "      <td>hip109388</td>\n",
       "      <td>K</td>\n",
       "      <td>2.0</td>\n",
       "      <td>1.085623</td>\n",
       "      <td>1.078622</td>\n",
       "      <td>1.025574</td>\n",
       "      <td>1.131217</td>\n",
       "      <td>4.935984</td>\n",
       "      <td>4.973535</td>\n",
       "      <td>...</td>\n",
       "      <td>0.117941</td>\n",
       "      <td>0.001302</td>\n",
       "      <td>0.001281</td>\n",
       "      <td>0.001211</td>\n",
       "      <td>0.001353</td>\n",
       "      <td>3.404961</td>\n",
       "      <td>3.418572</td>\n",
       "      <td>0.001211</td>\n",
       "      <td>0.001353</td>\n",
       "      <td>/data/user/lrosenth/legacy/final_run/hip109388...</td>\n",
       "    </tr>\n",
       "  </tbody>\n",
       "</table>\n",
       "<p>19 rows × 43 columns</p>\n",
       "</div>"
      ],
      "text/plain": [
       "     Unnamed: 0   hostname status  pl_index      mass  mass_med  mass_minus  \\\n",
       "8            15     114783      K       2.0  0.653665  0.659320    0.613194   \n",
       "12           20     117207      K       1.0  1.872094  1.869543    1.795250   \n",
       "13           21     11964a      K       1.0  0.635083  0.630694    0.603547   \n",
       "26           40     136925      C       1.0  0.872652  0.840422    0.766177   \n",
       "27           42      13931      K       1.0  1.918693  1.910991    1.835257   \n",
       "32           49     141399      K       4.0  0.651577  0.643977    0.603644   \n",
       "37           60     145934      K       1.0  2.069045  2.039347    1.809421   \n",
       "41           69     154345      K       2.0  0.923215  0.905009    0.815812   \n",
       "66          108     187123      K       2.0  1.714340  1.712769    1.655453   \n",
       "69          112     190360      K       1.0  1.491530  1.492034    1.449298   \n",
       "87          157      22049      K       1.0  0.648512  0.651399    0.612619   \n",
       "95          179      32963      K       1.0  0.721216  0.726375    0.690988   \n",
       "112         213      50499      K       1.0  1.304681  1.346304    1.259686   \n",
       "123         233      72659      K       1.0  2.822173  2.849142    2.733440   \n",
       "128         239      75732      K       3.0  2.997239  2.856471    2.608989   \n",
       "138         259      87883      K       1.0  2.296141  2.291653    2.222793   \n",
       "143         266      95128      K       2.0  0.493199  0.497038    0.466650   \n",
       "156         290      gl317      K       2.0  1.674612  1.673109    1.597552   \n",
       "159         296  hip109388      K       2.0  1.085623  1.078622    1.025574   \n",
       "\n",
       "     mass_plus      axis  axis_med  ...      e_68     insol  insol_med  \\\n",
       "8     0.705603  4.950489  4.969085  ...  0.141665  0.017871   0.017709   \n",
       "12    1.946500  3.743901  3.744161  ...  0.154149  0.082141   0.082129   \n",
       "13    0.658001  3.185356  3.185235  ...  0.122298  0.302698   0.302502   \n",
       "26    0.918395  5.209309  5.130608  ...  0.146360  0.052280   0.053853   \n",
       "27    1.987931  5.320475  5.322523  ...  0.028891  0.061009   0.060953   \n",
       "32    0.685634  4.514038  4.495975  ...  0.069640  0.083021   0.083678   \n",
       "37    2.279885  4.723628  4.729761  ...  0.082606  1.045723   1.043213   \n",
       "41    0.976007  4.256815  4.271967  ...  0.054298  0.034064   0.033736   \n",
       "66    1.770979  4.430876  4.432013  ...  0.235218  0.067383   0.067345   \n",
       "69    1.534622  3.954768  3.955002  ...  0.331251  0.073294   0.073273   \n",
       "87    0.689895  3.498895  3.499704  ...  0.064684  0.026827   0.026823   \n",
       "95    0.762775  3.415076  3.416170  ...  0.088019  0.100671   0.100596   \n",
       "112   1.429774  3.846660  3.846434  ...  0.369251  0.159016   0.158901   \n",
       "123   2.968966  4.645677  4.652452  ...  0.278498  0.113990   0.113597   \n",
       "128   3.110023  5.575090  5.538050  ...  0.146716  0.021472   0.021760   \n",
       "138   2.361228  4.077663  4.072395  ...  0.715978  0.021324   0.021386   \n",
       "143   0.529018  3.398104  3.403585  ...  0.223470  0.115880   0.115412   \n",
       "156   1.751308  5.574218  5.779310  ...  0.294085  0.000801   0.000740   \n",
       "159   1.131217  4.935984  4.973535  ...  0.117941  0.001302   0.001281   \n",
       "\n",
       "     insols_minus  insols_plus       teq   teq_med  teq_minus  teq_plus  \\\n",
       "8        0.016291     0.019186  1.768966  1.773011   0.016291  0.019186   \n",
       "12       0.075007     0.089695  1.208147  1.208189   0.075007  0.089695   \n",
       "13       0.275326     0.332116  0.871982  0.872122   0.275326  0.332116   \n",
       "26       0.049808     0.058131  1.352622  1.342632   0.049808  0.058131   \n",
       "27       0.055720     0.066532  1.301401  1.301698   0.055720  0.066532   \n",
       "32       0.076429     0.091589  1.204933  1.202559   0.076429  0.091589   \n",
       "37       0.928609     1.179259  0.639595  0.639980   0.928609  1.179259   \n",
       "41       0.030930     0.036664  1.505516  1.509161   0.030930  0.036664   \n",
       "66       0.061688     0.073470  1.269469  1.269647   0.061688  0.073470   \n",
       "69       0.067685     0.079374  1.243060  1.243151   0.067685  0.079374   \n",
       "87       0.025260     0.028454  1.598141  1.598201   0.025260  0.028454   \n",
       "95       0.092138     0.109777  1.148243  1.148455   0.092138  0.109777   \n",
       "112      0.145722     0.173058  1.024235  1.024420   0.145722  0.173058   \n",
       "123      0.103829     0.124301  1.113122  1.114085   0.103829  0.124301   \n",
       "128      0.020035     0.023651  1.689633  1.684004   0.020035  0.023651   \n",
       "138      0.019920     0.022940  1.692546  1.691327   0.019920  0.022940   \n",
       "143      0.105940     0.125844  1.108556  1.109677   0.105940  0.125844   \n",
       "156      0.000578     0.000862  3.844190  3.921553   0.000578  0.000862   \n",
       "159      0.001211     0.001353  3.404961  3.418572   0.001211  0.001353   \n",
       "\n",
       "                                             post_path  \n",
       "8    /data/user/lrosenth/legacy/final_run/114783/11...  \n",
       "12   /data/user/lrosenth/legacy/final_run/117207/11...  \n",
       "13   /data/user/lrosenth/legacy/final_run/11964a/11...  \n",
       "26   /data/user/lrosenth/legacy/final_run/136925/13...  \n",
       "27   /data/user/lrosenth/legacy/final_run/13931/139...  \n",
       "32   /data/user/lrosenth/legacy/final_run/141399/14...  \n",
       "37   /data/user/lrosenth/legacy/final_run/145934/14...  \n",
       "41   /data/user/lrosenth/legacy/final_run/154345/15...  \n",
       "66   /data/user/lrosenth/legacy/final_run/187123/18...  \n",
       "69   /data/user/lrosenth/legacy/final_run/190360/19...  \n",
       "87   /data/user/lrosenth/legacy/final_run/22049/220...  \n",
       "95   /data/user/lrosenth/legacy/final_run/32963/329...  \n",
       "112  /data/user/lrosenth/legacy/final_run/50499/504...  \n",
       "123  /data/user/lrosenth/legacy/final_run/72659/726...  \n",
       "128  /data/user/lrosenth/legacy/final_run/75732/757...  \n",
       "138  /data/user/lrosenth/legacy/final_run/87883/878...  \n",
       "143  /data/user/lrosenth/legacy/final_run/95128/951...  \n",
       "156  /data/user/lrosenth/legacy/final_run/gl317/gl3...  \n",
       "159  /data/user/lrosenth/legacy/final_run/hip109388...  \n",
       "\n",
       "[19 rows x 43 columns]"
      ]
     },
     "execution_count": 17,
     "metadata": {},
     "output_type": "execute_result"
    }
   ],
   "source": [
    "juppys"
   ]
  },
  {
   "cell_type": "code",
   "execution_count": 18,
   "metadata": {},
   "outputs": [
    {
     "data": {
      "text/plain": [
       "2.642559109874826"
      ]
     },
     "execution_count": 18,
     "metadata": {},
     "output_type": "execute_result"
    }
   ],
   "source": [
    "len(juppys)*100/719"
   ]
  },
  {
   "cell_type": "code",
   "execution_count": null,
   "metadata": {},
   "outputs": [],
   "source": []
  }
 ],
 "metadata": {
  "kernelspec": {
   "display_name": "Python 3",
   "language": "python",
   "name": "python3"
  },
  "language_info": {
   "codemirror_mode": {
    "name": "ipython",
    "version": 3
   },
   "file_extension": ".py",
   "mimetype": "text/x-python",
   "name": "python",
   "nbconvert_exporter": "python",
   "pygments_lexer": "ipython3",
   "version": "3.7.5"
  }
 },
 "nbformat": 4,
 "nbformat_minor": 2
}

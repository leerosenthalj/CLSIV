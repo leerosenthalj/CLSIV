{
 "cells": [
  {
   "cell_type": "code",
   "execution_count": 1,
   "metadata": {},
   "outputs": [],
   "source": [
    "import pdb\n",
    "import csv\n",
    "from math import log10, floor\n",
    "\n",
    "import numpy as np\n",
    "import scipy\n",
    "import scipy.optimize as op\n",
    "import scipy.special as spec\n",
    "from scipy import stats\n",
    "import pandas as pd\n",
    "\n",
    "import matplotlib\n",
    "import matplotlib.pyplot as plt\n",
    "from matplotlib.ticker import FuncFormatter, MaxNLocator\n",
    "matplotlib.rcParams.update({'font.size': 14})\n",
    "import seaborn as sns\n",
    "import corner\n",
    "\n",
    "import astropy\n",
    "from astropy import stats as astrostats\n",
    "from astropy.timeseries import LombScargle\n",
    "\n",
    "import emcee\n",
    "import radvel\n",
    "\n",
    "import occur\n",
    "from occur import Completeness, Hierarchy\n",
    "\n",
    "%matplotlib inline"
   ]
  },
  {
   "cell_type": "code",
   "execution_count": 2,
   "metadata": {},
   "outputs": [],
   "source": [
    "def lngrid(min_a, max_a, min_M, max_M, resa, resm):\n",
    "    lna1 = np.log(min_a)\n",
    "    lna2 = np.log(max_a)\n",
    "    lnM1 = np.log(min_M)\n",
    "    lnM2 = np.log(max_M)\n",
    "    \n",
    "    dlna = (lna2 - lna1)/resa\n",
    "    dlnM = (lnM2 - lnM1)/resm\n",
    "\n",
    "    bins = []\n",
    "    for i in np.arange(int(resa)):\n",
    "        for j in np.arange(int(resm)):\n",
    "            bins.append([[lna1 + i*dlna, lna1 + (i+1)*dlna], \n",
    "                         [lnM1 + j*dlnM, lnM1 + (j+1)*dlnM]])\n",
    "            \n",
    "    return np.array(bins)"
   ]
  },
  {
   "cell_type": "markdown",
   "metadata": {},
   "source": [
    "# Assuming a polished list of known planets and candidates in the legacy sample, explore and visualize properties such as mass, host star metallicity, etc."
   ]
  },
  {
   "cell_type": "code",
   "execution_count": 3,
   "metadata": {},
   "outputs": [],
   "source": [
    "data = pd.read_csv('../CLSI/legacy_tables/system_props.csv')"
   ]
  },
  {
   "cell_type": "code",
   "execution_count": 4,
   "metadata": {},
   "outputs": [],
   "source": [
    "specmatch = pd.read_csv('/Users/lee/Academics/Astronomy/Planets/CLSI/legacy_tables/legacy_specmatch_medians.csv')\n",
    "smsyn = specmatch.query('teff_emp > 4700')\n",
    "smemp = specmatch.query('teff_emp <= 4700')\n",
    "fe_select = specmatch['fe_c'].to_list()"
   ]
  },
  {
   "cell_type": "code",
   "execution_count": 5,
   "metadata": {},
   "outputs": [],
   "source": [
    "objects = pd.read_csv('../CLSI/legacy_tables/planet_list.csv')\n",
    "trends = pd.read_csv('../CLSI/legacy_tables/trend_list.csv')"
   ]
  },
  {
   "cell_type": "markdown",
   "metadata": {},
   "source": [
    "## Sort the planets into real, new candidates, known."
   ]
  },
  {
   "cell_type": "code",
   "execution_count": 6,
   "metadata": {},
   "outputs": [],
   "source": [
    "objects_real = objects.query('status == \"K\" or status == \"C\" or status == \"S\"').reset_index(drop=True)\n",
    "objects_good = objects_real.query('mass != \"nan\"').reset_index(drop=True)\n",
    "objects_s    = objects_good.query('status == \"S\" or status == \"SS\"').reset_index(drop=True)\n",
    "planets      = objects_good.query('status == \"K\" or status == \"C\" or status == \"J\"').reset_index(drop=True)\n",
    "planets_old  = planets.query('status == \"K\"').reset_index(drop=True)\n",
    "planets_new  = planets.query('status == \"C\" or status == \"J\"').reset_index(drop=True)"
   ]
  },
  {
   "cell_type": "code",
   "execution_count": 7,
   "metadata": {},
   "outputs": [],
   "source": [
    "names = np.unique(planets.query('mass >= 0.1 and hostname != \"143761\"').hostname)\n",
    "multistats = []\n",
    "singlenames = []\n",
    "multinames = []\n",
    "giantnames = []\n",
    "singlecircnames = []\n",
    "singleeccnames  = []\n",
    "hotnames  = []\n",
    "coldnames = []\n",
    "\n",
    "bad_names = ['114762', '143761', '28185', '42581', \\\n",
    "              '8375', '72659', '167215']\n",
    "\n",
    "for name in names:\n",
    "    sample = planets.query('mass >= 0.1 and hostname == @name')\n",
    "    ngiants = len(sample)\n",
    "    if ngiants >= 1:\n",
    "        giantnames.append(name)\n",
    "    multistats.append(ngiants)\n",
    "    \n",
    "    if ngiants == 1:\n",
    "        singlenames.append(name)\n",
    "        if np.array(planets.query('mass >= 0.1 and hostname == @name').e)[0] < 0.2:\n",
    "            singlecircnames.append(name)\n",
    "        else:\n",
    "            singleeccnames.append(name)\n",
    "    elif ngiants > 1:\n",
    "        multinames.append(name)\n",
    "    else:\n",
    "        pass\n",
    "    \n",
    "    for axis in list(sample.axis):\n",
    "        if axis <= 0.1:\n",
    "            hotnames.append(name)\n",
    "        else:coldnames.append(name)\n",
    "            \n",
    "hotnames = np.unique(hotnames)\n",
    "coldnames = np.unique(coldnames)"
   ]
  },
  {
   "cell_type": "code",
   "execution_count": 8,
   "metadata": {},
   "outputs": [
    {
     "name": "stdout",
     "output_type": "stream",
     "text": [
      "38 26\n"
     ]
    }
   ],
   "source": [
    "print(len(singlecircnames), len(singleeccnames))"
   ]
  },
  {
   "cell_type": "code",
   "execution_count": 9,
   "metadata": {},
   "outputs": [
    {
     "data": {
      "text/plain": [
       "69"
      ]
     },
     "execution_count": 9,
     "metadata": {},
     "output_type": "execute_result"
    }
   ],
   "source": [
    "2*multistats.count(2) + 3*multistats.count(3) + 4*multistats.count(4) + 5*multistats.count(5)"
   ]
  },
  {
   "cell_type": "code",
   "execution_count": 10,
   "metadata": {},
   "outputs": [
    {
     "data": {
      "text/plain": [
       "26"
      ]
     },
     "execution_count": 10,
     "metadata": {},
     "output_type": "execute_result"
    }
   ],
   "source": [
    "multistats.count(2)"
   ]
  },
  {
   "cell_type": "code",
   "execution_count": 11,
   "metadata": {},
   "outputs": [
    {
     "data": {
      "text/plain": [
       "5"
      ]
     },
     "execution_count": 11,
     "metadata": {},
     "output_type": "execute_result"
    }
   ],
   "source": [
    "multistats.count(3) + multistats.count(4) "
   ]
  },
  {
   "cell_type": "code",
   "execution_count": 12,
   "metadata": {},
   "outputs": [
    {
     "data": {
      "image/png": "[encoded data removed]",
      "text/plain": [
       "<Figure size 432x288 with 1 Axes>"
      ]
     },
     "metadata": {
      "needs_background": "light"
     },
     "output_type": "display_data"
    }
   ],
   "source": [
    "matplotlib.rcParams.update({'font.size': 14})\n",
    "fig, ax = plt.subplots()\n",
    "\n",
    "ax.hist(multistats, color='black', histtype='step', lw=3, range=(0.5, 5.5), bins=5)\n",
    "ax.set_xlim([0.5, 5.5])\n",
    "ax.set_xlabel('Observed Giant Multiplicity')\n",
    "ax.set_ylabel('N')\n",
    "fig.savefig('plots/observed_giant_multiplicity.pdf', bbox_inches='tight')"
   ]
  },
  {
   "cell_type": "markdown",
   "metadata": {},
   "source": [
    "## Make log-axis ratio for two-planet systems."
   ]
  },
  {
   "cell_type": "code",
   "execution_count": 12,
   "metadata": {},
   "outputs": [],
   "source": [
    "logratios = []\n",
    "for index, name in enumerate(giantnames):\n",
    "    if multistats[index] == 2:\n",
    "        pair = planets.query('mass >= 0.1 and hostname == @name')\n",
    "        logratios.append(np.log10(np.amax(pair.axis)) - np.log10(np.amin(pair.axis)))"
   ]
  },
  {
   "cell_type": "code",
   "execution_count": 13,
   "metadata": {},
   "outputs": [
    {
     "data": {
      "text/plain": [
       "26"
      ]
     },
     "execution_count": 13,
     "metadata": {},
     "output_type": "execute_result"
    }
   ],
   "source": [
    "len(logratios)"
   ]
  },
  {
   "cell_type": "code",
   "execution_count": 14,
   "metadata": {},
   "outputs": [
    {
     "data": {
      "image/png": "[encoded data removed]",
      "text/plain": [
       "<Figure size 432x288 with 1 Axes>"
      ]
     },
     "metadata": {
      "needs_background": "light"
     },
     "output_type": "display_data"
    }
   ],
   "source": [
    "matplotlib.rcParams.update({'font.size': 14})\n",
    "fig, ax = plt.subplots()\n",
    "\n",
    "ax.set_xlim([np.amin(logratios) - 0.1, np.amax(logratios) + 0.1])\n",
    "ax.set_xlabel(r'log$_{10}$($a_2/a_1$)')\n",
    "ax.set_ylabel(r'N')\n",
    "sns.distplot(logratios, rug=True, hist=False, kde=True, ax=ax, color='black')\n",
    "fig.savefig('plots/log_axis_ratios.pdf', bbox_inches='tight')"
   ]
  },
  {
   "cell_type": "markdown",
   "metadata": {},
   "source": [
    "## Look at total planetary mass, rather than multiplicity."
   ]
  },
  {
   "cell_type": "code",
   "execution_count": 15,
   "metadata": {},
   "outputs": [],
   "source": [
    "pnames = np.unique(planets.hostname) #.query('mass >= 0.1')\n",
    "metals = [np.array(specmatch.query('name == @pname').fe_c)[0] for pname in pnames]\n",
    "masses = [np.array(specmatch.query('name == @pname').mass_c)[0] for pname in pnames]\n",
    "tmass  = [np.sum(planets.query('hostname == @pname').mass) for pname in pnames]"
   ]
  },
  {
   "cell_type": "code",
   "execution_count": 16,
   "metadata": {},
   "outputs": [
    {
     "data": {
      "image/png": "[encoded data removed]",
      "text/plain": [
       "<Figure size 432x288 with 1 Axes>"
      ]
     },
     "metadata": {
      "needs_background": "light"
     },
     "output_type": "display_data"
    }
   ],
   "source": [
    "fig, ax = plt.subplots()\n",
    "matplotlib.rcParams.update({'font.size': 14})\n",
    "\n",
    "ax.scatter(tmass, metals, c='black', s=50)\n",
    "ax.set_xlabel(r'Total System $M$sin$i$ ($M_J$)')\n",
    "ax.set_ylabel('[Fe/H]')\n",
    "ax.set_xlim([0.1, 20])\n",
    "#ax.set_ylim([-0.15, 0.5])\n",
    "ax.set_xscale('log')\n",
    "\n",
    "fig.savefig('plots/metals_vs_totmsini.pdf', bbox_inches='tight')"
   ]
  },
  {
   "cell_type": "code",
   "execution_count": 17,
   "metadata": {},
   "outputs": [
    {
     "data": {
      "image/png": "[encoded data removed]",
      "text/plain": [
       "<Figure size 432x288 with 1 Axes>"
      ]
     },
     "metadata": {
      "needs_background": "light"
     },
     "output_type": "display_data"
    }
   ],
   "source": [
    "fig, ax = plt.subplots()\n",
    "matplotlib.rcParams.update({'font.size': 14})\n",
    "\n",
    "ax.scatter(tmass, masses, c='black', s=50)\n",
    "ax.set_xlabel(r'Total System $M$sin$i$ ($M_J$)')\n",
    "ax.set_ylabel(r'Stellar mass ($M_{\\odot}$)')\n",
    "ax.set_xlim([0.1, 20])\n",
    "#ax.set_ylim([0.5, 1.6])\n",
    "ax.set_xscale('log')\n",
    "\n",
    "fig.savefig('plots/smass_vs_totmsini.pdf', bbox_inches='tight')"
   ]
  },
  {
   "cell_type": "code",
   "execution_count": 11,
   "metadata": {},
   "outputs": [],
   "source": [
    "stellar_bounds = [1.4, 1, 0.8, 0.5]"
   ]
  },
  {
   "cell_type": "code",
   "execution_count": 12,
   "metadata": {},
   "outputs": [
    {
     "data": {
      "text/plain": [
       "0      0.927591\n",
       "1      0.897309\n",
       "2      1.061918\n",
       "3      0.747831\n",
       "4      1.227957\n",
       "         ...   \n",
       "714    0.363434\n",
       "715    0.176246\n",
       "716    0.301146\n",
       "717    0.455947\n",
       "718    0.660090\n",
       "Name: mass_c, Length: 719, dtype: float64"
      ]
     },
     "execution_count": 12,
     "metadata": {},
     "output_type": "execute_result"
    }
   ],
   "source": [
    "specmatch.mass_c"
   ]
  },
  {
   "cell_type": "code",
   "execution_count": 13,
   "metadata": {},
   "outputs": [],
   "source": [
    "sorted_by_mass    = np.asarray(specmatch.name)[np.argsort(specmatch.mass_c)]\n",
    "sorted_by_mass_vs = np.sort(specmatch.mass_c)"
   ]
  },
  {
   "cell_type": "code",
   "execution_count": 14,
   "metadata": {},
   "outputs": [],
   "source": [
    "n = int(719/4) + 1\n",
    "four_lists = [sorted_by_mass[i:i + n] for i in range(0, len(sorted_by_mass), n)]\n",
    "four_vs    = [sorted_by_mass_vs[i:i + n] for i in range(0, len(sorted_by_mass_vs), n)]"
   ]
  },
  {
   "cell_type": "code",
   "execution_count": 15,
   "metadata": {},
   "outputs": [
    {
     "name": "stdout",
     "output_type": "stream",
     "text": [
      "47752 0.730087945657\n",
      "168746 0.894853831277\n",
      "195019 1.04907527427\n",
      "170174 2.86616546823\n"
     ]
    }
   ],
   "source": [
    "print(four_lists[0][-1], four_vs[0][-1])\n",
    "print(four_lists[1][-1], four_vs[1][-1])\n",
    "print(four_lists[2][-1], four_vs[2][-1])\n",
    "print(four_lists[3][-1], four_vs[3][-1])"
   ]
  },
  {
   "cell_type": "code",
   "execution_count": 16,
   "metadata": {},
   "outputs": [],
   "source": [
    "snow_giants = planets.query('mass >= 1 and axis > 1 and axis < 5')"
   ]
  },
  {
   "cell_type": "code",
   "execution_count": 17,
   "metadata": {},
   "outputs": [
    {
     "name": "stdout",
     "output_type": "stream",
     "text": [
      "39 37\n"
     ]
    }
   ],
   "source": [
    "print(len(snow_giants), len(np.unique(snow_giants.hostname)))"
   ]
  },
  {
   "cell_type": "code",
   "execution_count": 18,
   "metadata": {},
   "outputs": [],
   "source": [
    "F_snows = len(snow_giants.query('hostname in @four_lists[3]'))\n",
    "G_snows = len(snow_giants.query('hostname in @four_lists[2]'))\n",
    "K_snows = len(snow_giants.query('hostname in @four_lists[1]'))\n",
    "M_snows = len(snow_giants.query('hostname in @four_lists[0]'))"
   ]
  },
  {
   "cell_type": "code",
   "execution_count": 19,
   "metadata": {},
   "outputs": [
    {
     "name": "stdout",
     "output_type": "stream",
     "text": [
      "17 16 4 2\n"
     ]
    }
   ],
   "source": [
    "print(F_snows, G_snows, K_snows, M_snows)"
   ]
  },
  {
   "cell_type": "code",
   "execution_count": 20,
   "metadata": {},
   "outputs": [
    {
     "data": {
      "text/plain": [
       "0.7303734272554999"
      ]
     },
     "execution_count": 20,
     "metadata": {},
     "output_type": "execute_result"
    }
   ],
   "source": [
    "np.amin(four_vs[1])"
   ]
  },
  {
   "cell_type": "code",
   "execution_count": 21,
   "metadata": {},
   "outputs": [
    {
     "data": {
      "text/plain": [
       "1.04907527427"
      ]
     },
     "execution_count": 21,
     "metadata": {},
     "output_type": "execute_result"
    }
   ],
   "source": [
    "np.amax(four_vs[2])"
   ]
  },
  {
   "cell_type": "code",
   "execution_count": 22,
   "metadata": {},
   "outputs": [],
   "source": [
    "#n = int(719/3) + 1\n",
    "#three_lists = [sorted_by_mass[i:i + n] for i in range(0, len(sorted_by_mass), n)]\n",
    "#three_vs    = [sorted_by_mass_vs[i:i + n] for i in range(0, len(sorted_by_mass_vs), n)]\n",
    "three_lists = []\n",
    "three_lists.append(sorted_by_mass[sorted_by_mass_vs < 0.9])\n",
    "three_lists.append(sorted_by_mass[np.logical_and(sorted_by_mass_vs < 1.1, sorted_by_mass_vs >= 0.9)])\n",
    "three_lists.append(sorted_by_mass[sorted_by_mass_vs >= 1.1])"
   ]
  },
  {
   "cell_type": "code",
   "execution_count": 30,
   "metadata": {},
   "outputs": [],
   "source": [
    "Big_snows = len(snow_giants.query('hostname in @three_lists[2]'))\n",
    "Med_snows = len(snow_giants.query('hostname in @three_lists[1]'))\n",
    "Smo_snows = len(snow_giants.query('hostname in @three_lists[0]'))"
   ]
  },
  {
   "cell_type": "code",
   "execution_count": 31,
   "metadata": {},
   "outputs": [
    {
     "name": "stdout",
     "output_type": "stream",
     "text": [
      "13 20 6\n"
     ]
    }
   ],
   "source": [
    "print(Big_snows, Med_snows, Smo_snows)"
   ]
  },
  {
   "cell_type": "code",
   "execution_count": 32,
   "metadata": {},
   "outputs": [
    {
     "data": {
      "image/png": "[encoded data removed]",
      "text/plain": [
       "<Figure size 432x288 with 1 Axes>"
      ]
     },
     "metadata": {
      "needs_background": "light"
     },
     "output_type": "display_data"
    }
   ],
   "source": [
    "fig, ax = plt.subplots()\n",
    "ax.step([2.83, 1.05, 0.90, 0.73, 0.5], [F_snows*100/len(four_lists[3]), \n",
    "                         F_snows*100/len(four_lists[3]),\n",
    "                         G_snows*100/len(four_lists[2]), \n",
    "                         K_snows*100/len(four_lists[1]), \n",
    "                         M_snows*100/len(four_lists[0])], \n",
    "       color='black')\n",
    "\n",
    "midpoints = 0.5*np.asarray([1.3+1.05, 1.05+0.9, 0.9+0.73, 0.73+0.55])\n",
    "uppers = [F_snows*100/len(four_lists[3]) + np.sqrt(F_snows*100/len(four_lists[3])), \n",
    "          G_snows*100/len(four_lists[2]) + np.sqrt(G_snows*100/len(four_lists[2])),\n",
    "          K_snows*100/len(four_lists[1]) + np.sqrt(K_snows*100/len(four_lists[1])), \n",
    "          M_snows*100/len(four_lists[0]) + np.sqrt(M_snows*100/len(four_lists[0]))]\n",
    "lowers = [F_snows*100/len(four_lists[3]) - np.sqrt(F_snows*100/len(four_lists[3])), \n",
    "          G_snows*100/len(four_lists[2]) - np.sqrt(G_snows*100/len(four_lists[2])),\n",
    "          K_snows*100/len(four_lists[1]) - np.sqrt(K_snows*100/len(four_lists[1])), \n",
    "          M_snows*100/len(four_lists[0]) - np.sqrt(M_snows*100/len(four_lists[0]))]\n",
    "ax.vlines(midpoints, lowers, uppers)\n",
    "\n",
    "ax.set_xlim([1.3, 0.55])\n",
    "ax.set_ylim([0, 14])\n",
    "ax.set_xlabel(r'Stellar mass ($M_{\\odot}$)')\n",
    "ax.set_ylabel('Planets / 100 stars')\n",
    "fig.savefig('basic_histogram.pdf')"
   ]
  },
  {
   "cell_type": "code",
   "execution_count": 35,
   "metadata": {},
   "outputs": [
    {
     "name": "stdout",
     "output_type": "stream",
     "text": [
      "-1.86310556997 -0.123728105941 0.028870729944700007 0.166237965271 0.54\n"
     ]
    }
   ],
   "source": [
    "print(np.percentile(specmatch.fe_c, 0),  np.percentile(specmatch.fe_c, 25),\n",
    "      np.percentile(specmatch.fe_c, 50), np.percentile(specmatch.fe_c, 75),\n",
    "      np.percentile(specmatch.fe_c, 100))"
   ]
  },
  {
   "cell_type": "code",
   "execution_count": 37,
   "metadata": {},
   "outputs": [],
   "source": [
    "n = int(719/8) + 1\n",
    "eight_lists = [sorted_by_mass[i:i + n] for i in range(0, len(sorted_by_mass), n)]\n",
    "eight_vs    = [sorted_by_mass_vs[i:i + n] for i in range(0, len(sorted_by_mass_vs), n)]"
   ]
  },
  {
   "cell_type": "code",
   "execution_count": 38,
   "metadata": {},
   "outputs": [],
   "source": [
    "counts = [len(snow_giants.query('hostname in @eight_lists[@i]')) for i in range(8)]"
   ]
  },
  {
   "cell_type": "code",
   "execution_count": 39,
   "metadata": {},
   "outputs": [
    {
     "data": {
      "text/plain": [
       "[1, 1, 0, 4, 2, 14, 6, 11]"
      ]
     },
     "execution_count": 39,
     "metadata": {},
     "output_type": "execute_result"
    }
   ],
   "source": [
    "counts"
   ]
  },
  {
   "cell_type": "code",
   "execution_count": 40,
   "metadata": {},
   "outputs": [
    {
     "data": {
      "text/plain": [
       "0.495580556413"
      ]
     },
     "execution_count": 40,
     "metadata": {},
     "output_type": "execute_result"
    }
   ],
   "source": [
    "eight_vs[0][-1]"
   ]
  },
  {
   "cell_type": "code",
   "execution_count": 41,
   "metadata": {},
   "outputs": [
    {
     "data": {
      "text/plain": [
       "Text(0.5, 0, 'Stellar mass ($M_{\\\\odot}$)')"
      ]
     },
     "execution_count": 41,
     "metadata": {},
     "output_type": "execute_result"
    },
    {
     "data": {
      "image/png": "[encoded data removed]",
      "text/plain": [
       "<Figure size 432x288 with 1 Axes>"
      ]
     },
     "metadata": {
      "needs_background": "light"
     },
     "output_type": "display_data"
    }
   ],
   "source": [
    "fig, ax = plt.subplots()\n",
    "ax.hist(specmatch.mass_c, bins=40, histtype='step', color='black')\n",
    "ax.axvline(eight_vs[1][-1])\n",
    "ax.axvline(eight_vs[3][-1])\n",
    "ax.axvline(eight_vs[5][-1])\n",
    "ax.axvline(eight_vs[7][-1])\n",
    "\n",
    "ax.set_xlabel(r'Stellar mass ($M_{\\odot}$)')"
   ]
  },
  {
   "cell_type": "code",
   "execution_count": 42,
   "metadata": {},
   "outputs": [
    {
     "data": {
      "text/plain": [
       "0.16476588562000005"
      ]
     },
     "execution_count": 42,
     "metadata": {},
     "output_type": "execute_result"
    }
   ],
   "source": [
    "eight_vs[3][-1] - eight_vs[1][-1]"
   ]
  },
  {
   "cell_type": "code",
   "execution_count": 43,
   "metadata": {},
   "outputs": [
    {
     "data": {
      "text/plain": [
       "0.154221442993"
      ]
     },
     "execution_count": 43,
     "metadata": {},
     "output_type": "execute_result"
    }
   ],
   "source": [
    "eight_vs[5][-1] - eight_vs[3][-1]"
   ]
  },
  {
   "cell_type": "markdown",
   "metadata": {},
   "source": [
    "### Go from 0.3 to 1.5 solar masses. Eight bins of 0.15 solar masses, or six bins of 0.2 solar masses."
   ]
  },
  {
   "cell_type": "code",
   "execution_count": 23,
   "metadata": {},
   "outputs": [
    {
     "data": {
      "text/plain": [
       "0.02306908143112845"
      ]
     },
     "execution_count": 23,
     "metadata": {},
     "output_type": "execute_result"
    }
   ],
   "source": [
    "np.std(specmatch.mass_err_c)"
   ]
  },
  {
   "cell_type": "code",
   "execution_count": 24,
   "metadata": {},
   "outputs": [
    {
     "data": {
      "text/plain": [
       "array([0.3       , 0.37754969, 0.47514588, 0.59797059, 0.75254537,\n",
       "       0.94707755, 1.19189611, 1.5       ])"
      ]
     },
     "execution_count": 24,
     "metadata": {},
     "output_type": "execute_result"
    }
   ],
   "source": [
    "np.logspace(np.log10(0.3), np.log10(1.5), num=8)"
   ]
  },
  {
   "cell_type": "code",
   "execution_count": 25,
   "metadata": {},
   "outputs": [],
   "source": [
    "specmatch_lim         = specmatch.query('mass_c >= 0.3 and mass_c < 1.5')\n",
    "sorted_by_mass_lim    = np.asarray(specmatch_lim.name)[np.argsort(specmatch_lim.mass_c)]\n",
    "sorted_by_mass_lim_vs = np.sort(specmatch_lim.mass_c)\n",
    "\n",
    "six_lists = []\n",
    "six_lists.append(np.asarray(specmatch.query('mass_c >= 0.3 and mass_c < 0.5').name))\n",
    "six_lists.append(np.asarray(specmatch.query('mass_c >= 0.5 and mass_c < 0.7').name))\n",
    "six_lists.append(np.asarray(specmatch.query('mass_c >= 0.7 and mass_c < 0.9').name))\n",
    "six_lists.append(np.asarray(specmatch.query('mass_c >= 0.9 and mass_c < 1.1').name))\n",
    "six_lists.append(np.asarray(specmatch.query('mass_c >= 1.1 and mass_c < 1.3').name))\n",
    "six_lists.append(np.asarray(specmatch.query('mass_c >= 1.3 and mass_c < 1.5').name))"
   ]
  },
  {
   "cell_type": "code",
   "execution_count": 26,
   "metadata": {},
   "outputs": [
    {
     "data": {
      "text/plain": [
       "96"
      ]
     },
     "execution_count": 26,
     "metadata": {},
     "output_type": "execute_result"
    }
   ],
   "source": [
    "len(six_lists[4])"
   ]
  },
  {
   "cell_type": "code",
   "execution_count": 27,
   "metadata": {},
   "outputs": [],
   "source": [
    "for i in range(6):\n",
    "    with open('stellar_mass_{}.csv'.format(i+1), 'w') as f:\n",
    "        writer = csv.writer(f)\n",
    "        writer.writerow(['name'])\n",
    "        for val in six_lists[i]:\n",
    "            writer.writerow([val])"
   ]
  },
  {
   "cell_type": "code",
   "execution_count": 28,
   "metadata": {},
   "outputs": [
    {
     "data": {
      "text/plain": [
       "\"\\nfor col in good_cols:\\n    if '_M' in col:\\n        samples_all[col] *= 317.8\\n        \\nfor col in columns_1:\\n    if '_M' in col:\\n        samples_1[col] *= 317.8\\nfor col in columns_2:\\n    if '_M' in col:\\n        samples_2[col] *= 317.8\\nfor col in columns_3:\\n    if '_M' in col:\\n        samples_3[col] *= 317.8\\nfor col in columns_4:\\n    if '_M' in col:\\n        samples_4[col] *= 317.8\\nfor col in columns_5:\\n    if '_M' in col:\\n        samples_5[col] *= 317.8\\nfor col in columns_6:\\n    if '_M' in col:\\n        samples_6[col] *= 317.8\\n\""
      ]
     },
     "execution_count": 28,
     "metadata": {},
     "output_type": "execute_result"
    }
   ],
   "source": [
    "samples_all = pd.read_csv('../legacy_samples/samples_all_1000.csv').sample(500).reset_index(drop=True)\n",
    "good_cols = [col for col in samples_all.columns if '_a' in col or '_M' in col]\n",
    "samples_all = samples_all[good_cols]\n",
    "samples_med = samples_all.median()\n",
    "planetnames = np.unique([x[:-2] + x[-1] for x in samples_all.columns]) \n",
    "\n",
    "for col in good_cols:\n",
    "    if '_M' in col:\n",
    "        samples_all[col] *= 317.8\n",
    "\n",
    "specmatch_lim         = specmatch.query('mass_c >= 0.3 and mass_c < 1.5')\n",
    "sorted_by_mass_lim    = np.asarray(specmatch_lim.name)[np.argsort(specmatch_lim.mass_c)]\n",
    "sorted_by_mass_lim_vs = np.sort(specmatch_lim.mass_c)\n",
    "\n",
    "six_lists = []\n",
    "six_lists.append(np.asarray(specmatch.query('mass_c >= 0.3 and mass_c < 0.5').name))\n",
    "six_lists.append(np.asarray(specmatch.query('mass_c >= 0.5 and mass_c < 0.7').name))\n",
    "six_lists.append(np.asarray(specmatch.query('mass_c >= 0.7 and mass_c < 0.9').name))\n",
    "six_lists.append(np.asarray(specmatch.query('mass_c >= 0.9 and mass_c < 1.1').name))\n",
    "six_lists.append(np.asarray(specmatch.query('mass_c >= 1.1 and mass_c < 1.3').name))\n",
    "six_lists.append(np.asarray(specmatch.query('mass_c >= 1.3 and mass_c < 1.5').name))\n",
    "\n",
    "columns_1 = []\n",
    "columns_2 = []\n",
    "columns_3 = []\n",
    "columns_4 = []\n",
    "columns_5 = []\n",
    "columns_6 = []\n",
    "\n",
    "for planet in planetnames:\n",
    "    stellarname = planet[:-2]\n",
    "    a_col = stellarname + '_a' + planet[-1]\n",
    "    M_col = stellarname + '_M' + planet[-1]\n",
    "    if (stellarname in six_lists[0]) and (samples_med[a_col] >= 1) and (samples_med[a_col] < 5) and \\\n",
    "                                         (samples_med[M_col] >= 100/317.8) and (samples_med[M_col] < 6000/317.8):\n",
    "        columns_1.append(a_col)\n",
    "        columns_1.append(M_col)\n",
    "    if (stellarname in six_lists[1]) and (samples_med[a_col] >= 1) and (samples_med[a_col] < 5) and \\\n",
    "                                         (samples_med[M_col] >= 100/317.8) and (samples_med[M_col] < 6000/317.8):\n",
    "        columns_2.append(a_col)\n",
    "        columns_2.append(M_col)\n",
    "    if (stellarname in six_lists[2]) and (samples_med[a_col] >= 1) and (samples_med[a_col] < 5) and \\\n",
    "                                         (samples_med[M_col] >= 100/317.8) and (samples_med[M_col] < 6000/317.8):\n",
    "        columns_3.append(a_col)\n",
    "        columns_3.append(M_col)\n",
    "    if (stellarname in six_lists[3]) and (samples_med[a_col] >= 1) and (samples_med[a_col] < 5) and \\\n",
    "                                         (samples_med[M_col] >= 100/317.8) and (samples_med[M_col] < 6000/317.8):\n",
    "        columns_4.append(a_col)\n",
    "        columns_4.append(M_col)\n",
    "    if (stellarname in six_lists[4]) and (samples_med[a_col] >= 1) and (samples_med[a_col] < 5) and \\\n",
    "                                         (samples_med[M_col] >= 100/317.8) and (samples_med[M_col] < 6000/317.8):\n",
    "        columns_5.append(a_col)\n",
    "        columns_5.append(M_col)\n",
    "    if (stellarname in six_lists[5]) and (samples_med[a_col] >= 1) and (samples_med[a_col] < 5) and \\\n",
    "                                         (samples_med[M_col] >= 100/317.8) and (samples_med[M_col] < 6000/317.8):\n",
    "        columns_6.append(a_col)\n",
    "        columns_6.append(M_col)\n",
    "        \n",
    "samples_1 = samples_all[columns_1]\n",
    "samples_2 = samples_all[columns_2]\n",
    "samples_3 = samples_all[columns_3]\n",
    "samples_4 = samples_all[columns_4]\n",
    "samples_5 = samples_all[columns_5]\n",
    "samples_6 = samples_all[columns_6]"
   ]
  },
  {
   "cell_type": "code",
   "execution_count": 30,
   "metadata": {},
   "outputs": [],
   "source": [
    "recoveries_1 = pd.read_csv('../recovery_files/recoveries_stellar_mass_1.csv')\n",
    "completey_1  = Completeness(recoveries_1)\n",
    "completey_1.completeness_grid([0.01, 40], [2, 9000])\n",
    "\n",
    "recoveries_2 = pd.read_csv('../recovery_files/recoveries_stellar_mass_2.csv')\n",
    "completey_2  = Completeness(recoveries_2)\n",
    "completey_2.completeness_grid([0.01, 40], [2, 9000])\n",
    "\n",
    "recoveries_3 = pd.read_csv('../recovery_files/recoveries_stellar_mass_3.csv')\n",
    "completey_3  = Completeness(recoveries_3)\n",
    "completey_3.completeness_grid([0.01, 40], [2, 9000])\n",
    "\n",
    "recoveries_4 = pd.read_csv('../recovery_files/recoveries_stellar_mass_4.csv')\n",
    "completey_4  = Completeness(recoveries_4)\n",
    "completey_4.completeness_grid([0.01, 40], [2, 9000])\n",
    "\n",
    "recoveries_5 = pd.read_csv('../recovery_files/recoveries_stellar_mass_5.csv')\n",
    "completey_5  = Completeness(recoveries_5)\n",
    "completey_5.completeness_grid([0.01, 40], [2, 9000])\n",
    "\n",
    "recoveries_6 = pd.read_csv('../recovery_files/recoveries_stellar_mass_6.csv')\n",
    "completey_6  = Completeness(recoveries_6)\n",
    "completey_6.completeness_grid([0.01, 40], [2, 9000])"
   ]
  },
  {
   "cell_type": "code",
   "execution_count": 31,
   "metadata": {},
   "outputs": [
    {
     "name": "stderr",
     "output_type": "stream",
     "text": [
      "100%|██████████| 1000/1000 [00:15<00:00, 64.60it/s]\n",
      "100%|██████████| 1000/1000 [00:12<00:00, 81.93it/s]\n",
      "100%|██████████| 1000/1000 [00:23<00:00, 43.33it/s]\n",
      "100%|██████████| 1000/1000 [00:44<00:00, 22.47it/s]\n",
      "100%|██████████| 1000/1000 [00:27<00:00, 36.18it/s]\n",
      "100%|██████████| 1000/1000 [00:15<00:00, 63.37it/s]\n"
     ]
    }
   ],
   "source": [
    "gasbin = lngrid(1, 5, 100, 6000, 1, 1) \n",
    "hierarchical_1 = Hierarchy(samples_1, completey_1, bins=gasbin, chainname='chains/occur_chains_1.csv')\n",
    "hierarchical_1.max_like()\n",
    "hierarchical_1.sample()\n",
    "\n",
    "hierarchical_2 = Hierarchy(samples_2, completey_2, bins=gasbin, chainname='chains/occur_chains_2.csv')\n",
    "hierarchical_2.max_like()\n",
    "hierarchical_2.sample()\n",
    "\n",
    "hierarchical_3 = Hierarchy(samples_3, completey_3, bins=gasbin, chainname='chains/occur_chains_3.csv')\n",
    "hierarchical_3.max_like()\n",
    "hierarchical_3.sample()\n",
    "\n",
    "hierarchical_4 = Hierarchy(samples_4, completey_4, bins=gasbin, chainname='chains/occur_chains_4.csv')\n",
    "hierarchical_4.max_like()\n",
    "hierarchical_4.sample()\n",
    "\n",
    "hierarchical_5 = Hierarchy(samples_5, completey_5, bins=gasbin, chainname='chains/occur_chains_5.csv')\n",
    "hierarchical_5.max_like()\n",
    "hierarchical_5.sample()\n",
    "\n",
    "hierarchical_6 = Hierarchy(samples_6, completey_6, bins=gasbin, chainname='chains/occur_chains_6.csv')\n",
    "hierarchical_6.max_like()\n",
    "hierarchical_6.sample()"
   ]
  },
  {
   "cell_type": "code",
   "execution_count": 32,
   "metadata": {},
   "outputs": [],
   "source": [
    "planets_merge = pd.merge(planets, specmatch, left_on='hostname', right_on='name')"
   ]
  },
  {
   "cell_type": "code",
   "execution_count": 42,
   "metadata": {},
   "outputs": [
    {
     "data": {
      "image/png": "[encoded data removed]",
      "text/plain": [
       "<Figure size 432x288 with 1 Axes>"
      ]
     },
     "metadata": {
      "needs_background": "light"
     },
     "output_type": "display_data"
    }
   ],
   "source": [
    "matplotlib.rcParams.update({'font.size': 14})\n",
    "\n",
    "s_modes = []\n",
    "s_159 = []\n",
    "s_841 = []\n",
    "s_682 = []\n",
    "\n",
    "chains = hierarchical_1.chains*hierarchical_1.bin_areas[0][0]*(100/len(six_lists[0]))\n",
    "hist, bin_edges = np.histogram(chains, bins=40, range=(np.percentile(chains, 2), np.percentile(chains, 95)))\n",
    "s_modes.append(bin_edges[np.argmax(hist)])\n",
    "s_159.append(np.percentile(chains, 15.9))\n",
    "s_841.append(np.percentile(chains, 84.1))\n",
    "\n",
    "chains = hierarchical_2.chains*hierarchical_2.bin_areas[0][0]*(100/len(six_lists[1]))\n",
    "hist, bin_edges = np.histogram(chains, bins=40, range=(np.percentile(chains, 2), np.percentile(chains, 95)))\n",
    "s_modes.append(bin_edges[np.argmax(hist)])\n",
    "s_159.append(np.percentile(chains, 15.9))\n",
    "s_841.append(np.percentile(chains, 84.1))\n",
    "\n",
    "chains = hierarchical_3.chains*hierarchical_3.bin_areas[0][0]*(100/len(six_lists[2]))\n",
    "hist, bin_edges = np.histogram(chains, bins=40, range=(np.percentile(chains, 2), np.percentile(chains, 95)))\n",
    "s_modes.append(bin_edges[np.argmax(hist)])\n",
    "s_159.append(np.percentile(chains, 15.9))\n",
    "s_841.append(np.percentile(chains, 84.1))\n",
    "\n",
    "chains = hierarchical_4.chains*hierarchical_4.bin_areas[0][0]*(100/len(six_lists[3]))\n",
    "hist, bin_edges = np.histogram(chains, bins=40, range=(np.percentile(chains, 2), np.percentile(chains, 95)))\n",
    "s_modes.append(bin_edges[np.argmax(hist)])\n",
    "s_159.append(np.percentile(chains, 15.9))\n",
    "s_841.append(np.percentile(chains, 84.1))\n",
    "\n",
    "chains = hierarchical_5.chains*hierarchical_5.bin_areas[0][0]*(100/len(six_lists[4]))\n",
    "hist, bin_edges = np.histogram(chains, bins=40, range=(np.percentile(chains, 2), np.percentile(chains, 95)))\n",
    "s_modes.append(bin_edges[np.argmax(hist)])\n",
    "s_159.append(np.percentile(chains, 15.9))\n",
    "s_841.append(np.percentile(chains, 84.1))\n",
    "\n",
    "chains = hierarchical_6.chains*hierarchical_6.bin_areas[0][0]*(100/len(six_lists[5]))\n",
    "hist, bin_edges = np.histogram(chains, bins=40, range=(np.percentile(chains, 2), np.percentile(chains, 95)))\n",
    "s_modes.append(bin_edges[np.argmax(hist)])\n",
    "s_159.append(np.percentile(chains, 15.9))\n",
    "s_841.append(np.percentile(chains, 84.1))\n",
    "\n",
    "s_modes = np.array(s_modes)\n",
    "s_159 = np.array(s_159)\n",
    "s_841 = np.array(s_841)\n",
    "\n",
    "fig, ax = plt.subplots()\n",
    "\n",
    "ax.set_xlabel(r'Stellar mass (M$_{\\odot}$)')\n",
    "ax.set_ylabel(r'$N_P$ / 100 stars (100 - 6000 $\\mathrm{M_{\\oplus}}$)')\n",
    "ax.set_xlim([0.3, 1.5])\n",
    "ax.set_ylim([0, 42])\n",
    "lnsw = 0.2\n",
    "\n",
    "stellars = np.asarray([0.3, 0.5, 0.7, 0.9, 1.1, 1.3, 1.5])\n",
    "\n",
    "# Do simple counting.\n",
    "simple_counts = []\n",
    "for n in np.arange(len(stellars) - 1):\n",
    "    s1 = stellars[n]\n",
    "    s2 = stellars[n+1]\n",
    "    npl = len(planets_merge.query('mass>=100/317.8 and mass<6000/317.8 and axis>=1 and axis<5 and mass_c>=@s1 and mass_c<@s2'))\n",
    "    simple_counts.append(npl)    \n",
    "simple_counts = np.array(simple_counts)/len(specmatch.query('mass_c>=@s1 and mass_c<@s2'))*100\n",
    "\n",
    "# Plot just-counting histogram.\n",
    "#ax.step(stellars, np.insert(simple_counts, 0, simple_counts[0]), lw=2, c='blue', linestyle=':', label='Count')\n",
    "\n",
    "# Plot occurrence histogram.\n",
    "ax.step(stellars, np.insert(s_modes, 0, s_modes[0]), color='black', lw=2, label='Occurrence')\n",
    "# Plot mode & 68.2% CI.\n",
    "ax.scatter(stellars[:-1] + 0.5*lnsw, s_modes, color='black', s=30, label='_nolegend_')\n",
    "ax.vlines(stellars[:-1] + 0.5*lnsw, s_159, s_841, alpha=0.5, color='black', lw=3, label='68.2%')\n",
    "\n",
    "ax.legend(loc=2, fontsize=12) \n",
    "\n",
    "#fig.savefig('hist_11x1_1014_fancy_mode.png', dpi=1000, bbox_inches='tight')\n",
    "fig.savefig('plots/stellar_mass_occurrence.pdf', bbox_inches='tight')"
   ]
  },
  {
   "cell_type": "code",
   "execution_count": 34,
   "metadata": {},
   "outputs": [
    {
     "data": {
      "text/plain": [
       "(array([ 6.,  2., 11., 28., 27., 23., 22., 28., 30., 82., 73., 83., 76.,\n",
       "        76., 60., 33., 20., 11.,  9.,  7.,  5.,  1.,  2.,  0.,  1.,  0.,\n",
       "         0.,  0.,  0.,  0.,  1.,  0.,  0.,  0.,  1.,  0.,  0.,  0.,  0.,\n",
       "         1.]),\n",
       " array([0.10434646, 0.17339194, 0.24243741, 0.31148289, 0.38052836,\n",
       "        0.44957384, 0.51861931, 0.58766479, 0.65671026, 0.72575574,\n",
       "        0.79480121, 0.86384669, 0.93289216, 1.00193764, 1.07098311,\n",
       "        1.14002859, 1.20907406, 1.27811954, 1.34716502, 1.41621049,\n",
       "        1.48525597, 1.55430144, 1.62334692, 1.69239239, 1.76143787,\n",
       "        1.83048334, 1.89952882, 1.96857429, 2.03761977, 2.10666524,\n",
       "        2.17571072, 2.24475619, 2.31380167, 2.38284714, 2.45189262,\n",
       "        2.52093809, 2.58998357, 2.65902904, 2.72807452, 2.79711999,\n",
       "        2.86616547]),\n",
       " <a list of 1 Patch objects>)"
      ]
     },
     "execution_count": 34,
     "metadata": {},
     "output_type": "execute_result"
    },
    {
     "data": {
      "image/png": "[encoded data removed]",
      "text/plain": [
       "<Figure size 432x288 with 1 Axes>"
      ]
     },
     "metadata": {
      "needs_background": "light"
     },
     "output_type": "display_data"
    }
   ],
   "source": [
    "fig, ax = plt.subplots()\n",
    "ax.hist(specmatch.mass_c, bins=40, histtype='step', color='black')"
   ]
  },
  {
   "cell_type": "markdown",
   "metadata": {},
   "source": [
    "### Bin in [Fe/H] from -0.5 to 0.4. Try 6 bins."
   ]
  },
  {
   "cell_type": "code",
   "execution_count": 35,
   "metadata": {},
   "outputs": [
    {
     "data": {
      "text/plain": [
       "array([-0.5 , -0.35, -0.2 , -0.05,  0.1 ,  0.25,  0.4 ])"
      ]
     },
     "execution_count": 35,
     "metadata": {},
     "output_type": "execute_result"
    }
   ],
   "source": [
    "np.linspace(-0.5, 0.4, 7)"
   ]
  },
  {
   "cell_type": "code",
   "execution_count": 36,
   "metadata": {},
   "outputs": [],
   "source": [
    "six_lists_metal = []\n",
    "six_lists_metal.append(np.asarray(specmatch.query('fe_c >= -0.5 and fe_c < -0.35').name))\n",
    "six_lists_metal.append(np.asarray(specmatch.query('fe_c >= -0.35 and fe_c < -0.2').name))\n",
    "six_lists_metal.append(np.asarray(specmatch.query('fe_c >= -0.2 and fe_c < -0.05').name))\n",
    "six_lists_metal.append(np.asarray(specmatch.query('fe_c >= -0.05 and fe_c < 0.1').name))\n",
    "six_lists_metal.append(np.asarray(specmatch.query('fe_c >= 0.1 and fe_c < 0.25').name))\n",
    "six_lists_metal.append(np.asarray(specmatch.query('fe_c >= 0.25 and fe_c < 0.4').name))"
   ]
  },
  {
   "cell_type": "code",
   "execution_count": 54,
   "metadata": {},
   "outputs": [
    {
     "data": {
      "text/plain": [
       "[array(['102158', '104556', '10700', '110897', '111515', '139457',\n",
       "        '142267', '14412', '158633', '160693', '16397', '16623', '19034',\n",
       "        '190404', '21019a', '218209', '219953', '24238', '24341', '283',\n",
       "        '30649', '37213', '48938', '56274', '6734', '73667', '1326',\n",
       "        '201092', '225213', '95735', 'gl239', 'gl412a', 'gl625', 'gl745a',\n",
       "        'gl745b', 'gl87', 'gl908', 'hip104432', 'hip36834', 'hip60559'],\n",
       "       dtype=object),\n",
       " array(['100623', '112914', '114729', '114946', '116442', '116443',\n",
       "        '126053', '130004', '132142', '136352', '136925', '143291',\n",
       "        '145809', '150433', '152792', '157214', '159062', '161848',\n",
       "        '165401', '167215', '167216', '172051', '172310', '176377',\n",
       "        '190067', '199476', '2025', '210460', '211038', '214683', '220339',\n",
       "        '22072', '221356', '225261', '24365', '24892', '28187', '37008',\n",
       "        '37124', '4208', '43947', '4614', '4628', '51419', '55575',\n",
       "        '66171', '68017', '72673', '88371', '97658', '119850', '1326b',\n",
       "        '154363', '173739', '201091', '4614b', 'gl406', 'gl667c', 'gl686',\n",
       "        'gl699', 'hip41689', 'hip55360', 'hip5643', 'hip66459', 'hip71898',\n",
       "        'hip92403'], dtype=object),\n",
       " array(['103432', '105113', '109358', '11020', '115404a', '124106',\n",
       "        '125455', '12846', '130307', '130871', '131156', '131509',\n",
       "        '143761', '144988', '146775', '151541', '151877', '15335',\n",
       "        '154345', '156826', '156985', '157338', '164595', '166620',\n",
       "        '167665', '170657', '175541', '176982', '18445', '185144',\n",
       "        '185295', '185414', '187923', '188512', '19467', '196201',\n",
       "        '196761', '196850', '197076', '202575', '20619', '209875',\n",
       "        '212291', '216520', '217877', '223691', '224619', '233641',\n",
       "        '24727', '26965', '28946', '29883', '32923', '33021', '33636',\n",
       "        '34745', '35974', '37962', '38858', '39881', '42618', '4307',\n",
       "        '44985', '4747', '4915', '50692', '52711', '60491', '62613',\n",
       "        '67458', '6872a', '6872b', '71334', '7924', '87424', '88218',\n",
       "        '89269', '89391', '90125', '90156', '92719', '96700', '98281',\n",
       "        'hip52942a', '10436', '156026', '165222', '173740', '173818',\n",
       "        '217987', '232979', '239960', '65277', '79211', 'gl357', 'gl393',\n",
       "        'gl445', 'gl450', 'gl47', 'gl514', 'gl806', 'gl83.1', 'hip112460',\n",
       "        'hip19165', 'hip22762', 'hip23512', 'hip24284', 'hip37217',\n",
       "        'hip46769', 'hip59406b', 'hip74995', 'hip8051', 'hip84790',\n",
       "        'hip91699', 'lhs462', 's122446'], dtype=object),\n",
       " array(['10008', '100180', '10145', '101501', '104067', '10476', '10780',\n",
       "        '111484a', '112257', '114174', '115617', '117176', '117936',\n",
       "        '122652', '124292', '128165', '129814', '130322', '13043',\n",
       "        '130992', '135101a', '138549', '1388', '13931', '140538a',\n",
       "        '141004', '141272', '142229', '144287', '145934', '145958a',\n",
       "        '145958b', '146233', '146362b', '147231', '149661', '152391',\n",
       "        '153525', '153557', '155712', '156668', '157347', '167042',\n",
       "        '167389', '168009', '168443', '168746', '170174', '171067',\n",
       "        '171665', '17190', '172513', '177153', '179957', '179958',\n",
       "        '180684', '1832', '183658', '183870', '186408', '186427', '187237',\n",
       "        '189733', '190406', '191785', '192020', '192263', '192310',\n",
       "        '195019', '195564', '198425', '198802', '200538', '200565',\n",
       "        '200968', '20165', '208038', '208313', '208801', '209458',\n",
       "        '212801', '213519', '213628', '215152', '217004', '217165',\n",
       "        '218168', '219134', '219538', '22049', '221354', '221851',\n",
       "        '222582', '223238', '224383', '23356', '24213', '24496', '25665',\n",
       "        '26161', '26794', '3074a', '31412', '32963', '34411', '34721',\n",
       "        '35627', '36308', '38230', '38392', '40397', '40647', '41593',\n",
       "        '42250', '45067', '45184', '45588', '48682', '50554', '50639',\n",
       "        '50806', '51219', '51866', '52456', '6101', '61606', '65430',\n",
       "        '67767', '68978', '69830', '71881', '72659', '74156', '80367',\n",
       "        '8375', '84117', '8574', '87359', '88072', '88986', '9407',\n",
       "        '95128', '9540a', '97343', '98618', '9986', 'g161-29', 'hip80295',\n",
       "        's101438b', 's11844', '10853', '110315', '120476a', '122303',\n",
       "        '139477', '147379b', '148467', '151288', '151995', '16160',\n",
       "        '195019b', '199305', '202751', '204587', '209290', '214749',\n",
       "        '217357', '24451', '245409', '24916', '265866', '38a', '38b',\n",
       "        '39715', '47752', '50281', '52919', '79210', '88230', '95650',\n",
       "        'g205-028', 'g207-019', 'gl109', 'gl2066', 'gl226', 'gl250b',\n",
       "        'gl26', 'gl273', 'gl388', 'gl408', 'gl433', 'gl486', 'gl528b',\n",
       "        'gl569a', 'gl687', 'gl694', 'gl793', 'gl905', 'hip103039',\n",
       "        'hip117886', 'hip21556', 'hip36338', 'hip428', 'hip46655',\n",
       "        'hip47513', 'hip51007', 'hip53020', 'hip54532', 'hip57087',\n",
       "        'hip57548', 'hip67164', 'hip70975', 'hip80824', 'hip83043',\n",
       "        'hip84099'], dtype=object),\n",
       " array(['103829', '105631', '106116', '106156', '10697', '108874',\n",
       "        '110537', '111395', '111484b', '114613', '114783', '115589',\n",
       "        '116956', '117207', '118914', '11964a', '120066', '12051',\n",
       "        '127334', '128311', '129010', '131117', '13612b', '136713',\n",
       "        '137778', '1461', '149806', '150698', '153458', '156279', '157172',\n",
       "        '159222', '16141', '16287', '163489', '164507', '164922', '166',\n",
       "        '169830', '171918', '17382', '179949', '180161', '18143', '182488',\n",
       "        '18632', '187123', '187897', '18803', '189625', '190360', '192343',\n",
       "        '192344', '19308', '19373', '193795', '206387', '20675', '207874',\n",
       "        '210277', '210302', '21313', '213472', '215578', '217014', '21774',\n",
       "        '21847', '218868', '219542', '219834b', '220221', '222697',\n",
       "        '22282', '223498', '224983', '230999', '23249', '24040', '25682',\n",
       "        '25825', '26736', '28185', '29461', '29528', '30708', '31253',\n",
       "        '31966', '34445', '3651', '37394', '3765', '377', '40979', '43745',\n",
       "        '52265', '531a', '531b', '53665', '5372', '5470', '56303', '58781',\n",
       "        '63754', '6558', '68168', '71479', '73344', '8038', '82943',\n",
       "        '84737', '8648', '86728', '8765', '87883', '91204', '92222a',\n",
       "        '9331', '93745', '9518a', '9562', '9826', 'g60-06', 'hip114914',\n",
       "        '103932', '120467', '122064', '122120', '124642', '147379a',\n",
       "        '157881', '170493', '17230', '174080', '180617', '190007',\n",
       "        '193202', '213042', '216899', '285968', '31560', '32147', '36003',\n",
       "        '42581', '75732b', '97101', '97101b', 'gl382', 'gl397', 'gl4063',\n",
       "        'gl48', 'gl49', 'gl803', 'gl876', 'hip11048', 'hip1368',\n",
       "        'hip22627', 'hip30112', 'hip37766', 'hip42220', 'hip48714',\n",
       "        'hip57050', 'hip63510', 'hip70865', 'hip71253', 'hip86961',\n",
       "        's130811'], dtype=object),\n",
       " array(['10002', '104304', '105618', '107148', '10790', '111031', '116321',\n",
       "        '120136', '125184', '12661', '132505', '134987', '136442',\n",
       "        '136834', '138776', '139323', '13997', '141399', '144585',\n",
       "        '149724', '150437', '154088', '156365', '159063', '161797',\n",
       "        '16275', '163153', '170469', '173701', '177830', '178911b',\n",
       "        '181234', '182572', '183263', '183650', '188015', '199960',\n",
       "        '201203', '210312', '210392', '211080', '211681', '217107',\n",
       "        '218566', '223315', '26151', '28005', '34575', '38529', '4203',\n",
       "        '4256', '44420', '45350', '46375', '47157', '49674', '50499',\n",
       "        '66428', '68988', '69809', '75732', '76909', '80606', '8328',\n",
       "        '83443', '87836', '9070', '90711', '90722', '92788', '99109',\n",
       "        '99491', '99492', 'bd-103166', '111631', '17660', '21197', '28343',\n",
       "        '36395', '84035', '90875', 'gl317', 'hip109388', 'hip115332',\n",
       "        'hip60633'], dtype=object)]"
      ]
     },
     "execution_count": 54,
     "metadata": {},
     "output_type": "execute_result"
    }
   ],
   "source": [
    "six_lists_metal"
   ]
  },
  {
   "cell_type": "code",
   "execution_count": 37,
   "metadata": {},
   "outputs": [
    {
     "name": "stdout",
     "output_type": "stream",
     "text": [
      "5\n",
      "5\n",
      "5\n",
      "2\n",
      "5\n",
      "5\n",
      "5\n",
      "5\n",
      "6\n",
      "5\n",
      "5\n",
      "6\n",
      "6\n",
      "4\n",
      "3\n",
      "5\n",
      "4\n",
      "4\n",
      "5\n",
      "6\n",
      "6\n",
      "6\n",
      "4\n",
      "5\n",
      "6\n",
      "5\n",
      "5\n",
      "4\n",
      "4\n",
      "5\n",
      "5\n",
      "5\n",
      "4\n",
      "3\n",
      "5\n",
      "2\n",
      "2\n",
      "6\n",
      "6\n",
      "2\n",
      "6\n",
      "6\n",
      "4\n",
      "6\n",
      "4\n",
      "4\n",
      "5\n",
      "5\n",
      "4\n",
      "4\n",
      "5\n",
      "6\n",
      "6\n",
      "6\n",
      "6\n",
      "5\n"
     ]
    },
    {
     "data": {
      "text/plain": [
       "\"\\nfor col in columns_1:\\n    if '_M' in col:\\n        samples_1_metal[col] *= 317.8\\nfor col in columns_2:\\n    if '_M' in col:\\n        samples_2_metal[col] *= 317.8\\nfor col in columns_3:\\n    if '_M' in col:\\n        samples_3_metal[col] *= 317.8\\nfor col in columns_4:\\n    if '_M' in col:\\n        samples_4_metal[col] *= 317.8\\nfor col in columns_5:\\n    if '_M' in col:\\n        samples_5_metal[col] *= 317.8\\nfor col in columns_6:\\n    if '_M' in col:\\n        samples_6_metal[col] *= 317.8\\n\""
      ]
     },
     "execution_count": 37,
     "metadata": {},
     "output_type": "execute_result"
    }
   ],
   "source": [
    "columns_1 = []\n",
    "columns_2 = []\n",
    "columns_3 = []\n",
    "columns_4 = []\n",
    "columns_5 = []\n",
    "columns_6 = []\n",
    "\n",
    "for planet in planetnames:\n",
    "    stellarname = planet[:-2]\n",
    "    a_col = stellarname + '_a' + planet[-1]\n",
    "    M_col = stellarname + '_M' + planet[-1]\n",
    "    if (stellarname in six_lists_metal[0]) and (samples_med[a_col] >= 1) and (samples_med[a_col] < 5) and \\\n",
    "                                         (samples_med[M_col] >= 100/317.8) and (samples_med[M_col] < 6000/317.8):\n",
    "        columns_1.append(a_col)\n",
    "        columns_1.append(M_col)\n",
    "        print(1)\n",
    "    if (stellarname in six_lists_metal[1]) and (samples_med[a_col] >= 1) and (samples_med[a_col] < 5) and \\\n",
    "                                         (samples_med[M_col] >= 100/317.8) and (samples_med[M_col] < 6000/317.8):\n",
    "        columns_2.append(a_col)\n",
    "        columns_2.append(M_col)\n",
    "        print(2)\n",
    "    if (stellarname in six_lists_metal[2]) and (samples_med[a_col] >= 1) and (samples_med[a_col] < 5) and \\\n",
    "                                         (samples_med[M_col] >= 100/317.8) and (samples_med[M_col] < 6000/317.8):\n",
    "        columns_3.append(a_col)\n",
    "        columns_3.append(M_col)\n",
    "        print(3)\n",
    "    if (stellarname in six_lists_metal[3]) and (samples_med[a_col] >= 1) and (samples_med[a_col] < 5) and \\\n",
    "                                         (samples_med[M_col] >= 100/317.8) and (samples_med[M_col] < 6000/317.8):\n",
    "        columns_4.append(a_col)\n",
    "        columns_4.append(M_col)\n",
    "        print(4)\n",
    "    if (stellarname in six_lists_metal[4]) and (samples_med[a_col] >= 1) and (samples_med[a_col] < 5) and \\\n",
    "                                         (samples_med[M_col] >= 100/317.8) and (samples_med[M_col] < 6000/317.8):\n",
    "        columns_5.append(a_col)\n",
    "        columns_5.append(M_col)\n",
    "        print(5)\n",
    "    if (stellarname in six_lists_metal[5]) and (samples_med[a_col] >= 1) and (samples_med[a_col] < 5) and \\\n",
    "                                         (samples_med[M_col] >= 100/317.8) and (samples_med[M_col] < 6000/317.8):\n",
    "        columns_6.append(a_col)\n",
    "        columns_6.append(M_col)\n",
    "        print(6)\n",
    "samples_1_metal = samples_all[columns_1]\n",
    "samples_2_metal = samples_all[columns_2]\n",
    "samples_3_metal = samples_all[columns_3]\n",
    "samples_4_metal = samples_all[columns_4]\n",
    "samples_5_metal = samples_all[columns_5]\n",
    "samples_6_metal = samples_all[columns_6]\n",
    "'''\n",
    "for col in columns_1:\n",
    "    if '_M' in col:\n",
    "        samples_1_metal[col] *= 317.8\n",
    "for col in columns_2:\n",
    "    if '_M' in col:\n",
    "        samples_2_metal[col] *= 317.8\n",
    "for col in columns_3:\n",
    "    if '_M' in col:\n",
    "        samples_3_metal[col] *= 317.8\n",
    "for col in columns_4:\n",
    "    if '_M' in col:\n",
    "        samples_4_metal[col] *= 317.8\n",
    "for col in columns_5:\n",
    "    if '_M' in col:\n",
    "        samples_5_metal[col] *= 317.8\n",
    "for col in columns_6:\n",
    "    if '_M' in col:\n",
    "        samples_6_metal[col] *= 317.8\n",
    "'''"
   ]
  },
  {
   "cell_type": "code",
   "execution_count": 38,
   "metadata": {},
   "outputs": [],
   "source": [
    "for i in range(6):\n",
    "    with open('stellar_metallicity_{}.csv'.format(i+1), 'w') as f:\n",
    "        writer = csv.writer(f)\n",
    "        writer.writerow(['name'])\n",
    "        for val in six_lists_metal[i]:\n",
    "            writer.writerow([val])"
   ]
  },
  {
   "cell_type": "code",
   "execution_count": 39,
   "metadata": {},
   "outputs": [],
   "source": [
    "recoveries_1_metal = pd.read_csv('../recovery_files/recoveries_stellar_metallicity_1.csv')\n",
    "completey_1_metal  = Completeness(recoveries_1_metal)\n",
    "completey_1_metal.completeness_grid([0.01, 40], [2, 9000])\n",
    "\n",
    "recoveries_2_metal = pd.read_csv('../recovery_files/recoveries_stellar_metallicity_2.csv')\n",
    "completey_2_metal  = Completeness(recoveries_2_metal)\n",
    "completey_2_metal.completeness_grid([0.01, 40], [2, 9000])\n",
    "\n",
    "recoveries_3_metal = pd.read_csv('../recovery_files/recoveries_stellar_metallicity_3.csv')\n",
    "completey_3_metal  = Completeness(recoveries_3_metal)\n",
    "completey_3_metal.completeness_grid([0.01, 40], [2, 9000])\n",
    "\n",
    "recoveries_4_metal = pd.read_csv('../recovery_files/recoveries_stellar_metallicity_4.csv')\n",
    "completey_4_metal  = Completeness(recoveries_4_metal)\n",
    "completey_4_metal.completeness_grid([0.01, 40], [2, 9000])\n",
    "\n",
    "recoveries_5_metal = pd.read_csv('../recovery_files/recoveries_stellar_metallicity_5.csv')\n",
    "completey_5_metal  = Completeness(recoveries_5_metal)\n",
    "completey_5_metal.completeness_grid([0.01, 40], [2, 9000])\n",
    "\n",
    "recoveries_6_metal = pd.read_csv('../recovery_files/recoveries_stellar_metallicity_6.csv')\n",
    "completey_6_metal  = Completeness(recoveries_6_metal)\n",
    "completey_6_metal.completeness_grid([0.01, 40], [2, 9000])"
   ]
  },
  {
   "cell_type": "code",
   "execution_count": 40,
   "metadata": {},
   "outputs": [
    {
     "name": "stderr",
     "output_type": "stream",
     "text": [
      "100%|██████████| 1000/1000 [00:12<00:00, 81.60it/s]\n",
      "100%|██████████| 1000/1000 [00:17<00:00, 58.33it/s]\n",
      "100%|██████████| 1000/1000 [00:13<00:00, 73.60it/s]\n",
      "100%|██████████| 1000/1000 [00:29<00:00, 33.49it/s]\n",
      "100%|██████████| 1000/1000 [00:43<00:00, 22.78it/s]\n",
      "100%|██████████| 1000/1000 [00:36<00:00, 27.59it/s]\n"
     ]
    }
   ],
   "source": [
    "gasbin = lngrid(1, 5, 100, 6000, 1, 1) \n",
    "hierarchical_1_metal = Hierarchy(samples_1_metal, completey_1_metal, bins=gasbin, chainname='chains/occur_chains_metal_1.csv')\n",
    "hierarchical_1_metal.max_like()\n",
    "hierarchical_1_metal.sample()\n",
    "\n",
    "hierarchical_2_metal = Hierarchy(samples_2_metal, completey_2_metal, bins=gasbin, chainname='chains/occur_chains_metal_2.csv')\n",
    "hierarchical_2_metal.max_like()\n",
    "hierarchical_2_metal.sample()\n",
    "\n",
    "hierarchical_3_metal = Hierarchy(samples_3_metal, completey_3_metal, bins=gasbin, chainname='chains/occur_chains_metal_3.csv')\n",
    "hierarchical_3_metal.max_like()\n",
    "hierarchical_3_metal.sample()\n",
    "\n",
    "hierarchical_4_metal = Hierarchy(samples_4_metal, completey_4_metal, bins=gasbin, chainname='chains/occur_chains_metal_4.csv')\n",
    "hierarchical_4_metal.max_like()\n",
    "hierarchical_4_metal.sample()\n",
    "\n",
    "hierarchical_5_metal = Hierarchy(samples_5_metal, completey_5_metal, bins=gasbin, chainname='chains/occur_chains_metal_5.csv')\n",
    "hierarchical_5_metal.max_like()\n",
    "hierarchical_5_metal.sample()\n",
    "\n",
    "hierarchical_6_metal = Hierarchy(samples_6_metal, completey_6_metal, bins=gasbin, chainname='chains/occur_chains_metal_6.csv')\n",
    "hierarchical_6_metal.max_like()\n",
    "hierarchical_6_metal.sample()"
   ]
  },
  {
   "cell_type": "code",
   "execution_count": 66,
   "metadata": {},
   "outputs": [
    {
     "data": {
      "text/plain": [
       "array([[2.44152582, 0.70480779]])"
      ]
     },
     "execution_count": 66,
     "metadata": {},
     "output_type": "execute_result"
    }
   ],
   "source": [
    "hierarchical_4_metal.mlvalues"
   ]
  },
  {
   "cell_type": "code",
   "execution_count": 44,
   "metadata": {},
   "outputs": [
    {
     "data": {
      "image/png": "[encoded data removed]",
      "text/plain": [
       "<Figure size 432x288 with 1 Axes>"
      ]
     },
     "metadata": {
      "needs_background": "light"
     },
     "output_type": "display_data"
    }
   ],
   "source": [
    "matplotlib.rcParams.update({'font.size': 14})\n",
    "\n",
    "s_modes = []\n",
    "s_159 = []\n",
    "s_841 = []\n",
    "s_682 = []\n",
    "\n",
    "chains = hierarchical_1_metal.chains*hierarchical_1_metal.bin_areas[0][0]*(100/len(six_lists_metal[0]))\n",
    "hist, bin_edges = np.histogram(chains, bins=40, range=(np.percentile(chains, 2), np.percentile(chains, 95)))\n",
    "s_modes.append(bin_edges[np.argmax(hist)])\n",
    "s_159.append(np.percentile(chains, 15.9))\n",
    "s_841.append(np.percentile(chains, 84.1))\n",
    "\n",
    "chains = hierarchical_2_metal.chains*hierarchical_2_metal.bin_areas[0][0]*(100/len(six_lists_metal[1]))\n",
    "hist, bin_edges = np.histogram(chains, bins=40, range=(np.percentile(chains, 2), np.percentile(chains, 95)))\n",
    "s_modes.append(bin_edges[np.argmax(hist)])\n",
    "s_159.append(np.percentile(chains, 15.9))\n",
    "s_841.append(np.percentile(chains, 84.1))\n",
    "\n",
    "chains = hierarchical_3_metal.chains*hierarchical_3_metal.bin_areas[0][0]*(100/len(six_lists_metal[2]))\n",
    "hist, bin_edges = np.histogram(chains, bins=40, range=(np.percentile(chains, 2), np.percentile(chains, 95)))\n",
    "s_modes.append(bin_edges[np.argmax(hist)])\n",
    "s_159.append(np.percentile(chains, 15.9))\n",
    "s_841.append(np.percentile(chains, 84.1))\n",
    "\n",
    "chains = hierarchical_4_metal.chains*hierarchical_4_metal.bin_areas[0][0]*(100/len(six_lists_metal[3]))\n",
    "hist, bin_edges = np.histogram(chains, bins=40, range=(np.percentile(chains, 2), np.percentile(chains, 95)))\n",
    "s_modes.append(bin_edges[np.argmax(hist)])\n",
    "s_159.append(np.percentile(chains, 15.9))\n",
    "s_841.append(np.percentile(chains, 84.1))\n",
    "\n",
    "chains = hierarchical_5_metal.chains*hierarchical_5_metal.bin_areas[0][0]*(100/len(six_lists_metal[4]))\n",
    "hist, bin_edges = np.histogram(chains, bins=40, range=(np.percentile(chains, 2), np.percentile(chains, 95)))\n",
    "s_modes.append(bin_edges[np.argmax(hist)])\n",
    "s_159.append(np.percentile(chains, 15.9))\n",
    "s_841.append(np.percentile(chains, 84.1))\n",
    "\n",
    "chains = hierarchical_6_metal.chains*hierarchical_6_metal.bin_areas[0][0]*(100/len(six_lists_metal[5]))\n",
    "hist, bin_edges = np.histogram(chains, bins=40, range=(np.percentile(chains, 2), np.percentile(chains, 95)))\n",
    "s_modes.append(bin_edges[np.argmax(hist)])\n",
    "s_159.append(np.percentile(chains, 15.9))\n",
    "s_841.append(np.percentile(chains, 84.1))\n",
    "\n",
    "s_modes = np.array(s_modes)\n",
    "s_159 = np.array(s_159)\n",
    "s_841 = np.array(s_841)\n",
    "\n",
    "fig, ax = plt.subplots()\n",
    "\n",
    "ax.set_xlabel(r'[Fe/H]')\n",
    "ax.set_ylabel(r'$N_P$ / 100 stars (100 - 6000 $\\mathrm{M_{\\oplus}}$)')\n",
    "ax.set_xlim([-0.5, 0.4])\n",
    "ax.set_ylim([0, 35])\n",
    "lnsw = 0.15\n",
    "\n",
    "stellars = np.linspace(-0.5, 0.4, 7)\n",
    "\n",
    "# Plot occurrence step function.\n",
    "ax.step(stellars, np.insert(s_modes, 0, s_modes[0]), color='black', lw=2, label='Occurrence')\n",
    "# Plot mode & 68.2% CI.\n",
    "ax.scatter(stellars[:-1] + 0.5*lnsw, s_modes, color='black', s=30, label='_nolegend_')\n",
    "ax.vlines(stellars[:-1] + 0.5*lnsw, s_159, s_841, alpha=0.5, color='black', lw=3, label='68.2%')\n",
    "\n",
    "ax.legend(loc=2, fontsize=12) \n",
    "\n",
    "#fig.savefig('hist_11x1_1014_fancy_mode.png', dpi=1000, bbox_inches='tight')\n",
    "fig.savefig('plots/stellar_metallicity_occurrence.pdf', bbox_inches='tight')"
   ]
  },
  {
   "cell_type": "markdown",
   "metadata": {},
   "source": [
    "### Check out mass vs. metallicity for planet hosts."
   ]
  },
  {
   "cell_type": "code",
   "execution_count": 7,
   "metadata": {},
   "outputs": [],
   "source": [
    "planet_host_names = np.unique(planets.query('mass >= 0.1').hostname)\n",
    "specmatch_planets   = specmatch.query('name in @planet_host_names')\n",
    "specmatch_noplanets = specmatch.query('name not in @planet_host_names')"
   ]
  },
  {
   "cell_type": "code",
   "execution_count": 8,
   "metadata": {},
   "outputs": [
    {
     "data": {
      "text/plain": [
       "96"
      ]
     },
     "execution_count": 8,
     "metadata": {},
     "output_type": "execute_result"
    }
   ],
   "source": [
    "len(specmatch_planets)"
   ]
  },
  {
   "cell_type": "code",
   "execution_count": 10,
   "metadata": {},
   "outputs": [
    {
     "data": {
      "image/png": "[encoded data removed]",
      "text/plain": [
       "<Figure size 432x288 with 1 Axes>"
      ]
     },
     "metadata": {
      "needs_background": "light"
     },
     "output_type": "display_data"
    }
   ],
   "source": [
    "matplotlib.rcParams.update({'font.size': 14})\n",
    "fig, ax = plt.subplots()\n",
    "ax.scatter(specmatch_noplanets.fe_c, specmatch_noplanets.mass_c, c='black', alpha=0.5, label='No giants')\n",
    "ax.scatter(specmatch_planets.fe_c, specmatch_planets.mass_c, c='blue', alpha=0.9, label='Giants')\n",
    "\n",
    "ax.set_xlabel('[Fe/H]')\n",
    "ax.set_ylabel(r'Stellar mass ($M_{\\odot}$)')\n",
    "ax.set_xlim([-0.5, 0.5])\n",
    "ax.set_ylim([0, 2])\n",
    "ax.legend(fontsize=12)\n",
    "fig.savefig('plots/mass_vs_metallicity.pdf', bbox_inches='tight')"
   ]
  },
  {
   "cell_type": "code",
   "execution_count": 94,
   "metadata": {},
   "outputs": [
    {
     "data": {
      "text/plain": [
       "(-0.5, 0.5)"
      ]
     },
     "execution_count": 94,
     "metadata": {},
     "output_type": "execute_result"
    },
    {
     "data": {
      "image/png": "[encoded data removed]",
      "text/plain": [
       "<Figure size 432x288 with 1 Axes>"
      ]
     },
     "metadata": {
      "needs_background": "light"
     },
     "output_type": "display_data"
    }
   ],
   "source": [
    "fig, ax = plt.subplots()\n",
    "ax.hist(specmatch_noplanets.fe_c, color='black', alpha=0.5, bins=20, range=[-0.5, 0.5])\n",
    "ax.hist(specmatch_planets.fe_c, color='blue', alpha=0.9, bins=20, range=[-0.5, 0.5])\n",
    "\n",
    "ax.set_xlabel('[Fe/H]')\n",
    "ax.set_ylabel('N')\n",
    "ax.set_xlim([-0.5, 0.5])"
   ]
  },
  {
   "cell_type": "code",
   "execution_count": 96,
   "metadata": {},
   "outputs": [
    {
     "data": {
      "text/plain": [
       "(0.3, 1.5)"
      ]
     },
     "execution_count": 96,
     "metadata": {},
     "output_type": "execute_result"
    },
    {
     "data": {
      "image/png": "[encoded data removed]",
      "text/plain": [
       "<Figure size 432x288 with 1 Axes>"
      ]
     },
     "metadata": {
      "needs_background": "light"
     },
     "output_type": "display_data"
    }
   ],
   "source": [
    "fig, ax = plt.subplots()\n",
    "ax.hist(specmatch_noplanets.mass_c, color='black', alpha=0.5, bins=20, range=[0.3, 1.5])\n",
    "ax.hist(specmatch_planets.mass_c, color='blue', alpha=0.9, bins=20, range=[0.3, 1.5])\n",
    "\n",
    "ax.set_xlabel('[Fe/H]')\n",
    "ax.set_ylabel('N')\n",
    "ax.set_xlim([0.3, 1.5])"
   ]
  },
  {
   "cell_type": "markdown",
   "metadata": {},
   "source": [
    "### Estimate the mass function beyond the ice line."
   ]
  },
  {
   "cell_type": "code",
   "execution_count": 9,
   "metadata": {},
   "outputs": [],
   "source": [
    "recoveries_all = pd.read_csv('../recovery_files/recoveries_all_earth.csv')\n",
    "completey_all  = Completeness(recoveries_all)\n",
    "completey_all.completeness_grid([0.01, 40], [2, 9000])"
   ]
  },
  {
   "cell_type": "code",
   "execution_count": 10,
   "metadata": {},
   "outputs": [],
   "source": [
    "massbins = lngrid(1, 5, 30., 3000, 1, 4) "
   ]
  },
  {
   "cell_type": "code",
   "execution_count": 14,
   "metadata": {},
   "outputs": [],
   "source": [
    "hierarchical_mass = Hierarchy(samples_all, completey_all, bins=massbins, chainname='chains/occur_chains_mass_function.csv')\n",
    "hierarchical_mass.max_like()"
   ]
  },
  {
   "cell_type": "code",
   "execution_count": 15,
   "metadata": {},
   "outputs": [
    {
     "data": {
      "text/plain": [
       "array([[16.00717098,  7.15862449],\n",
       "       [22.74548552,  5.08604518],\n",
       "       [17.11130923,  3.49283137],\n",
       "       [ 8.12566223,  2.25365322]])"
      ]
     },
     "execution_count": 15,
     "metadata": {},
     "output_type": "execute_result"
    }
   ],
   "source": [
    "hierarchical_mass.mlvalues"
   ]
  },
  {
   "cell_type": "code",
   "execution_count": 16,
   "metadata": {},
   "outputs": [
    {
     "name": "stderr",
     "output_type": "stream",
     "text": [
      "  1%|          | 7/1000 [00:07<18:47,  1.14s/it]Traceback (most recent call last):\n",
      "  File \"/Users/lee/anaconda/lib/python3.7/site-packages/emcee/ensemble.py\", line 545, in __call__\n",
      "    return self.f(x, *self.args, **self.kwargs)\n",
      "  File \"/Users/lee/Academics/Astronomy/Planets/CLSIV/occur.py\", line 247, in lnpost\n",
      "    return self.lnlike(theta)\n",
      "  File \"/Users/lee/Academics/Astronomy/Planets/CLSIV/occur.py\", line 225, in lnlike\n",
      "    sample_M = np.array(self.pop[planet[:-2] + '_M' + planet[-1]])\n",
      "  File \"/Users/lee/anaconda/lib/python3.7/site-packages/pandas/core/frame.py\", line 2966, in __getitem__\n",
      "    key = com.apply_if_callable(key, self)\n",
      "KeyboardInterrupt\n",
      "  1%|          | 7/1000 [00:08<20:31,  1.24s/it]"
     ]
    },
    {
     "name": "stdout",
     "output_type": "stream",
     "text": [
      "emcee: Exception while calling your likelihood function:\n",
      "  params: [16.01188221 22.74676944 17.12319709  8.11400548]\n",
      "  args: []\n",
      "  kwargs: {}\n",
      "  exception:\n"
     ]
    },
    {
     "name": "stderr",
     "output_type": "stream",
     "text": [
      "\n"
     ]
    },
    {
     "ename": "KeyboardInterrupt",
     "evalue": "",
     "output_type": "error",
     "traceback": [
      "\u001b[0;31m---------------------------------------------------------------------------\u001b[0m",
      "\u001b[0;31mKeyboardInterrupt\u001b[0m                         Traceback (most recent call last)",
      "\u001b[0;32m<ipython-input-16-b90aab3185db>\u001b[0m in \u001b[0;36m<module>\u001b[0;34m\u001b[0m\n\u001b[0;32m----> 1\u001b[0;31m \u001b[0mhierarchical_mass\u001b[0m\u001b[0;34m.\u001b[0m\u001b[0msample\u001b[0m\u001b[0;34m(\u001b[0m\u001b[0;34m)\u001b[0m\u001b[0;34m\u001b[0m\u001b[0;34m\u001b[0m\u001b[0m\n\u001b[0m",
      "\u001b[0;32m~/Academics/Astronomy/Planets/CLSIV/occur.py\u001b[0m in \u001b[0;36msample\u001b[0;34m(self, gp, parallel, save)\u001b[0m\n\u001b[1;32m    263\u001b[0m         \u001b[0;32melse\u001b[0m\u001b[0;34m:\u001b[0m\u001b[0;34m\u001b[0m\u001b[0;34m\u001b[0m\u001b[0m\n\u001b[1;32m    264\u001b[0m             \u001b[0mself\u001b[0m\u001b[0;34m.\u001b[0m\u001b[0msampler\u001b[0m \u001b[0;34m=\u001b[0m \u001b[0memcee\u001b[0m\u001b[0;34m.\u001b[0m\u001b[0mEnsembleSampler\u001b[0m\u001b[0;34m(\u001b[0m\u001b[0mnwalkers\u001b[0m\u001b[0;34m,\u001b[0m \u001b[0mndim\u001b[0m\u001b[0;34m,\u001b[0m \u001b[0mself\u001b[0m\u001b[0;34m.\u001b[0m\u001b[0mlnpost\u001b[0m\u001b[0;34m)\u001b[0m\u001b[0;34m\u001b[0m\u001b[0;34m\u001b[0m\u001b[0m\n\u001b[0;32m--> 265\u001b[0;31m             \u001b[0mself\u001b[0m\u001b[0;34m.\u001b[0m\u001b[0msampler\u001b[0m\u001b[0;34m.\u001b[0m\u001b[0mrun_mcmc\u001b[0m\u001b[0;34m(\u001b[0m\u001b[0mpos\u001b[0m\u001b[0;34m,\u001b[0m \u001b[0;36m1000\u001b[0m\u001b[0;34m,\u001b[0m \u001b[0mprogress\u001b[0m\u001b[0;34m=\u001b[0m\u001b[0;32mTrue\u001b[0m\u001b[0;34m)\u001b[0m\u001b[0;34m\u001b[0m\u001b[0;34m\u001b[0m\u001b[0m\n\u001b[0m\u001b[1;32m    266\u001b[0m             \u001b[0mself\u001b[0m\u001b[0;34m.\u001b[0m\u001b[0mchains\u001b[0m \u001b[0;34m=\u001b[0m \u001b[0mself\u001b[0m\u001b[0;34m.\u001b[0m\u001b[0msampler\u001b[0m\u001b[0;34m.\u001b[0m\u001b[0mchain\u001b[0m\u001b[0;34m[\u001b[0m\u001b[0;34m:\u001b[0m\u001b[0;34m,\u001b[0m \u001b[0;36m100\u001b[0m\u001b[0;34m:\u001b[0m\u001b[0;34m,\u001b[0m \u001b[0;34m:\u001b[0m\u001b[0;34m]\u001b[0m\u001b[0;34m.\u001b[0m\u001b[0mreshape\u001b[0m\u001b[0;34m(\u001b[0m\u001b[0;34m(\u001b[0m\u001b[0;34m-\u001b[0m\u001b[0;36m1\u001b[0m\u001b[0;34m,\u001b[0m \u001b[0mndim\u001b[0m\u001b[0;34m)\u001b[0m\u001b[0;34m)\u001b[0m\u001b[0;34m\u001b[0m\u001b[0;34m\u001b[0m\u001b[0m\n\u001b[1;32m    267\u001b[0m \u001b[0;34m\u001b[0m\u001b[0m\n",
      "\u001b[0;32m~/anaconda/lib/python3.7/site-packages/emcee/ensemble.py\u001b[0m in \u001b[0;36mrun_mcmc\u001b[0;34m(self, initial_state, nsteps, **kwargs)\u001b[0m\n\u001b[1;32m    382\u001b[0m \u001b[0;34m\u001b[0m\u001b[0m\n\u001b[1;32m    383\u001b[0m         \u001b[0mresults\u001b[0m \u001b[0;34m=\u001b[0m \u001b[0;32mNone\u001b[0m\u001b[0;34m\u001b[0m\u001b[0;34m\u001b[0m\u001b[0m\n\u001b[0;32m--> 384\u001b[0;31m         \u001b[0;32mfor\u001b[0m \u001b[0mresults\u001b[0m \u001b[0;32min\u001b[0m \u001b[0mself\u001b[0m\u001b[0;34m.\u001b[0m\u001b[0msample\u001b[0m\u001b[0;34m(\u001b[0m\u001b[0minitial_state\u001b[0m\u001b[0;34m,\u001b[0m \u001b[0miterations\u001b[0m\u001b[0;34m=\u001b[0m\u001b[0mnsteps\u001b[0m\u001b[0;34m,\u001b[0m \u001b[0;34m**\u001b[0m\u001b[0mkwargs\u001b[0m\u001b[0;34m)\u001b[0m\u001b[0;34m:\u001b[0m\u001b[0;34m\u001b[0m\u001b[0;34m\u001b[0m\u001b[0m\n\u001b[0m\u001b[1;32m    385\u001b[0m             \u001b[0;32mpass\u001b[0m\u001b[0;34m\u001b[0m\u001b[0;34m\u001b[0m\u001b[0m\n\u001b[1;32m    386\u001b[0m \u001b[0;34m\u001b[0m\u001b[0m\n",
      "\u001b[0;32m~/anaconda/lib/python3.7/site-packages/emcee/ensemble.py\u001b[0m in \u001b[0;36msample\u001b[0;34m(self, initial_state, log_prob0, rstate0, blobs0, iterations, tune, skip_initial_state_check, thin_by, thin, store, progress)\u001b[0m\n\u001b[1;32m    341\u001b[0m \u001b[0;34m\u001b[0m\u001b[0m\n\u001b[1;32m    342\u001b[0m                     \u001b[0;31m# Propose\u001b[0m\u001b[0;34m\u001b[0m\u001b[0;34m\u001b[0m\u001b[0;34m\u001b[0m\u001b[0m\n\u001b[0;32m--> 343\u001b[0;31m                     \u001b[0mstate\u001b[0m\u001b[0;34m,\u001b[0m \u001b[0maccepted\u001b[0m \u001b[0;34m=\u001b[0m \u001b[0mmove\u001b[0m\u001b[0;34m.\u001b[0m\u001b[0mpropose\u001b[0m\u001b[0;34m(\u001b[0m\u001b[0mmodel\u001b[0m\u001b[0;34m,\u001b[0m \u001b[0mstate\u001b[0m\u001b[0;34m)\u001b[0m\u001b[0;34m\u001b[0m\u001b[0;34m\u001b[0m\u001b[0m\n\u001b[0m\u001b[1;32m    344\u001b[0m                     \u001b[0mstate\u001b[0m\u001b[0;34m.\u001b[0m\u001b[0mrandom_state\u001b[0m \u001b[0;34m=\u001b[0m \u001b[0mself\u001b[0m\u001b[0;34m.\u001b[0m\u001b[0mrandom_state\u001b[0m\u001b[0;34m\u001b[0m\u001b[0;34m\u001b[0m\u001b[0m\n\u001b[1;32m    345\u001b[0m \u001b[0;34m\u001b[0m\u001b[0m\n",
      "\u001b[0;32m~/anaconda/lib/python3.7/site-packages/emcee/moves/red_blue.py\u001b[0m in \u001b[0;36mpropose\u001b[0;34m(self, model, state)\u001b[0m\n\u001b[1;32m     91\u001b[0m \u001b[0;34m\u001b[0m\u001b[0m\n\u001b[1;32m     92\u001b[0m             \u001b[0;31m# Compute the lnprobs of the proposed position.\u001b[0m\u001b[0;34m\u001b[0m\u001b[0;34m\u001b[0m\u001b[0;34m\u001b[0m\u001b[0m\n\u001b[0;32m---> 93\u001b[0;31m             \u001b[0mnew_log_probs\u001b[0m\u001b[0;34m,\u001b[0m \u001b[0mnew_blobs\u001b[0m \u001b[0;34m=\u001b[0m \u001b[0mmodel\u001b[0m\u001b[0;34m.\u001b[0m\u001b[0mcompute_log_prob_fn\u001b[0m\u001b[0;34m(\u001b[0m\u001b[0mq\u001b[0m\u001b[0;34m)\u001b[0m\u001b[0;34m\u001b[0m\u001b[0;34m\u001b[0m\u001b[0m\n\u001b[0m\u001b[1;32m     94\u001b[0m \u001b[0;34m\u001b[0m\u001b[0m\n\u001b[1;32m     95\u001b[0m             \u001b[0;31m# Loop over the walkers and update them accordingly.\u001b[0m\u001b[0;34m\u001b[0m\u001b[0;34m\u001b[0m\u001b[0;34m\u001b[0m\u001b[0m\n",
      "\u001b[0;32m~/anaconda/lib/python3.7/site-packages/emcee/ensemble.py\u001b[0m in \u001b[0;36mcompute_log_prob\u001b[0;34m(self, coords)\u001b[0m\n\u001b[1;32m    425\u001b[0m                 \u001b[0mmap_func\u001b[0m \u001b[0;34m=\u001b[0m \u001b[0mmap\u001b[0m\u001b[0;34m\u001b[0m\u001b[0;34m\u001b[0m\u001b[0m\n\u001b[1;32m    426\u001b[0m             results = list(\n\u001b[0;32m--> 427\u001b[0;31m                 \u001b[0mmap_func\u001b[0m\u001b[0;34m(\u001b[0m\u001b[0mself\u001b[0m\u001b[0;34m.\u001b[0m\u001b[0mlog_prob_fn\u001b[0m\u001b[0;34m,\u001b[0m \u001b[0;34m(\u001b[0m\u001b[0mp\u001b[0m\u001b[0;34m[\u001b[0m\u001b[0mi\u001b[0m\u001b[0;34m]\u001b[0m \u001b[0;32mfor\u001b[0m \u001b[0mi\u001b[0m \u001b[0;32min\u001b[0m \u001b[0mrange\u001b[0m\u001b[0;34m(\u001b[0m\u001b[0mlen\u001b[0m\u001b[0;34m(\u001b[0m\u001b[0mp\u001b[0m\u001b[0;34m)\u001b[0m\u001b[0;34m)\u001b[0m\u001b[0;34m)\u001b[0m\u001b[0;34m)\u001b[0m\u001b[0;34m\u001b[0m\u001b[0;34m\u001b[0m\u001b[0m\n\u001b[0m\u001b[1;32m    428\u001b[0m             )\n\u001b[1;32m    429\u001b[0m \u001b[0;34m\u001b[0m\u001b[0m\n",
      "\u001b[0;32m~/anaconda/lib/python3.7/site-packages/emcee/ensemble.py\u001b[0m in \u001b[0;36m__call__\u001b[0;34m(self, x)\u001b[0m\n\u001b[1;32m    543\u001b[0m     \u001b[0;32mdef\u001b[0m \u001b[0m__call__\u001b[0m\u001b[0;34m(\u001b[0m\u001b[0mself\u001b[0m\u001b[0;34m,\u001b[0m \u001b[0mx\u001b[0m\u001b[0;34m)\u001b[0m\u001b[0;34m:\u001b[0m\u001b[0;34m\u001b[0m\u001b[0;34m\u001b[0m\u001b[0m\n\u001b[1;32m    544\u001b[0m         \u001b[0;32mtry\u001b[0m\u001b[0;34m:\u001b[0m\u001b[0;34m\u001b[0m\u001b[0;34m\u001b[0m\u001b[0m\n\u001b[0;32m--> 545\u001b[0;31m             \u001b[0;32mreturn\u001b[0m \u001b[0mself\u001b[0m\u001b[0;34m.\u001b[0m\u001b[0mf\u001b[0m\u001b[0;34m(\u001b[0m\u001b[0mx\u001b[0m\u001b[0;34m,\u001b[0m \u001b[0;34m*\u001b[0m\u001b[0mself\u001b[0m\u001b[0;34m.\u001b[0m\u001b[0margs\u001b[0m\u001b[0;34m,\u001b[0m \u001b[0;34m**\u001b[0m\u001b[0mself\u001b[0m\u001b[0;34m.\u001b[0m\u001b[0mkwargs\u001b[0m\u001b[0;34m)\u001b[0m\u001b[0;34m\u001b[0m\u001b[0;34m\u001b[0m\u001b[0m\n\u001b[0m\u001b[1;32m    546\u001b[0m         \u001b[0;32mexcept\u001b[0m\u001b[0;34m:\u001b[0m  \u001b[0;31m# pragma: no cover\u001b[0m\u001b[0;34m\u001b[0m\u001b[0;34m\u001b[0m\u001b[0m\n\u001b[1;32m    547\u001b[0m             \u001b[0;32mimport\u001b[0m \u001b[0mtraceback\u001b[0m\u001b[0;34m\u001b[0m\u001b[0;34m\u001b[0m\u001b[0m\n",
      "\u001b[0;32m~/Academics/Astronomy/Planets/CLSIV/occur.py\u001b[0m in \u001b[0;36mlnpost\u001b[0;34m(self, theta)\u001b[0m\n\u001b[1;32m    245\u001b[0m \u001b[0;34m\u001b[0m\u001b[0m\n\u001b[1;32m    246\u001b[0m     \u001b[0;32mdef\u001b[0m \u001b[0mlnpost\u001b[0m\u001b[0;34m(\u001b[0m\u001b[0mself\u001b[0m\u001b[0;34m,\u001b[0m \u001b[0mtheta\u001b[0m\u001b[0;34m)\u001b[0m\u001b[0;34m:\u001b[0m\u001b[0;34m\u001b[0m\u001b[0;34m\u001b[0m\u001b[0m\n\u001b[0;32m--> 247\u001b[0;31m         \u001b[0;32mreturn\u001b[0m \u001b[0mself\u001b[0m\u001b[0;34m.\u001b[0m\u001b[0mlnlike\u001b[0m\u001b[0;34m(\u001b[0m\u001b[0mtheta\u001b[0m\u001b[0;34m)\u001b[0m\u001b[0;34m\u001b[0m\u001b[0;34m\u001b[0m\u001b[0m\n\u001b[0m\u001b[1;32m    248\u001b[0m \u001b[0;34m\u001b[0m\u001b[0m\n\u001b[1;32m    249\u001b[0m     \u001b[0;32mdef\u001b[0m \u001b[0msample\u001b[0m\u001b[0;34m(\u001b[0m\u001b[0mself\u001b[0m\u001b[0;34m,\u001b[0m \u001b[0mgp\u001b[0m\u001b[0;34m=\u001b[0m\u001b[0;32mFalse\u001b[0m\u001b[0;34m,\u001b[0m \u001b[0mparallel\u001b[0m\u001b[0;34m=\u001b[0m\u001b[0;32mFalse\u001b[0m\u001b[0;34m,\u001b[0m \u001b[0msave\u001b[0m\u001b[0;34m=\u001b[0m\u001b[0;32mTrue\u001b[0m\u001b[0;34m)\u001b[0m\u001b[0;34m:\u001b[0m\u001b[0;34m\u001b[0m\u001b[0;34m\u001b[0m\u001b[0m\n",
      "\u001b[0;32m~/Academics/Astronomy/Planets/CLSIV/occur.py\u001b[0m in \u001b[0;36mlnlike\u001b[0;34m(self, theta)\u001b[0m\n\u001b[1;32m    223\u001b[0m             \u001b[0mprobs\u001b[0m \u001b[0;34m=\u001b[0m \u001b[0;34m[\u001b[0m\u001b[0;34m]\u001b[0m\u001b[0;34m\u001b[0m\u001b[0;34m\u001b[0m\u001b[0m\n\u001b[1;32m    224\u001b[0m             \u001b[0msample_a\u001b[0m \u001b[0;34m=\u001b[0m \u001b[0mnp\u001b[0m\u001b[0;34m.\u001b[0m\u001b[0marray\u001b[0m\u001b[0;34m(\u001b[0m\u001b[0mself\u001b[0m\u001b[0;34m.\u001b[0m\u001b[0mpop\u001b[0m\u001b[0;34m[\u001b[0m\u001b[0mplanet\u001b[0m\u001b[0;34m[\u001b[0m\u001b[0;34m:\u001b[0m\u001b[0;34m-\u001b[0m\u001b[0;36m2\u001b[0m\u001b[0;34m]\u001b[0m \u001b[0;34m+\u001b[0m \u001b[0;34m'_a'\u001b[0m \u001b[0;34m+\u001b[0m \u001b[0mplanet\u001b[0m\u001b[0;34m[\u001b[0m\u001b[0;34m-\u001b[0m\u001b[0;36m1\u001b[0m\u001b[0;34m]\u001b[0m\u001b[0;34m]\u001b[0m\u001b[0;34m)\u001b[0m\u001b[0;34m\u001b[0m\u001b[0;34m\u001b[0m\u001b[0m\n\u001b[0;32m--> 225\u001b[0;31m             \u001b[0msample_M\u001b[0m \u001b[0;34m=\u001b[0m \u001b[0mnp\u001b[0m\u001b[0;34m.\u001b[0m\u001b[0marray\u001b[0m\u001b[0;34m(\u001b[0m\u001b[0mself\u001b[0m\u001b[0;34m.\u001b[0m\u001b[0mpop\u001b[0m\u001b[0;34m[\u001b[0m\u001b[0mplanet\u001b[0m\u001b[0;34m[\u001b[0m\u001b[0;34m:\u001b[0m\u001b[0;34m-\u001b[0m\u001b[0;36m2\u001b[0m\u001b[0;34m]\u001b[0m \u001b[0;34m+\u001b[0m \u001b[0;34m'_M'\u001b[0m \u001b[0;34m+\u001b[0m \u001b[0mplanet\u001b[0m\u001b[0;34m[\u001b[0m\u001b[0;34m-\u001b[0m\u001b[0;36m1\u001b[0m\u001b[0;34m]\u001b[0m\u001b[0;34m]\u001b[0m\u001b[0;34m)\u001b[0m\u001b[0;34m\u001b[0m\u001b[0;34m\u001b[0m\u001b[0m\n\u001b[0m\u001b[1;32m    226\u001b[0m             probs = self.completeness.interpolate(sample_a, sample_M)*self.occurrence(\n\u001b[1;32m    227\u001b[0m                                            np.log(sample_a), np.log(sample_M), theta)\n",
      "\u001b[0;32m~/anaconda/lib/python3.7/site-packages/pandas/core/frame.py\u001b[0m in \u001b[0;36m__getitem__\u001b[0;34m(self, key)\u001b[0m\n\u001b[1;32m   2964\u001b[0m     \u001b[0;32mdef\u001b[0m \u001b[0m__getitem__\u001b[0m\u001b[0;34m(\u001b[0m\u001b[0mself\u001b[0m\u001b[0;34m,\u001b[0m \u001b[0mkey\u001b[0m\u001b[0;34m)\u001b[0m\u001b[0;34m:\u001b[0m\u001b[0;34m\u001b[0m\u001b[0;34m\u001b[0m\u001b[0m\n\u001b[1;32m   2965\u001b[0m         \u001b[0mkey\u001b[0m \u001b[0;34m=\u001b[0m \u001b[0mlib\u001b[0m\u001b[0;34m.\u001b[0m\u001b[0mitem_from_zerodim\u001b[0m\u001b[0;34m(\u001b[0m\u001b[0mkey\u001b[0m\u001b[0;34m)\u001b[0m\u001b[0;34m\u001b[0m\u001b[0;34m\u001b[0m\u001b[0m\n\u001b[0;32m-> 2966\u001b[0;31m         \u001b[0mkey\u001b[0m \u001b[0;34m=\u001b[0m \u001b[0mcom\u001b[0m\u001b[0;34m.\u001b[0m\u001b[0mapply_if_callable\u001b[0m\u001b[0;34m(\u001b[0m\u001b[0mkey\u001b[0m\u001b[0;34m,\u001b[0m \u001b[0mself\u001b[0m\u001b[0;34m)\u001b[0m\u001b[0;34m\u001b[0m\u001b[0;34m\u001b[0m\u001b[0m\n\u001b[0m\u001b[1;32m   2967\u001b[0m \u001b[0;34m\u001b[0m\u001b[0m\n\u001b[1;32m   2968\u001b[0m         \u001b[0;32mif\u001b[0m \u001b[0mis_hashable\u001b[0m\u001b[0;34m(\u001b[0m\u001b[0mkey\u001b[0m\u001b[0;34m)\u001b[0m\u001b[0;34m:\u001b[0m\u001b[0;34m\u001b[0m\u001b[0;34m\u001b[0m\u001b[0m\n",
      "\u001b[0;31mKeyboardInterrupt\u001b[0m: "
     ]
    }
   ],
   "source": [
    "hierarchical_mass.sample()"
   ]
  },
  {
   "cell_type": "code",
   "execution_count": 80,
   "metadata": {},
   "outputs": [
    {
     "data": {
      "image/png": "[encoded data removed]",
      "text/plain": [
       "<Figure size 432x288 with 1 Axes>"
      ]
     },
     "metadata": {
      "needs_background": "light"
     },
     "output_type": "display_data"
    }
   ],
   "source": [
    "matplotlib.rcParams.update({'font.size': 14})\n",
    "chains_db = pd.read_csv('chains/occur_chains_mass_function.csv')\n",
    "\n",
    "binwidth = massbins[0][1][1] - massbins[0][1][0]\n",
    "\n",
    "# Do simple counting.\n",
    "#simple_counts = []\n",
    "#for n in np.arange(hierarchical_mass.nbins):\n",
    "#    a1 = np.exp(allbins[n][0][0])\n",
    "#    a2 = np.exp(allbins[n][0][1])\n",
    "#    npl = len(planets.query('mass >= 0.1 and axis >= @a1 and axis < @a2'))\n",
    "#    simple_counts.append(npl)    \n",
    "#simple_counts = np.array(simple_counts)*(100/719)/binwidth\n",
    "\n",
    "m_chains = np.empty((0, len(chains_db)))\n",
    "for n in np.arange(hierarchical_mass.nbins):\n",
    "    m_chains = np.append(m_chains, np.array([chains_db['gamma{}'.format(n)]]), axis=0)\n",
    "m_chains *= hierarchical_mass.bin_areas[0][0]*(100/719)#/binwidth\n",
    "\n",
    "# Record modes & medians.\n",
    "a_medians = np.median(m_chains, axis=1)\n",
    "m_sqvars  = np.std(m_chains, axis=1)\n",
    "m_modes = []\n",
    "m_159 = []\n",
    "m_841 = []\n",
    "m_682 = []\n",
    "\n",
    "for n in np.arange(hierarchical_mass.nbins):\n",
    "    chains = np.array([chains_db['gamma{}'.format(n)]])*hierarchical_mass.bin_areas[0][0]*(100/719)\n",
    "    hist, bin_edges = np.histogram(chains, bins=40, range=(np.percentile(chains, 2), np.percentile(chains, 95)))\n",
    "    m_modes.append(bin_edges[np.argmax(hist)])\n",
    "    m_159.append(np.percentile(chains, 15.9))\n",
    "    m_841.append(np.percentile(chains, 84.1))\n",
    "    m_682.append(np.percentile(chains, 68.2))\n",
    "m_modes = np.array(m_modes)#/binwidth\n",
    "m_159 = np.array(m_159)#/binwidth\n",
    "m_841 = np.array(m_841)#/binwidth\n",
    "m_682 = np.array(m_682)#/binwidth\n",
    "\n",
    "fig, ax = plt.subplots()\n",
    "ax.set_xscale('log')\n",
    "ax.set_xticks((30, 90, 300, 900, 3000))\n",
    "ax.get_xaxis().set_major_formatter(matplotlib.ticker.ScalarFormatter())\n",
    "ax.get_xaxis().set_minor_formatter(matplotlib.ticker.NullFormatter())\n",
    "\n",
    "ax.set_xlabel(r'$M$sin$i$ ($M_{\\oplus}$)')\n",
    "ax.set_ylabel(r'$N_P$ / 100 stars (1 - 5 au)')\n",
    "#ax.set_ylabel(r'$N_P$ / 100 stars / $\\Delta$ln($M$sin$i$) (0.8 - 5 au)')\n",
    "ax.set_xlim([np.exp(hierarchical_mass.lnm_edges[0]), np.exp(hierarchical_mass.lnm_edges[-1])])\n",
    "ax.set_ylim([0, 10])\n",
    "lnmw = hierarchical_mass.lnm_edges[1] - hierarchical_mass.lnm_edges[0]\n",
    "\n",
    "# Plot just-counting, no-completeness histogram.\n",
    "#ax.step(np.insert(np.exp(hierarchical_mass.lna_edges[:-1] + lnaw), 0, np.exp(hierarchical_mass.lna_edges[0])), \n",
    "#        np.insert(simple_counts, 0, simple_counts[0]), lw=2, c='blue', linestyle=':', label='Count')\n",
    "\n",
    "# Plot mode & 68.2% CI.\n",
    "ax.scatter(np.exp(hierarchical_mass.lnm_edges[:-1] + 0.5*lnmw), m_modes,\n",
    "           color='black', s=30, label='_nolegend_')#label='Occurrence mode & CI')\n",
    "ax.vlines(np.exp(hierarchical_mass.lnm_edges[:-1] + 0.5*lnmw), m_159,\n",
    "          m_841, alpha=0.5, color='black', lw=3, label='68.2%')\n",
    "\n",
    "# Plot occurrence histogram.\n",
    "ax.step(np.insert(np.exp(hierarchical_mass.lnm_edges[:-1] + lnmw), 0, np.exp(hierarchical_mass.lnm_edges[0])), \n",
    "        np.insert(m_modes, 0, m_modes[0]), color='black', lw=2, label='Occurrence')\n",
    " \n",
    "ax.legend(loc=1, fontsize=12) \n",
    "\n",
    "fig.savefig('plots/beyond_ice_line_mass_function.png', dpi=1000, bbox_inches='tight')\n",
    "fig.savefig('plots/beyond_ice_line_mass_function.pdf', bbox_inches='tight')"
   ]
  },
  {
   "cell_type": "code",
   "execution_count": 17,
   "metadata": {},
   "outputs": [],
   "source": [
    "#massbins_close = lngrid(0.03, 1, 30., 3000, 1, 4) \n",
    "massbins_close = lngrid(0.2, 1, 30., 3000, 1, 4) \n",
    "hierarchical_mass_close = Hierarchy(samples_all, completey_all, bins=massbins_close, chainname='chains/occur_chains_mass_function_close.csv')\n",
    "hierarchical_mass_close.max_like()"
   ]
  },
  {
   "cell_type": "code",
   "execution_count": 99,
   "metadata": {},
   "outputs": [
    {
     "name": "stderr",
     "output_type": "stream",
     "text": [
      "100%|██████████| 1000/1000 [17:21<00:00,  1.04s/it]\n"
     ]
    }
   ],
   "source": [
    "hierarchical_mass_close.sample()"
   ]
  },
  {
   "cell_type": "code",
   "execution_count": 101,
   "metadata": {},
   "outputs": [
    {
     "data": {
      "image/png": "[encoded data removed]",
      "text/plain": [
       "<Figure size 432x288 with 1 Axes>"
      ]
     },
     "metadata": {
      "needs_background": "light"
     },
     "output_type": "display_data"
    }
   ],
   "source": [
    "matplotlib.rcParams.update({'font.size': 14})\n",
    "chains_db = pd.read_csv('chains/occur_chains_mass_function_close.csv')\n",
    "\n",
    "binwidth = massbins[0][1][1] - massbins[0][1][0]\n",
    "\n",
    "m_chains = np.empty((0, len(chains_db)))\n",
    "for n in np.arange(hierarchical_mass.nbins):\n",
    "    m_chains = np.append(m_chains, np.array([chains_db['gamma{}'.format(n)]]), axis=0)\n",
    "m_chains *= hierarchical_mass.bin_areas[0][0]*(100/719)#/binwidth\n",
    "\n",
    "# Record modes & medians.\n",
    "a_medians = np.median(m_chains, axis=1)\n",
    "m_sqvars  = np.std(m_chains, axis=1)\n",
    "m_modes = []\n",
    "m_159 = []\n",
    "m_841 = []\n",
    "m_682 = []\n",
    "\n",
    "for n in np.arange(hierarchical_mass.nbins):\n",
    "    chains = np.array([chains_db['gamma{}'.format(n)]])*hierarchical_mass.bin_areas[0][0]*(100/719)\n",
    "    hist, bin_edges = np.histogram(chains, bins=40, range=(np.percentile(chains, 2), np.percentile(chains, 95)))\n",
    "    m_modes.append(bin_edges[np.argmax(hist)])\n",
    "    m_159.append(np.percentile(chains, 15.9))\n",
    "    m_841.append(np.percentile(chains, 84.1))\n",
    "    m_682.append(np.percentile(chains, 68.2))\n",
    "m_modes = np.array(m_modes)#/binwidth\n",
    "m_159 = np.array(m_159)#/binwidth\n",
    "m_841 = np.array(m_841)#/binwidth\n",
    "m_682 = np.array(m_682)#/binwidth\n",
    "\n",
    "#pdb.set_trace()\n",
    "\n",
    "fig, ax = plt.subplots()\n",
    "ax.set_xscale('log')\n",
    "ax.set_xticks((30, 90, 300, 900, 3000))\n",
    "ax.get_xaxis().set_major_formatter(matplotlib.ticker.ScalarFormatter())\n",
    "ax.get_xaxis().set_minor_formatter(matplotlib.ticker.NullFormatter())\n",
    "\n",
    "ax.set_xlabel(r'$M$sin$i$ ($M_{\\oplus}$)')\n",
    "ax.set_ylabel(r'$N_P$ / 100 stars (0.03 - 1 au)')\n",
    "#ax.set_ylabel(r'$N_P$ / 100 stars / $\\Delta$ln($M$sin$i$) (0.8 - 5 au)')\n",
    "ax.set_xlim([np.exp(hierarchical_mass.lnm_edges[0]), np.exp(hierarchical_mass.lnm_edges[-1])])\n",
    "ax.set_ylim([0, 3])\n",
    "lnmw = hierarchical_mass.lnm_edges[1] - hierarchical_mass.lnm_edges[0]\n",
    "\n",
    "# Plot just-counting, no-completeness histogram.\n",
    "#ax.step(np.insert(np.exp(hierarchical_mass.lna_edges[:-1] + lnaw), 0, np.exp(hierarchical_mass.lna_edges[0])), \n",
    "#        np.insert(simple_counts, 0, simple_counts[0]), lw=2, c='blue', linestyle=':', label='Count')\n",
    "\n",
    "# Plot mode & 68.2% CI.\n",
    "ax.scatter(np.exp(hierarchical_mass.lnm_edges[:-1] + 0.5*lnmw), m_modes,\n",
    "           color='black', s=30, label='_nolegend_')#label='Occurrence mode & CI')\n",
    "ax.vlines(np.exp(hierarchical_mass.lnm_edges[:-1] + 0.5*lnmw), m_159,\n",
    "          m_841, alpha=0.5, color='black', lw=3, label='68.2%')\n",
    "\n",
    "# Plot occurrence histogram.\n",
    "ax.step(np.insert(np.exp(hierarchical_mass.lnm_edges[:-1] + lnmw), 0, np.exp(hierarchical_mass.lnm_edges[0])), \n",
    "        np.insert(m_modes, 0, m_modes[0]), color='black', lw=2, label='Occurrence')\n",
    " \n",
    "ax.legend(loc=1, fontsize=12) \n",
    "\n",
    "fig.savefig('plots/beyond_ice_line_mass_function_close.png', dpi=1000, bbox_inches='tight')\n",
    "fig.savefig('plots/beyond_ice_line_mass_function_close.pdf', bbox_inches='tight')"
   ]
  },
  {
   "cell_type": "code",
   "execution_count": 18,
   "metadata": {},
   "outputs": [
    {
     "data": {
      "image/png": "[encoded data removed]",
      "text/plain": [
       "<Figure size 432x288 with 1 Axes>"
      ]
     },
     "metadata": {
      "needs_background": "light"
     },
     "output_type": "display_data"
    }
   ],
   "source": [
    "matplotlib.rcParams.update({'font.size': 14})\n",
    "chains_db = pd.read_csv('chains/occur_chains_mass_function.csv')\n",
    "chains_db_close = pd.read_csv('chains/occur_chains_mass_function_close.csv')\n",
    "\n",
    "binwidth = massbins[0][1][1] - massbins[0][1][0]\n",
    "\n",
    "# Do simple counting.\n",
    "#simple_counts = []\n",
    "#for n in np.arange(hierarchical_mass.nbins):\n",
    "#    a1 = np.exp(allbins[n][0][0])\n",
    "#    a2 = np.exp(allbins[n][0][1])\n",
    "#    npl = len(planets.query('mass >= 0.1 and axis >= @a1 and axis < @a2'))\n",
    "#    simple_counts.append(npl)    \n",
    "#simple_counts = np.array(simple_counts)*(100/719)/binwidth\n",
    "\n",
    "m_chains = np.empty((0, len(chains_db)))\n",
    "for n in np.arange(hierarchical_mass.nbins):\n",
    "    m_chains = np.append(m_chains, np.array([chains_db['gamma{}'.format(n)]]), axis=0)\n",
    "m_chains *= hierarchical_mass.bin_areas[0][0]*(100/719)#/binwidth\n",
    "\n",
    "# Record modes & medians.\n",
    "a_medians = np.median(m_chains, axis=1)\n",
    "m_sqvars  = np.std(m_chains, axis=1)\n",
    "m_modes = []\n",
    "m_159 = []\n",
    "m_841 = []\n",
    "m_682 = []\n",
    "\n",
    "for n in np.arange(hierarchical_mass.nbins):\n",
    "    chains = np.array([chains_db['gamma{}'.format(n)]])*hierarchical_mass.bin_areas[0][0]*(100/719)\n",
    "    hist, bin_edges = np.histogram(chains, bins=40, range=(np.percentile(chains, 2), np.percentile(chains, 95)))\n",
    "    m_modes.append(bin_edges[np.argmax(hist)])\n",
    "    m_159.append(np.percentile(chains, 15.9))\n",
    "    m_841.append(np.percentile(chains, 84.1))\n",
    "    m_682.append(np.percentile(chains, 68.2))\n",
    "m_modes = np.array(m_modes)#/binwidth\n",
    "m_159 = np.array(m_159)#/binwidth\n",
    "m_841 = np.array(m_841)#/binwidth\n",
    "m_682 = np.array(m_682)#/binwidth\n",
    "\n",
    "#pdb.set_trace()\n",
    "\n",
    "fig, ax = plt.subplots()\n",
    "ax.set_xscale('log')\n",
    "ax.set_xticks((30, 90, 300, 900, 3000))\n",
    "ax.get_xaxis().set_major_formatter(matplotlib.ticker.ScalarFormatter())\n",
    "ax.get_xaxis().set_minor_formatter(matplotlib.ticker.NullFormatter())\n",
    "\n",
    "ax.set_xlabel(r'$M$sin$i$ ($M_{\\oplus}$)')\n",
    "ax.set_ylabel(r'$N_P$ / 100 stars (1 - 5 au)')\n",
    "#ax.set_ylabel(r'$N_P$ / 100 stars / $\\Delta$ln($M$sin$i$) (0.8 - 5 au)')\n",
    "ax.set_xlim([np.exp(hierarchical_mass.lnm_edges[0]), np.exp(hierarchical_mass.lnm_edges[-1])])\n",
    "ax.set_ylim([0, 10])\n",
    "lnmw = hierarchical_mass.lnm_edges[1] - hierarchical_mass.lnm_edges[0]\n",
    "\n",
    "# Plot just-counting, no-completeness histogram.\n",
    "#ax.step(np.insert(np.exp(hierarchical_mass.lna_edges[:-1] + lnaw), 0, np.exp(hierarchical_mass.lna_edges[0])), \n",
    "#        np.insert(simple_counts, 0, simple_counts[0]), lw=2, c='blue', linestyle=':', label='Count')\n",
    "\n",
    "# Plot mode & 68.2% CI.\n",
    "ax.scatter(np.exp(hierarchical_mass.lnm_edges[:-1] + 0.5*lnmw), m_modes,\n",
    "           color='black', s=30, label='_nolegend_')#label='Occurrence mode & CI')\n",
    "ax.vlines(np.exp(hierarchical_mass.lnm_edges[:-1] + 0.5*lnmw), m_159,\n",
    "          m_841, alpha=0.5, color='black', lw=3, label='_nolegend_')\n",
    "\n",
    "# Plot occurrence histogram.\n",
    "ax.step(np.insert(np.exp(hierarchical_mass.lnm_edges[:-1] + lnmw), 0, np.exp(hierarchical_mass.lnm_edges[0])), \n",
    "        np.insert(m_modes, 0, m_modes[0]), color='magenta', lw=2, label=r'1 -- 5 au')\n",
    " \n",
    "    \n",
    "\n",
    "m_chains = np.empty((0, len(chains_db_close)))\n",
    "for n in np.arange(hierarchical_mass_close.nbins):\n",
    "    m_chains = np.append(m_chains, np.array([chains_db_close['gamma{}'.format(n)]]), axis=0)\n",
    "m_chains *= hierarchical_mass_close.bin_areas[0][0]*(100/719)#/binwidth\n",
    "\n",
    "# Record modes & medians.\n",
    "a_medians = np.median(m_chains, axis=1)\n",
    "m_sqvars  = np.std(m_chains, axis=1)\n",
    "m_modes = []\n",
    "m_159 = []\n",
    "m_841 = []\n",
    "m_682 = []\n",
    "\n",
    "for n in np.arange(hierarchical_mass_close.nbins):\n",
    "    chains = np.array([chains_db_close['gamma{}'.format(n)]])*hierarchical_mass_close.bin_areas[0][0]*(100/719)\n",
    "    hist, bin_edges = np.histogram(chains, bins=40, range=(np.percentile(chains, 2), np.percentile(chains, 95)))\n",
    "    m_modes.append(bin_edges[np.argmax(hist)])\n",
    "    m_159.append(np.percentile(chains, 15.9))\n",
    "    m_841.append(np.percentile(chains, 84.1))\n",
    "    m_682.append(np.percentile(chains, 68.2))\n",
    "m_modes = np.array(m_modes)#/binwidth\n",
    "m_159 = np.array(m_159)#/binwidth\n",
    "m_841 = np.array(m_841)#/binwidth\n",
    "m_682 = np.array(m_682)#/binwidth\n",
    "\n",
    "ax.set_xlim([np.exp(hierarchical_mass_close.lnm_edges[0]), np.exp(hierarchical_mass_close.lnm_edges[-1])])\n",
    "ax.set_ylim([0, 10])\n",
    "lnmw = hierarchical_mass_close.lnm_edges[1] - hierarchical_mass_close.lnm_edges[0]\n",
    "\n",
    "# Plot mode & 68.2% CI.\n",
    "ax.scatter(np.exp(hierarchical_mass_close.lnm_edges[:-1] + 0.5*lnmw), m_modes,\n",
    "           color='black', s=30, label='_nolegend_')#label='Occurrence mode & CI')\n",
    "ax.vlines(np.exp(hierarchical_mass_close.lnm_edges[:-1] + 0.5*lnmw), m_159,\n",
    "          m_841, alpha=0.5, color='black', lw=3, label='_nolegend_')\n",
    "\n",
    "# Plot occurrence histogram.\n",
    "ax.step(np.insert(np.exp(hierarchical_mass_close.lnm_edges[:-1] + lnmw), 0, np.exp(hierarchical_mass_close.lnm_edges[0])), \n",
    "        np.insert(m_modes, 0, m_modes[0]), color='red', lw=2, label=r'0.03 -- 1 au')    \n",
    "    \n",
    "    \n",
    "ax.legend(loc=1, fontsize=12) \n",
    "fig.savefig('plots/beyond_and_within_ice_line_mass_function.png', dpi=1000, bbox_inches='tight')\n",
    "fig.savefig('plots/beyond_and_within_ice_line_mass_function.pdf', bbox_inches='tight')"
   ]
  },
  {
   "cell_type": "code",
   "execution_count": 39,
   "metadata": {},
   "outputs": [],
   "source": [
    "massbins_kepler = lngrid(1.5, 9, 3., 6000, 1, 1) \n",
    "hierarchical_kepler = Hierarchy(samples_all, completey_all, bins=massbins_kepler, chainname='chains/occur_chains_kepler_dfm16.csv')\n",
    "hierarchical_kepler.max_like()"
   ]
  },
  {
   "cell_type": "code",
   "execution_count": 40,
   "metadata": {},
   "outputs": [
    {
     "name": "stderr",
     "output_type": "stream",
     "text": [
      "100%|██████████| 1000/1000 [03:36<00:00,  4.61it/s]\n"
     ]
    }
   ],
   "source": [
    "hierarchical_kepler.sample()"
   ]
  },
  {
   "cell_type": "code",
   "execution_count": 41,
   "metadata": {},
   "outputs": [
    {
     "data": {
      "text/plain": [
       "0.017294861216840367"
      ]
     },
     "execution_count": 41,
     "metadata": {},
     "output_type": "execute_result"
    }
   ],
   "source": [
    "np.median(hierarchical_kepler.chains/719)"
   ]
  },
  {
   "cell_type": "code",
   "execution_count": 42,
   "metadata": {},
   "outputs": [
    {
     "data": {
      "text/plain": [
       "0.002226003557083026"
      ]
     },
     "execution_count": 42,
     "metadata": {},
     "output_type": "execute_result"
    }
   ],
   "source": [
    "np.std(hierarchical_kepler.chains/719)"
   ]
  },
  {
   "cell_type": "code",
   "execution_count": null,
   "metadata": {},
   "outputs": [],
   "source": []
  }
 ],
 "metadata": {
  "kernelspec": {
   "display_name": "Python 3",
   "language": "python",
   "name": "python3"
  },
  "language_info": {
   "codemirror_mode": {
    "name": "ipython",
    "version": 3
   },
   "file_extension": ".py",
   "mimetype": "text/x-python",
   "name": "python",
   "nbconvert_exporter": "python",
   "pygments_lexer": "ipython3",
   "version": "3.7.5"
  }
 },
 "nbformat": 4,
 "nbformat_minor": 2
}
